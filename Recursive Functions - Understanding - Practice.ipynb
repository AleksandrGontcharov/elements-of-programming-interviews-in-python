{
 "cells": [
  {
   "cell_type": "markdown",
   "metadata": {},
   "source": [
    "### Steps:\n",
    " 1. Understand the problem\n",
    " 2. Sketch a solution with pen and paper - think of test cases\n",
    " 3. Write test cases in order of complexity\n",
    " 4. Iterate to think of the solution"
   ]
  },
  {
   "cell_type": "markdown",
   "metadata": {},
   "source": [
    "### Function\n",
    "___"
   ]
  },
  {
   "cell_type": "code",
   "execution_count": 13,
   "metadata": {},
   "outputs": [],
   "source": [
    "def fib(n):\n",
    "    ''' return the nth fibbonacci number\n",
    "    >>> fib(3)\n",
    "    2\n",
    "    >>> fib(4)\n",
    "    3\n",
    "    >>> fib(5)\n",
    "    5\n",
    "    '''\n",
    "\n",
    "    if n in [1, 2]:\n",
    "        return 1\n",
    "    else:\n",
    "        return fib(n - 1) + fib(n - 2)"
   ]
  },
  {
   "cell_type": "code",
   "execution_count": 12,
   "metadata": {},
   "outputs": [
    {
     "name": "stdout",
     "output_type": "stream",
     "text": [
      "1 1\n",
      "2 1\n",
      "3 2\n",
      "4 3\n",
      "5 5\n",
      "6 8\n",
      "7 13\n",
      "8 21\n",
      "9 34\n",
      "10 55\n"
     ]
    }
   ],
   "source": [
    "for i in range(10):\n",
    "    print(i+1, fib(i+1))"
   ]
  },
  {
   "cell_type": "code",
   "execution_count": 1,
   "metadata": {},
   "outputs": [
    {
     "name": "stdout",
     "output_type": "stream",
     "text": [
      "h\n",
      "he\n",
      "hel\n",
      "hell\n",
      "hello\n"
     ]
    }
   ],
   "source": [
    "def recursive_print(string):\n",
    "    if len(string) == 0:\n",
    "        return\n",
    "    \n",
    "    recursive_print(string[:-1])\n",
    "    print(string)\n",
    "    return \n",
    "\n",
    "recursive_print(\"hello\")"
   ]
  },
  {
   "cell_type": "markdown",
   "metadata": {},
   "source": [
    "### Test\n",
    "___"
   ]
  },
  {
   "cell_type": "code",
   "execution_count": 14,
   "metadata": {},
   "outputs": [],
   "source": [
    "def factorial(n):\n",
    "    if n == 1:\n",
    "        return 1\n",
    "    else:\n",
    "        return n*factorial(n-1)\n",
    "    \n"
   ]
  },
  {
   "cell_type": "code",
   "execution_count": 17,
   "metadata": {
    "scrolled": true
   },
   "outputs": [
    {
     "name": "stdout",
     "output_type": "stream",
     "text": [
      "1 1\n",
      "2 2\n",
      "3 6\n",
      "4 24\n",
      "5 120\n",
      "6 720\n",
      "7 5040\n",
      "8 40320\n",
      "9 362880\n",
      "10 3628800\n"
     ]
    }
   ],
   "source": [
    "for i in range(10):\n",
    "    print(i+1, factorial(i+1))"
   ]
  },
  {
   "cell_type": "markdown",
   "metadata": {},
   "source": [
    "# Write a function that prints all the subsets of a list"
   ]
  },
  {
   "cell_type": "code",
   "execution_count": 22,
   "metadata": {},
   "outputs": [
    {
     "data": {
      "text/plain": [
       "['', '', '']"
      ]
     },
     "execution_count": 22,
     "metadata": {},
     "output_type": "execute_result"
    }
   ],
   "source": [
    "[\"\"] * len(L)"
   ]
  },
  {
   "cell_type": "code",
   "execution_count": 32,
   "metadata": {},
   "outputs": [
    {
     "data": {
      "text/plain": [
       "'1 2 3'"
      ]
     },
     "execution_count": 32,
     "metadata": {},
     "output_type": "execute_result"
    }
   ],
   "source": [
    "\" \".join(['1','2',\"3\"])"
   ]
  },
  {
   "cell_type": "code",
   "execution_count": 38,
   "metadata": {},
   "outputs": [],
   "source": [
    "def subsets(L):\n",
    "    subset = [\"\"] * len(L)\n",
    "    helper(L, subset, 0)\n",
    "\n",
    "\n",
    "def helper(L, subset, i):\n",
    "    # base case\n",
    "    if i == len(L):\n",
    "        print(\"\".join([str(item) for item in subset]))\n",
    "    # recursive case\n",
    "    else:\n",
    "        # subset with i'th element of L\n",
    "        subset[i] = L[i]\n",
    "        helper(L, subset, i + 1)\n",
    "        subset[i] = \"\"\n",
    "        # subset without i'th element of L\n",
    "        helper(L, subset, i + 1)"
   ]
  },
  {
   "cell_type": "code",
   "execution_count": 39,
   "metadata": {},
   "outputs": [],
   "source": [
    "L = [1, 2, 3]"
   ]
  },
  {
   "cell_type": "code",
   "execution_count": 40,
   "metadata": {},
   "outputs": [
    {
     "name": "stdout",
     "output_type": "stream",
     "text": [
      "123\n",
      "12\n",
      "13\n",
      "1\n",
      "23\n",
      "2\n",
      "3\n",
      "\n"
     ]
    }
   ],
   "source": [
    "subsets(L)"
   ]
  },
  {
   "cell_type": "code",
   "execution_count": null,
   "metadata": {},
   "outputs": [],
   "source": []
  }
 ],
 "metadata": {
  "kernelspec": {
   "display_name": "Python 3",
   "language": "python",
   "name": "python3"
  },
  "language_info": {
   "codemirror_mode": {
    "name": "ipython",
    "version": 3
   },
   "file_extension": ".py",
   "mimetype": "text/x-python",
   "name": "python",
   "nbconvert_exporter": "python",
   "pygments_lexer": "ipython3",
   "version": "3.8.2"
  },
  "varInspector": {
   "cols": {
    "lenName": 16,
    "lenType": 16,
    "lenVar": 40
   },
   "kernels_config": {
    "python": {
     "delete_cmd_postfix": "",
     "delete_cmd_prefix": "del ",
     "library": "var_list.py",
     "varRefreshCmd": "print(var_dic_list())"
    },
    "r": {
     "delete_cmd_postfix": ") ",
     "delete_cmd_prefix": "rm(",
     "library": "var_list.r",
     "varRefreshCmd": "cat(var_dic_list()) "
    }
   },
   "types_to_exclude": [
    "module",
    "function",
    "builtin_function_or_method",
    "instance",
    "_Feature"
   ],
   "window_display": false
  }
 },
 "nbformat": 4,
 "nbformat_minor": 4
}
