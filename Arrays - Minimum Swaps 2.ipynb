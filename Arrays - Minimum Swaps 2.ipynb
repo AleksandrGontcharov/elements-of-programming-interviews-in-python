{
 "cells": [
  {
   "cell_type": "markdown",
   "metadata": {},
   "source": [
    "### Steps:\n",
    " 1. Understand the problem\n",
    " 2. Sketch a solution with pen and paper - think of test cases\n",
    " 3. Write test cases in order of complexity\n",
    " 4. Iterate to think of the solution"
   ]
  },
  {
   "cell_type": "markdown",
   "metadata": {},
   "source": [
    "### Function\n",
    "___"
   ]
  },
  {
   "cell_type": "code",
   "execution_count": 158,
   "metadata": {},
   "outputs": [
    {
     "data": {
      "text/plain": [
       "[0, 0, 0, 0, 0, 0, 0, 0]"
      ]
     },
     "execution_count": 158,
     "metadata": {},
     "output_type": "execute_result"
    }
   ],
   "source": [
    "[0] * (7 + 1)"
   ]
  },
  {
   "cell_type": "code",
   "execution_count": 168,
   "metadata": {},
   "outputs": [],
   "source": [
    "## correct solution\n",
    "def minimumSwaps(L):\n",
    "    # create a list of zeros of same length as L\n",
    "    print(L)\n",
    "    temp = [0] * (len(L) + 1)\n",
    "    print(temp)\n",
    "    for index, value in enumerate(L):\n",
    "        temp[value] = index\n",
    "        index += 1\n",
    "    print(temp)\n",
    "    \n",
    "    counter = 0\n",
    "    \n",
    "    \n",
    "    for i in range(len(L)):\n",
    "        if L[i] != i+1:\n",
    "            counter += 1\n",
    "            t = L[i]\n",
    "            L[i] = i+1\n",
    "            L[temp[i+1]] = t\n",
    "            temp[t] = temp[i+1]\n",
    "    return counter"
   ]
  },
  {
   "cell_type": "code",
   "execution_count": 169,
   "metadata": {},
   "outputs": [
    {
     "name": "stdout",
     "output_type": "stream",
     "text": [
      "should be 2\n",
      "[7, 2, 3, 5, 4, 6, 1]\n",
      "[0, 0, 0, 0, 0, 0, 0, 0]\n",
      "[0, 6, 1, 2, 4, 3, 5, 0]\n"
     ]
    },
    {
     "data": {
      "text/plain": [
       "2"
      ]
     },
     "execution_count": 169,
     "metadata": {},
     "output_type": "execute_result"
    }
   ],
   "source": [
    "L = [7,2,3,5,4,6,1]\n",
    "print(\"should be 2\")\n",
    "minimumSwaps(L)"
   ]
  },
  {
   "cell_type": "code",
   "execution_count": 1,
   "metadata": {},
   "outputs": [],
   "source": [
    "def minimumSwaps(L):\n",
    "    L = [L[i] for i in range(len(L)) if L[i] != i+1]\n",
    "\n",
    "    \n",
    "    counter = 0\n",
    "    \n",
    "    L_sorted = sorted(L)\n",
    "    if L == L_sorted:\n",
    "        return counter\n",
    "    \n",
    "    n = len(L)\n",
    "    \n",
    "    \n",
    "    for i in range(n - 1):\n",
    "        current_min = i\n",
    "        for j in range(i + 1, n):   \n",
    "            if L[j] < L[current_min]:\n",
    "                current_min = j\n",
    "\n",
    "        if i != current_min:\n",
    "            counter += 1\n",
    "            L[i], L[current_min] =  L[current_min], L[i] \n",
    "                \n",
    "\n",
    "    return counter"
   ]
  },
  {
   "cell_type": "code",
   "execution_count": null,
   "metadata": {},
   "outputs": [],
   "source": []
  },
  {
   "cell_type": "code",
   "execution_count": 96,
   "metadata": {},
   "outputs": [],
   "source": [
    "def minimumSwaps(L):\n",
    "\n",
    "    good_indices = []\n",
    "    \n",
    "    n = len(L)\n",
    "    counter = 0\n",
    "    \n",
    "    for i in range(n - 1):\n",
    "        \n",
    "        current_min = i\n",
    "        if L[i] == i + 1:\n",
    "            continue\n",
    "        \n",
    "        my_range = range(i + 1, n)\n",
    "        my_range = [elem for elem in my_range if elem not in good_indices]\n",
    "\n",
    "        print(\"iteration\",i,list(my_range))\n",
    "        for j in my_range: \n",
    "            \n",
    "            if L[j] == j + 1:\n",
    "                print(\"adding good index\", j)\n",
    "                good_indices.append(j)\n",
    "            \n",
    "            if L[j] < L[current_min]:\n",
    "                current_min = j\n",
    "\n",
    "        if i != current_min:\n",
    "            counter += 1\n",
    "            L[i], L[current_min] =  L[current_min], L[i] \n",
    "                \n",
    "\n",
    "    return counter,good_indices"
   ]
  },
  {
   "cell_type": "code",
   "execution_count": 97,
   "metadata": {},
   "outputs": [
    {
     "name": "stdout",
     "output_type": "stream",
     "text": [
      "[1, 2, 3, 4]\n"
     ]
    }
   ],
   "source": [
    "my_range = range(1, 5)\n",
    "print(list(my_range))"
   ]
  },
  {
   "cell_type": "code",
   "execution_count": 98,
   "metadata": {},
   "outputs": [
    {
     "name": "stdout",
     "output_type": "stream",
     "text": [
      "should be 0\n"
     ]
    },
    {
     "data": {
      "text/plain": [
       "(0, [])"
      ]
     },
     "execution_count": 98,
     "metadata": {},
     "output_type": "execute_result"
    }
   ],
   "source": [
    "L = [1,2,3,4,5,6,7]\n",
    "print(\"should be 0\")\n",
    "minimumSwaps(L)"
   ]
  },
  {
   "cell_type": "code",
   "execution_count": 100,
   "metadata": {},
   "outputs": [
    {
     "name": "stdout",
     "output_type": "stream",
     "text": [
      "should be 2\n",
      "iteration 0 [1, 2, 3, 4, 5, 6]\n",
      "adding good index 1\n",
      "adding good index 2\n",
      "adding good index 5\n",
      "iteration 3 [4, 6]\n",
      "adding good index 6\n"
     ]
    },
    {
     "data": {
      "text/plain": [
       "(2, [1, 2, 5, 6])"
      ]
     },
     "execution_count": 100,
     "metadata": {},
     "output_type": "execute_result"
    }
   ],
   "source": [
    "L = [7,2,3,5,4,6,1]\n",
    "print(\"should be 2\")\n",
    "minimumSwaps(L)"
   ]
  },
  {
   "cell_type": "code",
   "execution_count": null,
   "metadata": {},
   "outputs": [],
   "source": []
  },
  {
   "cell_type": "code",
   "execution_count": null,
   "metadata": {},
   "outputs": [],
   "source": []
  },
  {
   "cell_type": "code",
   "execution_count": 32,
   "metadata": {},
   "outputs": [],
   "source": [
    "def minimumSwaps(L):\n",
    "\n",
    "   \n",
    "    n = len(L)\n",
    "    counter = 0\n",
    "    \n",
    "    good_indices = []\n",
    "\n",
    "    for i in range(n - 1):\n",
    "        \n",
    "        if L[i] == i + 1:\n",
    "            continue\n",
    "        \n",
    "        current_min = i\n",
    "        my_range = range(i + 1, n)\n",
    "        my_range = [elem for elem in my_range if elem not in good_indices]\n",
    "        for j in my_range:  \n",
    "            \n",
    "            if L[j] == j + 1:\n",
    "                good_indices.append(j)\n",
    "            elif L[j] < L[current_min]:\n",
    "                current_min = j\n",
    "\n",
    "        if i != current_min:\n",
    "            counter += 1\n",
    "            L[i], L[current_min] =  L[current_min], L[i] \n",
    "            # after swapping, if new element is in the right spot then pop them from the list\n",
    "            if L[i] == i + 1:\n",
    "                L.pop(i)\n",
    "                \n",
    "\n",
    "    return counter"
   ]
  },
  {
   "cell_type": "code",
   "execution_count": 33,
   "metadata": {},
   "outputs": [
    {
     "data": {
      "text/plain": [
       "[2, 3, 4, 5, 6, 7, 8, 9, 10, 11, 12, 13, 14, 15, 16, 17, 18, 19]"
      ]
     },
     "execution_count": 33,
     "metadata": {},
     "output_type": "execute_result"
    }
   ],
   "source": [
    "my_range = list(range(2,20))\n",
    "my_range"
   ]
  },
  {
   "cell_type": "code",
   "execution_count": 25,
   "metadata": {},
   "outputs": [],
   "source": [
    "good_indices = [5,6,19]"
   ]
  },
  {
   "cell_type": "code",
   "execution_count": 26,
   "metadata": {},
   "outputs": [],
   "source": [
    "my_range = [elem for elem in my_range if elem not in good_indices]"
   ]
  },
  {
   "cell_type": "code",
   "execution_count": null,
   "metadata": {},
   "outputs": [],
   "source": []
  },
  {
   "cell_type": "code",
   "execution_count": null,
   "metadata": {},
   "outputs": [],
   "source": []
  },
  {
   "cell_type": "markdown",
   "metadata": {},
   "source": [
    "### Test\n",
    "___"
   ]
  },
  {
   "cell_type": "code",
   "execution_count": 27,
   "metadata": {},
   "outputs": [
    {
     "name": "stdout",
     "output_type": "stream",
     "text": [
      "should be 0\n"
     ]
    },
    {
     "data": {
      "text/plain": [
       "0"
      ]
     },
     "execution_count": 27,
     "metadata": {},
     "output_type": "execute_result"
    }
   ],
   "source": [
    "L = [1,2,3,4,5,6,7]\n",
    "print(\"should be 0\")\n",
    "minimumSwaps(L)"
   ]
  },
  {
   "cell_type": "code",
   "execution_count": 30,
   "metadata": {},
   "outputs": [
    {
     "name": "stdout",
     "output_type": "stream",
     "text": [
      "should be 3\n"
     ]
    },
    {
     "data": {
      "text/plain": [
       "1"
      ]
     },
     "execution_count": 30,
     "metadata": {},
     "output_type": "execute_result"
    }
   ],
   "source": [
    "L = [1, 3, 5, 2, 4, 6, 7]\n",
    "print(\"should be 3\")\n",
    "minimumSwaps(L)"
   ]
  },
  {
   "cell_type": "code",
   "execution_count": 31,
   "metadata": {},
   "outputs": [
    {
     "name": "stdout",
     "output_type": "stream",
     "text": [
      "should be 1\n"
     ]
    },
    {
     "ename": "IndexError",
     "evalue": "list index out of range",
     "output_type": "error",
     "traceback": [
      "\u001b[1;31m---------------------------------------------------------------------------\u001b[0m",
      "\u001b[1;31mIndexError\u001b[0m                                Traceback (most recent call last)",
      "\u001b[1;32m<ipython-input-31-37d1ae2ba38e>\u001b[0m in \u001b[0;36m<module>\u001b[1;34m\u001b[0m\n\u001b[0;32m      1\u001b[0m \u001b[0mL\u001b[0m \u001b[1;33m=\u001b[0m \u001b[1;33m[\u001b[0m\u001b[1;36m7\u001b[0m\u001b[1;33m,\u001b[0m\u001b[1;36m2\u001b[0m\u001b[1;33m,\u001b[0m\u001b[1;36m3\u001b[0m\u001b[1;33m,\u001b[0m\u001b[1;36m4\u001b[0m\u001b[1;33m,\u001b[0m\u001b[1;36m5\u001b[0m\u001b[1;33m,\u001b[0m\u001b[1;36m6\u001b[0m\u001b[1;33m,\u001b[0m\u001b[1;36m1\u001b[0m\u001b[1;33m]\u001b[0m\u001b[1;33m\u001b[0m\u001b[1;33m\u001b[0m\u001b[0m\n\u001b[0;32m      2\u001b[0m \u001b[0mprint\u001b[0m\u001b[1;33m(\u001b[0m\u001b[1;34m\"should be 1\"\u001b[0m\u001b[1;33m)\u001b[0m\u001b[1;33m\u001b[0m\u001b[1;33m\u001b[0m\u001b[0m\n\u001b[1;32m----> 3\u001b[1;33m \u001b[0mminimumSwaps\u001b[0m\u001b[1;33m(\u001b[0m\u001b[0mL\u001b[0m\u001b[1;33m)\u001b[0m\u001b[1;33m\u001b[0m\u001b[1;33m\u001b[0m\u001b[0m\n\u001b[0m",
      "\u001b[1;32m<ipython-input-23-ad0738061699>\u001b[0m in \u001b[0;36mminimumSwaps\u001b[1;34m(L)\u001b[0m\n\u001b[0;32m     17\u001b[0m         \u001b[1;32mfor\u001b[0m \u001b[0mj\u001b[0m \u001b[1;32min\u001b[0m \u001b[0mmy_range\u001b[0m\u001b[1;33m:\u001b[0m\u001b[1;33m\u001b[0m\u001b[1;33m\u001b[0m\u001b[0m\n\u001b[0;32m     18\u001b[0m \u001b[1;33m\u001b[0m\u001b[0m\n\u001b[1;32m---> 19\u001b[1;33m             \u001b[1;32mif\u001b[0m \u001b[0mL\u001b[0m\u001b[1;33m[\u001b[0m\u001b[0mj\u001b[0m\u001b[1;33m]\u001b[0m \u001b[1;33m==\u001b[0m \u001b[0mj\u001b[0m \u001b[1;33m+\u001b[0m \u001b[1;36m1\u001b[0m\u001b[1;33m:\u001b[0m\u001b[1;33m\u001b[0m\u001b[1;33m\u001b[0m\u001b[0m\n\u001b[0m\u001b[0;32m     20\u001b[0m                 \u001b[0mgood_indices\u001b[0m\u001b[1;33m.\u001b[0m\u001b[0mappend\u001b[0m\u001b[1;33m(\u001b[0m\u001b[0mj\u001b[0m\u001b[1;33m)\u001b[0m\u001b[1;33m\u001b[0m\u001b[1;33m\u001b[0m\u001b[0m\n\u001b[0;32m     21\u001b[0m             \u001b[1;32melif\u001b[0m \u001b[0mL\u001b[0m\u001b[1;33m[\u001b[0m\u001b[0mj\u001b[0m\u001b[1;33m]\u001b[0m \u001b[1;33m<\u001b[0m \u001b[0mL\u001b[0m\u001b[1;33m[\u001b[0m\u001b[0mcurrent_min\u001b[0m\u001b[1;33m]\u001b[0m\u001b[1;33m:\u001b[0m\u001b[1;33m\u001b[0m\u001b[1;33m\u001b[0m\u001b[0m\n",
      "\u001b[1;31mIndexError\u001b[0m: list index out of range"
     ]
    }
   ],
   "source": [
    "L = [7,2,3,4,5,6,1]\n",
    "print(\"should be 1\")\n",
    "minimumSwaps(L)"
   ]
  },
  {
   "cell_type": "code",
   "execution_count": null,
   "metadata": {},
   "outputs": [],
   "source": [
    "L = [7,2,3,4,5,6,1]\n",
    "sublist = [L[i] for i in range(len(L)) if L[i] != i+1]\n",
    "sublist"
   ]
  },
  {
   "cell_type": "code",
   "execution_count": null,
   "metadata": {},
   "outputs": [],
   "source": [
    "L = [7,2,3,5,4,6,1]\n",
    "print(\"should be 2\")\n",
    "minimumSwaps(L)"
   ]
  },
  {
   "cell_type": "code",
   "execution_count": 101,
   "metadata": {},
   "outputs": [
    {
     "data": {
      "text/plain": [
       "[7, 5, 4, 1]"
      ]
     },
     "execution_count": 101,
     "metadata": {},
     "output_type": "execute_result"
    }
   ],
   "source": [
    "L = [7,2,3,5,4,6,1]\n",
    "sublist = [L[i] for i in range(len(L)) if L[i] != i+1]\n",
    "sublist"
   ]
  },
  {
   "cell_type": "code",
   "execution_count": null,
   "metadata": {},
   "outputs": [],
   "source": [
    "L = [7,2,4,3,1,6,5]"
   ]
  },
  {
   "cell_type": "code",
   "execution_count": null,
   "metadata": {},
   "outputs": [],
   "source": [
    "L = [7,2,4,3,1,6,5]\n",
    "sublist = [L[i] for i in range(len(L)) if L[i] != i+1]\n",
    "print(\"should be 3\")\n",
    "minimumSwaps(L) == minimumSwaps(sublist)"
   ]
  },
  {
   "cell_type": "code",
   "execution_count": null,
   "metadata": {},
   "outputs": [],
   "source": []
  },
  {
   "cell_type": "code",
   "execution_count": null,
   "metadata": {},
   "outputs": [],
   "source": [
    "L = [7,2,3,4,5,6,1]\n",
    "print(\"should be 1\")\n",
    "minimumSwaps(L)"
   ]
  },
  {
   "cell_type": "code",
   "execution_count": null,
   "metadata": {},
   "outputs": [],
   "source": [
    "L = [1,3,5,2,4,6,7]\n",
    "print(\"should be 3\")\n",
    "minimumSwaps(L)"
   ]
  },
  {
   "cell_type": "code",
   "execution_count": null,
   "metadata": {},
   "outputs": [],
   "source": [
    "import cProfile"
   ]
  },
  {
   "cell_type": "code",
   "execution_count": null,
   "metadata": {},
   "outputs": [],
   "source": []
  },
  {
   "cell_type": "code",
   "execution_count": null,
   "metadata": {},
   "outputs": [],
   "source": []
  },
  {
   "cell_type": "markdown",
   "metadata": {},
   "source": [
    "## My crazy implementation:"
   ]
  },
  {
   "cell_type": "code",
   "execution_count": 104,
   "metadata": {},
   "outputs": [],
   "source": [
    "def remove_correct_index(L):\n",
    "    L = [L[i] for i in range(len(L)) if L[i] != i+1]\n",
    "    return L"
   ]
  },
  {
   "cell_type": "code",
   "execution_count": 113,
   "metadata": {},
   "outputs": [],
   "source": [
    "def reindex(L):\n",
    "    L_sorted = sorted(L)\n",
    "\n",
    "    re_indexed = [L.index(i)+1 for i in L_sorted]\n",
    "\n",
    "    return re_indexed"
   ]
  },
  {
   "cell_type": "code",
   "execution_count": 146,
   "metadata": {},
   "outputs": [],
   "source": [
    "def minimumSwaps(L):\n",
    "    def reindex(L):\n",
    "        L_sorted = sorted(L)\n",
    "\n",
    "        re_indexed = [L.index(i)+1 for i in L_sorted]\n",
    "\n",
    "        return re_indexed, L_sorted\n",
    "    \n",
    "    def remove_correct_index(L):\n",
    "        L = [L[i] for i in range(len(L)) if L[i] != i+1]\n",
    "        return L\n",
    "    \n",
    "    \n",
    "    L, L_sorted = reindex(remove_correct_index(L))\n",
    "\n",
    "    counter = 0\n",
    "    \n",
    "    if L == L_sorted:\n",
    "        return counter\n",
    "    \n",
    "    n = len(L)\n",
    "    \n",
    "    \n",
    "    \n",
    "        \n",
    "    \n",
    "\n",
    "    for i in range(n - 1):\n",
    "        \n",
    "        \n",
    "        \n",
    "        current_min = i\n",
    "        \n",
    "        \n",
    "        my_range = [elem for elem in range(i + 1, n) if elem not in good_indices]\n",
    "    \n",
    "        good_indices = []\n",
    "    \n",
    "        for j in my_range:  \n",
    "            if L[j] == j + 1:\n",
    "                print(\"adding good index\", j)\n",
    "                good_indices.append(j)\n",
    "            elif L[j] < L[current_min]:\n",
    "                current_min = j\n",
    "\n",
    "        if i != current_min:\n",
    "            if L[i] == i + 1:\n",
    "                print(\"adding good index\", j)\n",
    "                good_indices.append(j)\n",
    "            \n",
    "            counter += 1\n",
    "            L[i], L[current_min] =  L[current_min], L[i] \n",
    "            \n",
    "            \n",
    "                \n",
    "\n",
    "    return counter"
   ]
  },
  {
   "cell_type": "code",
   "execution_count": 147,
   "metadata": {},
   "outputs": [
    {
     "name": "stdout",
     "output_type": "stream",
     "text": [
      "should be 3\n"
     ]
    },
    {
     "data": {
      "text/plain": [
       "3"
      ]
     },
     "execution_count": 147,
     "metadata": {},
     "output_type": "execute_result"
    }
   ],
   "source": [
    "L = [7,2,4,3,1,6,5]\n",
    "sublist = [L[i] for i in range(len(L)) if L[i] != i+1]\n",
    "print(\"should be 3\")\n",
    "minimumSwaps(L)"
   ]
  },
  {
   "cell_type": "code",
   "execution_count": null,
   "metadata": {},
   "outputs": [],
   "source": []
  },
  {
   "cell_type": "code",
   "execution_count": null,
   "metadata": {},
   "outputs": [],
   "source": []
  }
 ],
 "metadata": {
  "kernelspec": {
   "display_name": "Python 3",
   "language": "python",
   "name": "python3"
  },
  "language_info": {
   "codemirror_mode": {
    "name": "ipython",
    "version": 3
   },
   "file_extension": ".py",
   "mimetype": "text/x-python",
   "name": "python",
   "nbconvert_exporter": "python",
   "pygments_lexer": "ipython3",
   "version": "3.8.2"
  }
 },
 "nbformat": 4,
 "nbformat_minor": 4
}
