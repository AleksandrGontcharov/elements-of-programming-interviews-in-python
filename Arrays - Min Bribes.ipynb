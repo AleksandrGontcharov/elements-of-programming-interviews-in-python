{
 "cells": [
  {
   "cell_type": "markdown",
   "metadata": {},
   "source": [
    "### Steps:\n",
    " 1. Understand the problem\n",
    " 2. Sketch a solution with pen and paper - think of test cases\n",
    " 3. Write test cases in order of complexity\n",
    " 4. Iterate to think of the solution"
   ]
  },
  {
   "cell_type": "markdown",
   "metadata": {},
   "source": [
    "### Function\n",
    "___"
   ]
  },
  {
   "cell_type": "code",
   "execution_count": 81,
   "metadata": {},
   "outputs": [],
   "source": [
    "def minimumBribes(q):\n",
    "    \n",
    "    bribes = {}\n",
    "    n = len(q)\n",
    "    q_sorted = sorted(q)\n",
    "    if q == q_sorted:\n",
    "        print(0)\n",
    "        return \n",
    "    \n",
    "    for i in range(n-1):\n",
    "        for j in range(n-i-1):\n",
    "            # Check if i'th element is bigger than the next\n",
    "            if q[j] > q[j+1]:\n",
    "                \n",
    "                # if true then q[j] must have bribed q[j+1]\n",
    "                if q[j] not in bribes.keys():\n",
    "                    bribes[q[j]] = 1\n",
    "                else:                 \n",
    "                    bribes[q[j]] += 1\n",
    "                \n",
    "                if bribes[q[j]] > 2:\n",
    "                    print(\"Too chaotic\")\n",
    "                    return\n",
    "                \n",
    "                # Swap\n",
    "                q[j], q[j+1] = q[j+1], q[j]\n",
    "                \n",
    "        #condition here to check if list is sorted, if so exit the loop\n",
    "        \n",
    "        if q == q_sorted:\n",
    "            break\n",
    "                \n",
    "    total = 0\n",
    "    \n",
    "    for key, value in bribes.items():\n",
    "        total += value\n",
    "\n",
    "    \n",
    "    print(total)\n",
    "    return "
   ]
  },
  {
   "cell_type": "code",
   "execution_count": 82,
   "metadata": {},
   "outputs": [
    {
     "data": {
      "text/plain": [
       "{1: 2, 2: 2, 3: 2, 4: 2, 5: 2}"
      ]
     },
     "execution_count": 82,
     "metadata": {},
     "output_type": "execute_result"
    }
   ],
   "source": [
    "q = [1,2,3,4,5]\n",
    "bribes = {key:2 for key in q}\n",
    "bribes"
   ]
  },
  {
   "cell_type": "code",
   "execution_count": 83,
   "metadata": {},
   "outputs": [
    {
     "name": "stdout",
     "output_type": "stream",
     "text": [
      "10\n"
     ]
    }
   ],
   "source": [
    "total = 0\n",
    "for key, value in bribes.items():\n",
    "    total += value\n",
    "print(total)"
   ]
  },
  {
   "cell_type": "markdown",
   "metadata": {},
   "source": [
    "### Test\n",
    "___"
   ]
  },
  {
   "cell_type": "code",
   "execution_count": 84,
   "metadata": {},
   "outputs": [
    {
     "name": "stdout",
     "output_type": "stream",
     "text": [
      "should be 0\n",
      "0\n"
     ]
    }
   ],
   "source": [
    "q = [1,2,3,4,5]\n",
    "print(\"should be 0\")\n",
    "minimumBribes(q)"
   ]
  },
  {
   "cell_type": "code",
   "execution_count": 85,
   "metadata": {},
   "outputs": [
    {
     "name": "stdout",
     "output_type": "stream",
     "text": [
      "should be 1\n",
      "1\n"
     ]
    }
   ],
   "source": [
    "q = [1,3,2,4,5]\n",
    "print(\"should be 1\")\n",
    "minimumBribes(q)"
   ]
  },
  {
   "cell_type": "code",
   "execution_count": 86,
   "metadata": {},
   "outputs": [
    {
     "name": "stdout",
     "output_type": "stream",
     "text": [
      "should be 1\n",
      "1\n"
     ]
    }
   ],
   "source": [
    "q = [1,2,3,5,4]\n",
    "print(\"should be 1\")\n",
    "minimumBribes(q)"
   ]
  },
  {
   "cell_type": "code",
   "execution_count": 87,
   "metadata": {},
   "outputs": [
    {
     "name": "stdout",
     "output_type": "stream",
     "text": [
      "should be 2\n",
      "2\n"
     ]
    }
   ],
   "source": [
    "q = [2,1,3,5,4]\n",
    "print(\"should be 2\")\n",
    "minimumBribes(q)"
   ]
  },
  {
   "cell_type": "code",
   "execution_count": 88,
   "metadata": {},
   "outputs": [
    {
     "name": "stdout",
     "output_type": "stream",
     "text": [
      "should be 2\n",
      "2\n"
     ]
    }
   ],
   "source": [
    "q = [1,2,5,3,4]\n",
    "print(\"should be 2\")\n",
    "minimumBribes(q)"
   ]
  },
  {
   "cell_type": "code",
   "execution_count": 79,
   "metadata": {},
   "outputs": [
    {
     "name": "stdout",
     "output_type": "stream",
     "text": [
      "should be Too chaotic\n",
      "Too chaotic\n"
     ]
    }
   ],
   "source": [
    "q = [5,1,2,3,4]\n",
    "print(\"should be Too chaotic\")\n",
    "minimumBribes(q)"
   ]
  },
  {
   "cell_type": "code",
   "execution_count": 80,
   "metadata": {},
   "outputs": [
    {
     "name": "stdout",
     "output_type": "stream",
     "text": [
      "should be 7\n",
      "7\n"
     ]
    }
   ],
   "source": [
    "q = [1, 2, 5, 3, 7, 8, 6, 4]\n",
    "print(\"should be 7\")\n",
    "minimumBribes(q)"
   ]
  },
  {
   "cell_type": "code",
   "execution_count": null,
   "metadata": {},
   "outputs": [],
   "source": []
  },
  {
   "cell_type": "code",
   "execution_count": null,
   "metadata": {},
   "outputs": [],
   "source": []
  }
 ],
 "metadata": {
  "kernelspec": {
   "display_name": "Python 3",
   "language": "python",
   "name": "python3"
  },
  "language_info": {
   "codemirror_mode": {
    "name": "ipython",
    "version": 3
   },
   "file_extension": ".py",
   "mimetype": "text/x-python",
   "name": "python",
   "nbconvert_exporter": "python",
   "pygments_lexer": "ipython3",
   "version": "3.8.2"
  }
 },
 "nbformat": 4,
 "nbformat_minor": 4
}
