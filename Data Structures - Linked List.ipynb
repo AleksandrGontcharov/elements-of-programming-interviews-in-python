{
 "cells": [
  {
   "cell_type": "markdown",
   "metadata": {},
   "source": [
    "# Linked List"
   ]
  },
  {
   "cell_type": "markdown",
   "metadata": {},
   "source": [
    "<img src=\"images/LINKED_LIST.png\"></img>"
   ]
  },
  {
   "cell_type": "code",
   "execution_count": 316,
   "metadata": {},
   "outputs": [],
   "source": [
    "class Node:\n",
    "    def __init__(self, data):\n",
    "        self.data = data\n",
    "        self.next = None\n",
    "\n",
    "    def __repr__(self):\n",
    "        return self.data\n",
    "\n",
    "\n",
    "class LinkedList:\n",
    "    def __init__(self, L=[]):\n",
    "        self.head = None\n",
    "        n = len(L)\n",
    "        if n > 0:\n",
    "\n",
    "            node = Node(L[0])\n",
    "            self.head = node\n",
    "            for i in range(1, n):\n",
    "                new_node = Node(L[i])\n",
    "                node.next = new_node\n",
    "                node = new_node\n",
    "\n",
    "    def append_at_head(self, data):\n",
    "        # create the new node\n",
    "        new_node = Node(data)\n",
    "        if self.head == None:\n",
    "            self.head = new_node\n",
    "        else:\n",
    "            prev_first_node = self.head\n",
    "            self.head = new_node\n",
    "            new_node.next = prev_first_node\n",
    "\n",
    "    def append_at_tail(self, data):\n",
    "        # create the new node\n",
    "        new_node = Node(data)\n",
    "        if self.head == None:\n",
    "            self.head = new_node\n",
    "        else:\n",
    "            node = self.head\n",
    "            while node.next is not None:\n",
    "                node = node.next\n",
    "            node.next = new_node\n",
    "\n",
    "    def __getitem__(self, index):\n",
    "        assert index >= 0, print(\"index has to be >= 0\")\n",
    "        if self.head == None:\n",
    "            return \"List is Empty\"\n",
    "        else:\n",
    "            node = self.head\n",
    "            if index == 0:\n",
    "                return node.data\n",
    "            else:\n",
    "                i = 1\n",
    "                while i <= index:\n",
    "                    if node.next == None:\n",
    "                        return \"Index out of bounds\"\n",
    "                    node = node.next\n",
    "                    i += 1\n",
    "                return node.data\n",
    "\n",
    "    def search_list(self, data):\n",
    "        if self.head == None:\n",
    "            return \"not in list\"\n",
    "        else:\n",
    "            node = self.head\n",
    "            while node is not None and node.data != data:\n",
    "                node = node.next\n",
    "\n",
    "            if node == None:\n",
    "                return \"not in list\"\n",
    "            else:\n",
    "                return \"in list\"\n",
    "\n",
    "    def insert_at_index(self, data, k):\n",
    "\n",
    "        if k == 0:\n",
    "            self.append_at_head(data)\n",
    "        else:\n",
    "            new_node = Node(data)\n",
    "            node = self.head  # i = 0\n",
    "            i = 1\n",
    "            while i <= k:\n",
    "                prev_node = node\n",
    "                node = node.next\n",
    "                i += 1\n",
    "\n",
    "            # squeeze new_node between prev_node and node\n",
    "            prev_node.next = new_node\n",
    "            new_node.next = node\n",
    "\n",
    "\n",
    "#         if self.head == None:\n",
    "#             self.head = new_node\n",
    "#         node = self.head\n",
    "\n",
    "\n",
    "    def delete_node_at_index(self, k):\n",
    "\n",
    "        assert k >= 0, print(\"k should be greater than or eq to 0\")\n",
    "\n",
    "        node = self.head\n",
    "        # edge case -> list has only one node:\n",
    "\n",
    "        if self.head == None:\n",
    "            return \"index out of bounds\"\n",
    "        elif node.next == None:\n",
    "            self.head = None\n",
    "        else:\n",
    "            if k == 0:\n",
    "                self.head = node.next\n",
    "            else:\n",
    "                # Now we have the case that our list has at least 2 lements\n",
    "                i = 0\n",
    "                while i < k:\n",
    "                    prev_node = node\n",
    "                    node = node.next\n",
    "                    i += 1\n",
    "\n",
    "                # case 1- if node is the last node\n",
    "                if node.next == None:\n",
    "                    prev_node.next = None\n",
    "                else:\n",
    "                    next_node = node.next\n",
    "                    prev_node.next = next_node\n",
    "            \n",
    "\n",
    " \n",
    "\n",
    "    def __repr__(self):\n",
    "        node = self.head\n",
    "        L = [\"head\"]\n",
    "\n",
    "        while node is not None:\n",
    "\n",
    "            L.append(str(node.data))\n",
    "            node = node.next\n",
    "        L.append(\"none\")\n",
    "        return \" --> \".join(L)"
   ]
  },
  {
   "cell_type": "code",
   "execution_count": 307,
   "metadata": {},
   "outputs": [
    {
     "data": {
      "text/plain": [
       "head --> 1 --> 2 --> 3 --> 4 --> 5 --> none"
      ]
     },
     "execution_count": 307,
     "metadata": {},
     "output_type": "execute_result"
    }
   ],
   "source": [
    "llist = LinkedList([1,2,3,4,5])\n",
    "llist"
   ]
  },
  {
   "cell_type": "code",
   "execution_count": 308,
   "metadata": {},
   "outputs": [
    {
     "data": {
      "text/plain": [
       "'not in list'"
      ]
     },
     "execution_count": 308,
     "metadata": {},
     "output_type": "execute_result"
    }
   ],
   "source": [
    "llist.search_list(0)"
   ]
  },
  {
   "cell_type": "code",
   "execution_count": 309,
   "metadata": {},
   "outputs": [
    {
     "data": {
      "text/plain": [
       "2"
      ]
     },
     "execution_count": 309,
     "metadata": {},
     "output_type": "execute_result"
    }
   ],
   "source": [
    "llist[1]"
   ]
  },
  {
   "cell_type": "code",
   "execution_count": 310,
   "metadata": {},
   "outputs": [
    {
     "data": {
      "text/plain": [
       "head --> 99 --> 1 --> 2 --> 3 --> 4 --> 5 --> none"
      ]
     },
     "execution_count": 310,
     "metadata": {},
     "output_type": "execute_result"
    }
   ],
   "source": [
    "llist.append_at_head(99)\n",
    "llist"
   ]
  },
  {
   "cell_type": "code",
   "execution_count": 311,
   "metadata": {},
   "outputs": [
    {
     "data": {
      "text/plain": [
       "head --> 99 --> 1 --> 2 --> a --> 3 --> 4 --> 5 --> none"
      ]
     },
     "execution_count": 311,
     "metadata": {},
     "output_type": "execute_result"
    }
   ],
   "source": [
    "llist.insert_at_index(\"a\",3)\n",
    "llist"
   ]
  },
  {
   "cell_type": "code",
   "execution_count": 312,
   "metadata": {},
   "outputs": [
    {
     "data": {
      "text/plain": [
       "head --> 99 --> 1 --> 2 --> a --> 3 --> 4 --> 5 --> 100 --> none"
      ]
     },
     "execution_count": 312,
     "metadata": {},
     "output_type": "execute_result"
    }
   ],
   "source": [
    "llist.append_at_tail(100)\n",
    "llist"
   ]
  },
  {
   "cell_type": "code",
   "execution_count": 313,
   "metadata": {},
   "outputs": [
    {
     "data": {
      "text/plain": [
       "head --> 99 --> 1 --> 2 --> 3 --> 4 --> 5 --> 100 --> none"
      ]
     },
     "execution_count": 313,
     "metadata": {},
     "output_type": "execute_result"
    }
   ],
   "source": [
    "llist.delete_node_at_index(3)\n",
    "llist"
   ]
  },
  {
   "cell_type": "code",
   "execution_count": 314,
   "metadata": {},
   "outputs": [
    {
     "data": {
      "text/plain": [
       "head --> 99 --> 1 --> 2 --> a --> 3 --> 4 --> 5 --> 100 --> none"
      ]
     },
     "execution_count": 314,
     "metadata": {},
     "output_type": "execute_result"
    }
   ],
   "source": [
    "llist.insert_at_index(\"a\",3)\n",
    "llist"
   ]
  },
  {
   "cell_type": "code",
   "execution_count": 315,
   "metadata": {},
   "outputs": [
    {
     "data": {
      "text/plain": [
       "head --> 99 --> 1 --> 2 --> 3 --> 4 --> 5 --> 100 --> none"
      ]
     },
     "execution_count": 315,
     "metadata": {},
     "output_type": "execute_result"
    }
   ],
   "source": [
    "llist.delete_node_at_index(3)\n",
    "llist"
   ]
  },
  {
   "cell_type": "code",
   "execution_count": 85,
   "metadata": {},
   "outputs": [
    {
     "data": {
      "text/plain": [
       "A"
      ]
     },
     "execution_count": 85,
     "metadata": {},
     "output_type": "execute_result"
    }
   ],
   "source": [
    "first_node = Node(\"A\")\n",
    "first_node"
   ]
  },
  {
   "cell_type": "code",
   "execution_count": 86,
   "metadata": {},
   "outputs": [
    {
     "data": {
      "text/plain": [
       "head --> none"
      ]
     },
     "execution_count": 86,
     "metadata": {},
     "output_type": "execute_result"
    }
   ],
   "source": [
    "llist = LinkedList()\n",
    "llist"
   ]
  },
  {
   "cell_type": "code",
   "execution_count": 81,
   "metadata": {},
   "outputs": [
    {
     "data": {
      "text/plain": [
       "head --> A --> none"
      ]
     },
     "execution_count": 81,
     "metadata": {},
     "output_type": "execute_result"
    }
   ],
   "source": [
    "node = Node(\"A\")\n",
    "llist.head = node\n",
    "llist"
   ]
  },
  {
   "cell_type": "code",
   "execution_count": 82,
   "metadata": {},
   "outputs": [
    {
     "data": {
      "text/plain": [
       "head --> A --> B --> none"
      ]
     },
     "execution_count": 82,
     "metadata": {},
     "output_type": "execute_result"
    }
   ],
   "source": [
    "node_2 = Node(\"B\")\n",
    "node.next = node_2\n",
    "llist"
   ]
  },
  {
   "cell_type": "code",
   "execution_count": null,
   "metadata": {},
   "outputs": [],
   "source": []
  },
  {
   "cell_type": "code",
   "execution_count": null,
   "metadata": {},
   "outputs": [],
   "source": []
  },
  {
   "cell_type": "code",
   "execution_count": null,
   "metadata": {},
   "outputs": [],
   "source": []
  },
  {
   "cell_type": "code",
   "execution_count": null,
   "metadata": {},
   "outputs": [],
   "source": []
  },
  {
   "cell_type": "code",
   "execution_count": null,
   "metadata": {},
   "outputs": [],
   "source": []
  },
  {
   "cell_type": "code",
   "execution_count": null,
   "metadata": {},
   "outputs": [],
   "source": []
  },
  {
   "cell_type": "code",
   "execution_count": 1,
   "metadata": {},
   "outputs": [],
   "source": [
    "# step 1\n",
    "L = [\"2\",\"4\",\"6\",\"None\"]"
   ]
  },
  {
   "cell_type": "code",
   "execution_count": 2,
   "metadata": {},
   "outputs": [
    {
     "data": {
      "text/plain": [
       "'2 --> 4 --> 6 --> None'"
      ]
     },
     "execution_count": 2,
     "metadata": {},
     "output_type": "execute_result"
    }
   ],
   "source": [
    "# step 2\n",
    "\" --> \".join(L)"
   ]
  },
  {
   "cell_type": "code",
   "execution_count": 3,
   "metadata": {},
   "outputs": [],
   "source": [
    "class Node:\n",
    "    def __init__(self, data):\n",
    "        self.data = data\n",
    "        self.next = None\n",
    "\n",
    "    def __repr__(self):\n",
    "        return self.data\n",
    "\n",
    "\n",
    "class LinkedList:\n",
    "    def __init__(self):\n",
    "        self.head = None\n",
    "\n",
    "    def __repr__(self):\n",
    "        L = []\n",
    "        node = self.head  # always represents the first node: node.next and node.data\n",
    "        while node is not None:\n",
    "            L.append(node.data)\n",
    "            node = node.next\n",
    "        L.append(\"None\")\n",
    "        return \" --> \".join(L)"
   ]
  },
  {
   "cell_type": "markdown",
   "metadata": {},
   "source": [
    "### Example of building the linked list"
   ]
  },
  {
   "cell_type": "code",
   "execution_count": 4,
   "metadata": {},
   "outputs": [
    {
     "data": {
      "text/plain": [
       "None"
      ]
     },
     "execution_count": 4,
     "metadata": {},
     "output_type": "execute_result"
    }
   ],
   "source": [
    "llist = LinkedList()\n",
    "llist"
   ]
  },
  {
   "cell_type": "code",
   "execution_count": 5,
   "metadata": {},
   "outputs": [],
   "source": [
    "first_node = Node(\"A\")\n",
    "llist.head = first_node"
   ]
  },
  {
   "cell_type": "code",
   "execution_count": 6,
   "metadata": {},
   "outputs": [
    {
     "data": {
      "text/plain": [
       "A --> None"
      ]
     },
     "execution_count": 6,
     "metadata": {},
     "output_type": "execute_result"
    }
   ],
   "source": [
    "llist"
   ]
  },
  {
   "cell_type": "code",
   "execution_count": 7,
   "metadata": {},
   "outputs": [],
   "source": [
    "second_node = Node(\"L\")\n",
    "first_node.next = second_node"
   ]
  },
  {
   "cell_type": "code",
   "execution_count": 8,
   "metadata": {},
   "outputs": [
    {
     "data": {
      "text/plain": [
       "A --> L --> None"
      ]
     },
     "execution_count": 8,
     "metadata": {},
     "output_type": "execute_result"
    }
   ],
   "source": [
    "llist"
   ]
  },
  {
   "cell_type": "code",
   "execution_count": 9,
   "metadata": {},
   "outputs": [],
   "source": [
    "third_node = Node(\"E\")\n",
    "second_node.next = third_node"
   ]
  },
  {
   "cell_type": "code",
   "execution_count": 10,
   "metadata": {},
   "outputs": [
    {
     "data": {
      "text/plain": [
       "A --> L --> E --> None"
      ]
     },
     "execution_count": 10,
     "metadata": {},
     "output_type": "execute_result"
    }
   ],
   "source": [
    "llist"
   ]
  },
  {
   "cell_type": "code",
   "execution_count": 11,
   "metadata": {},
   "outputs": [],
   "source": [
    "fourth_node = Node(\"X\")\n",
    "third_node.next = fourth_node"
   ]
  },
  {
   "cell_type": "code",
   "execution_count": 12,
   "metadata": {},
   "outputs": [
    {
     "data": {
      "text/plain": [
       "A --> L --> E --> X --> None"
      ]
     },
     "execution_count": 12,
     "metadata": {},
     "output_type": "execute_result"
    }
   ],
   "source": [
    "llist"
   ]
  },
  {
   "cell_type": "markdown",
   "metadata": {},
   "source": [
    "# Linked List with a method to build it"
   ]
  },
  {
   "cell_type": "markdown",
   "metadata": {},
   "source": [
    "#my goal is to get this:\n",
    "\n",
    "L = [\"a\",\"l\",\"e\",\"x\"]\n",
    "\n",
    "llist = LinkedList(L)"
   ]
  },
  {
   "cell_type": "code",
   "execution_count": 17,
   "metadata": {},
   "outputs": [],
   "source": [
    "class Node:\n",
    "    def __init__(self, data):\n",
    "        self.data = data\n",
    "        self.next = None\n",
    "\n",
    "    def __repr__(self):\n",
    "        return self.data\n",
    "\n",
    "\n",
    "class LinkedList:\n",
    "    def __init__(self, L = []):\n",
    "        self.head = None\n",
    "        \n",
    "        n = len(L)\n",
    "        if n != 0:\n",
    "            node = Node(L[0])\n",
    "            self.head = node\n",
    "            i = 1\n",
    "            while i < n:\n",
    "                new_node = Node(L[i])\n",
    "                node.next = new_node\n",
    "                node = new_node\n",
    "                i += 1\n",
    "            \n",
    "\n",
    "    def __repr__(self):\n",
    "        L = []\n",
    "        node = self.head  # always represents the first node: node.next and node.data\n",
    "        while node is not None:\n",
    "            L.append(node.data)\n",
    "            node = node.next\n",
    "        L.append(\"None\")\n",
    "        return \" --> \".join(L)"
   ]
  },
  {
   "cell_type": "code",
   "execution_count": 18,
   "metadata": {},
   "outputs": [
    {
     "data": {
      "text/plain": [
       "A --> L --> E --> X --> None"
      ]
     },
     "execution_count": 18,
     "metadata": {},
     "output_type": "execute_result"
    }
   ],
   "source": [
    "# my goal is to get this:\n",
    "L = [\"A\", \"L\", \"E\", \"X\"]\n",
    "\n",
    "llist = LinkedList(L)\n",
    "llist"
   ]
  },
  {
   "cell_type": "markdown",
   "metadata": {},
   "source": [
    "# Linked List with a method to append at the front"
   ]
  },
  {
   "cell_type": "code",
   "execution_count": 41,
   "metadata": {},
   "outputs": [],
   "source": [
    "class Node:\n",
    "    def __init__(self, data):\n",
    "        self.data = data\n",
    "        self.next = None\n",
    "\n",
    "    def __repr__(self):\n",
    "        return self.data\n",
    "\n",
    "\n",
    "class LinkedList:\n",
    "    def __init__(self, L = []):\n",
    "        self.head = None\n",
    "        \n",
    "        n = len(L)\n",
    "        if n != 0:\n",
    "            node = Node(L[0])\n",
    "            self.head = node\n",
    "            i = 1\n",
    "            while i < n:\n",
    "                new_node = Node(L[i])\n",
    "                node.next = new_node\n",
    "                node = new_node\n",
    "                i += 1\n",
    "                \n",
    "    def append_at_head(self, data):\n",
    "        # create the new node\n",
    "        new_node = Node(data)\n",
    "        new_node.next = self.head\n",
    "        self.head = new_node\n",
    "    \n",
    "    def append_at_tail(self, data):\n",
    "        # create the new node\n",
    "        if self.head == None:\n",
    "            self.append_at_head(data)\n",
    "        else:\n",
    "            new_node = Node(data)\n",
    "            node = self.head\n",
    "            while node.next is not None:\n",
    "                node = node.next\n",
    "            else:\n",
    "                node.next = new_node\n",
    "    \n",
    "    def search_list(self, data):\n",
    "        # return element if it is in the list\n",
    "        # else return \"element does not exist\"\n",
    "        pass\n",
    "    \n",
    "    def search_by_index(self, k):\n",
    "        # Return the kth element\n",
    "        \n",
    "    \n",
    "    def insert_after_node(self, given_node, node):\n",
    "        # should be O(1)\n",
    "        # insert given_node after node\n",
    "        pass\n",
    "    \n",
    "    def insert_at_index(self, data, k):\n",
    "        # insert a node with data at position k\n",
    "        pass\n",
    "        # Should be O(n)\n",
    "    \n",
    "    def delete_node_object(node):\n",
    "        # Should be O(1)\n",
    "        # delete the given node from the linked list\n",
    "        pass\n",
    "    \n",
    "    def delete_node_at_index(self, k):\n",
    "        # Should be O(n)\n",
    "        # delete the kth index element on the list\n",
    "        pass\n",
    "    \n",
    "    def __repr__(self):\n",
    "        L = []\n",
    "        node = self.head  # always represents the first node: node.next and node.data\n",
    "        while node is not None:\n",
    "            L.append(node.data)\n",
    "            node = node.next\n",
    "        L.append(\"None\")\n",
    "        return \" --> \".join(L)"
   ]
  },
  {
   "cell_type": "markdown",
   "metadata": {},
   "source": [
    "<img src=\"images/LINKED_LIST.png\"></img>"
   ]
  },
  {
   "cell_type": "code",
   "execution_count": 42,
   "metadata": {},
   "outputs": [
    {
     "data": {
      "text/plain": [
       "A --> L --> E --> X --> None"
      ]
     },
     "execution_count": 42,
     "metadata": {},
     "output_type": "execute_result"
    }
   ],
   "source": [
    "# my goal is to get this:\n",
    "L = [\"A\", \"L\", \"E\", \"X\"]\n",
    "\n",
    "llist = LinkedList(L)\n",
    "llist"
   ]
  },
  {
   "cell_type": "code",
   "execution_count": 43,
   "metadata": {},
   "outputs": [
    {
     "data": {
      "text/plain": [
       "JASON --> A --> L --> E --> X --> None"
      ]
     },
     "execution_count": 43,
     "metadata": {},
     "output_type": "execute_result"
    }
   ],
   "source": [
    "llist.append_at_head(\"JASON\")\n",
    "llist"
   ]
  },
  {
   "cell_type": "code",
   "execution_count": 44,
   "metadata": {},
   "outputs": [
    {
     "data": {
      "text/plain": [
       "A --> L --> E --> X --> None"
      ]
     },
     "execution_count": 44,
     "metadata": {},
     "output_type": "execute_result"
    }
   ],
   "source": [
    "# my goal is to get this:\n",
    "L = [\"A\", \"L\", \"E\", \"X\"]\n",
    "\n",
    "llist = LinkedList(L)\n",
    "llist"
   ]
  },
  {
   "cell_type": "code",
   "execution_count": 45,
   "metadata": {},
   "outputs": [
    {
     "data": {
      "text/plain": [
       "A --> L --> E --> X --> JASON --> None"
      ]
     },
     "execution_count": 45,
     "metadata": {},
     "output_type": "execute_result"
    }
   ],
   "source": [
    "llist.append_at_tail(\"JASON\")\n",
    "llist"
   ]
  },
  {
   "cell_type": "code",
   "execution_count": 46,
   "metadata": {},
   "outputs": [
    {
     "data": {
      "text/plain": [
       "JASON --> None"
      ]
     },
     "execution_count": 46,
     "metadata": {},
     "output_type": "execute_result"
    }
   ],
   "source": [
    "llist = LinkedList()\n",
    "llist.append_at_head(\"JASON\")\n",
    "llist"
   ]
  },
  {
   "cell_type": "code",
   "execution_count": 47,
   "metadata": {},
   "outputs": [
    {
     "data": {
      "text/plain": [
       "JASON --> None"
      ]
     },
     "execution_count": 47,
     "metadata": {},
     "output_type": "execute_result"
    }
   ],
   "source": [
    "llist = LinkedList()\n",
    "llist.append_at_tail(\"JASON\")\n",
    "llist"
   ]
  },
  {
   "cell_type": "code",
   "execution_count": null,
   "metadata": {},
   "outputs": [],
   "source": []
  },
  {
   "cell_type": "code",
   "execution_count": null,
   "metadata": {},
   "outputs": [],
   "source": []
  }
 ],
 "metadata": {
  "kernelspec": {
   "display_name": "Python 3",
   "language": "python",
   "name": "python3"
  },
  "language_info": {
   "codemirror_mode": {
    "name": "ipython",
    "version": 3
   },
   "file_extension": ".py",
   "mimetype": "text/x-python",
   "name": "python",
   "nbconvert_exporter": "python",
   "pygments_lexer": "ipython3",
   "version": "3.8.2"
  },
  "varInspector": {
   "cols": {
    "lenName": 16,
    "lenType": 16,
    "lenVar": 40
   },
   "kernels_config": {
    "python": {
     "delete_cmd_postfix": "",
     "delete_cmd_prefix": "del ",
     "library": "var_list.py",
     "varRefreshCmd": "print(var_dic_list())"
    },
    "r": {
     "delete_cmd_postfix": ") ",
     "delete_cmd_prefix": "rm(",
     "library": "var_list.r",
     "varRefreshCmd": "cat(var_dic_list()) "
    }
   },
   "types_to_exclude": [
    "module",
    "function",
    "builtin_function_or_method",
    "instance",
    "_Feature"
   ],
   "window_display": false
  }
 },
 "nbformat": 4,
 "nbformat_minor": 4
}
