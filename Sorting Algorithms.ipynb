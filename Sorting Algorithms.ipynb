{
 "cells": [
  {
   "cell_type": "markdown",
   "metadata": {},
   "source": [
    "### Bubble Sort: \"Bubble up\" the largest element to the end\n",
    "___"
   ]
  },
  {
   "cell_type": "markdown",
   "metadata": {},
   "source": [
    "<img src=\"images/bubble_sort.gif\">"
   ]
  },
  {
   "cell_type": "code",
   "execution_count": 13,
   "metadata": {},
   "outputs": [],
   "source": [
    "def bubble_sort(L):\n",
    "    n = len(L)\n",
    "    for i in range(n-1):\n",
    "        # Check if i'th element is bigger than the next\n",
    "        for j in range(0, n-i-1):\n",
    "            if L[j] > L[j+1]:\n",
    "                # Swap\n",
    "                L[j], L[j+1] = L[j+1], L[j]\n",
    "    return L"
   ]
  },
  {
   "cell_type": "code",
   "execution_count": 14,
   "metadata": {},
   "outputs": [
    {
     "data": {
      "text/plain": [
       "[1, 2, 3, 4, 5, 6]"
      ]
     },
     "execution_count": 14,
     "metadata": {},
     "output_type": "execute_result"
    }
   ],
   "source": [
    "L = [4,5,6,2,3,1]\n",
    "bubble_sort(L)"
   ]
  },
  {
   "cell_type": "markdown",
   "metadata": {},
   "source": [
    "### Selection Sort: Find smallest element and move it to the front\n",
    "___"
   ]
  },
  {
   "cell_type": "markdown",
   "metadata": {},
   "source": [
    "<img src=\"images/selection_sort.gif\">"
   ]
  },
  {
   "cell_type": "code",
   "execution_count": 41,
   "metadata": {},
   "outputs": [],
   "source": [
    "def selection_sort(L):\n",
    "    n = len(L)\n",
    "    for i in range(n - 1):\n",
    "        current_min = i\n",
    "        for j in range(i + 1, n):   \n",
    "            if L[j] < L[current_min]:\n",
    "                current_min = j\n",
    "            # swap\n",
    "        L[i], L[current_min] =  L[current_min], L[i] \n",
    "\n",
    "    return L"
   ]
  },
  {
   "cell_type": "code",
   "execution_count": 42,
   "metadata": {},
   "outputs": [
    {
     "data": {
      "text/plain": [
       "[1, 2, 3, 4, 5, 6]"
      ]
     },
     "execution_count": 42,
     "metadata": {},
     "output_type": "execute_result"
    }
   ],
   "source": [
    "L = [4,5,6,2,3,1]\n",
    "selection_sort(L)"
   ]
  },
  {
   "cell_type": "markdown",
   "metadata": {},
   "source": [
    "### Insertion Sort: insert element into the sorted part at the beginning\n",
    "___"
   ]
  },
  {
   "cell_type": "markdown",
   "metadata": {},
   "source": [
    "<img src=\"images/insertion_sort.gif\">"
   ]
  },
  {
   "cell_type": "code",
   "execution_count": 1,
   "metadata": {},
   "outputs": [],
   "source": [
    "def insertion_sort(L):\n",
    "    n = len(L)\n",
    "    for i in range(n-1): # might be range(n-1)\n",
    "        # compare the ith element to the next element\n",
    "        # if next element is smaller than i'th element, then it needs to be inserted into the sorted part\n",
    "        # else go to next iteration\n",
    "        \n",
    "        # assume 0 to i is sorted\n",
    "        \n",
    "        if L[i+1] > L[i]:\n",
    "            continue\n",
    "        else:\n",
    "            # insert L[i+1] into the correct slot of the sorted array\n",
    "            for j in reversed(range(i+1)):\n",
    "                if L[j+1] < L[j]:\n",
    "                    L[j], L[j+1] = L[j+1], L[j]\n",
    "                else: \n",
    "                    break\n",
    "    return L"
   ]
  },
  {
   "cell_type": "code",
   "execution_count": 2,
   "metadata": {},
   "outputs": [],
   "source": [
    "def insertion_sort_while(L):  \n",
    "    # Start at index after first  \n",
    "    # increment to end  \n",
    "    # going left to right   \n",
    "    for i in range(1, len(L)):     \n",
    "        j = i     \n",
    "        # if this element needs to be inserted (if L[j-1] > L[j]), bubble it down into the correct position    \n",
    "        while (j > 0) and (L[j-1] > L[j]):       \n",
    "            L[j] , L[j-1] = L[j-1] , L[j]       \n",
    "            j = j-1   \n",
    "    return L"
   ]
  },
  {
   "cell_type": "markdown",
   "metadata": {},
   "source": [
    "### Quicksort\n",
    "___"
   ]
  },
  {
   "cell_type": "markdown",
   "metadata": {},
   "source": [
    "<img src=\"images/quick_sort.gif\">"
   ]
  },
  {
   "cell_type": "code",
   "execution_count": 148,
   "metadata": {},
   "outputs": [],
   "source": [
    "def partition(array, start, end):\n",
    "    pivot = array[start]\n",
    "    low = start + 1\n",
    "    high = end\n",
    "\n",
    "    while True:\n",
    "        # If the current value we're looking at is larger than the pivot\n",
    "        # it's in the right place (right side of pivot) and we can move left,\n",
    "        # to the next element.\n",
    "        # We also need to make sure we haven't surpassed the low pointer, since that\n",
    "        # indicates we have already moved all the elements to their correct side of the pivot\n",
    "        while low <= high and array[high] >= pivot:\n",
    "            high = high - 1\n",
    "\n",
    "        # Opposite process of the one above\n",
    "        while low <= high and array[low] <= pivot:\n",
    "            low = low + 1\n",
    "\n",
    "        # We either found a value for both high and low that is out of order\n",
    "        # or low is higher than high, in which case we exit the loop\n",
    "        if low <= high:\n",
    "            array[low], array[high] = array[high], array[low]\n",
    "            # The loop continues\n",
    "        else:\n",
    "            # We exit out of the loop\n",
    "            break\n",
    "\n",
    "    array[start], array[high] = array[high], array[start]\n",
    "\n",
    "    return high"
   ]
  },
  {
   "cell_type": "code",
   "execution_count": 149,
   "metadata": {},
   "outputs": [],
   "source": [
    "def quick_sort(array, start, end):\n",
    "    if start >= end:\n",
    "        return\n",
    "\n",
    "    p = partition(array, start, end)\n",
    "    quick_sort(array, start, p - 1)\n",
    "    quick_sort(array, p + 1, end)"
   ]
  },
  {
   "cell_type": "code",
   "execution_count": 150,
   "metadata": {},
   "outputs": [
    {
     "data": {
      "text/plain": [
       "[1, 2, 3, 4, 5, 6, 7, 8, 9, 10, 11]"
      ]
     },
     "execution_count": 150,
     "metadata": {},
     "output_type": "execute_result"
    }
   ],
   "source": [
    "L = [7, 5, 6, 3, 2, 4, 1, 9, 10, 8, 11]\n",
    "quick_sort(L, 0,  len(L) - 1)\n",
    "L"
   ]
  },
  {
   "cell_type": "markdown",
   "metadata": {},
   "source": [
    "### Mergesort\n",
    "___"
   ]
  },
  {
   "cell_type": "markdown",
   "metadata": {},
   "source": [
    "<img src=\"images/merge_sort.gif\">"
   ]
  },
  {
   "cell_type": "code",
   "execution_count": 96,
   "metadata": {},
   "outputs": [],
   "source": [
    "def merge(L, R, A):\n",
    "    \n",
    "    nL = len(L)\n",
    "    \n",
    "    nR = len(R)\n",
    "\n",
    "    index_L = 0\n",
    "    \n",
    "    index_R = 0\n",
    "    \n",
    "    i = 0\n",
    "    \n",
    "    while index_L < nL and index_R < nR:\n",
    "        if L[index_L] <= R[index_R]:\n",
    "            \n",
    "            A[i] = L[index_L]\n",
    "\n",
    "            index_L += 1\n",
    "            \n",
    "        else:\n",
    "            \n",
    "            A[i] = R[index_R]\n",
    "\n",
    "            index_R += 1\n",
    "        i += 1\n",
    "        \n",
    "    while index_L < nL:\n",
    "        A[i] = L[index_L]\n",
    "        i += 1\n",
    "        index_L += 1\n",
    "    while index_R < nR:\n",
    "        A[i] = R[index_R]\n",
    "        i += 1\n",
    "        index_R += 1\n",
    "    \n",
    "    print(\"merged version is:\", A)\n",
    "    return A"
   ]
  },
  {
   "cell_type": "code",
   "execution_count": 97,
   "metadata": {},
   "outputs": [
    {
     "name": "stdout",
     "output_type": "stream",
     "text": [
      "Should be [1, 2, 3, 4, 5, 6, 7, 8]\n",
      "merged version is: [1, 2, 3, 4, 5, 6, 7, 8]\n"
     ]
    },
    {
     "data": {
      "text/plain": [
       "[1, 2, 3, 4, 5, 6, 7, 8]"
      ]
     },
     "execution_count": 97,
     "metadata": {},
     "output_type": "execute_result"
    }
   ],
   "source": [
    "L = [1,2,4,6]\n",
    "R = [3,5,7,8]\n",
    "print(\"Should be\" , sorted(L + R))\n",
    "merge(L,R,L+R)"
   ]
  },
  {
   "cell_type": "code",
   "execution_count": 104,
   "metadata": {},
   "outputs": [],
   "source": [
    "def merge_sort(L):\n",
    "    \n",
    "\n",
    "    n = len(L)\n",
    "    if n < 2:\n",
    "        return\n",
    "    mid = n // 2\n",
    "\n",
    "    left = []\n",
    "    right = []\n",
    "    for i in range(0, mid):\n",
    "        left.append(L[i])\n",
    "    for i in range(mid, n):\n",
    "        right.append(L[i])\n",
    "    merge_sort(left)\n",
    "\n",
    "    merge_sort(right)\n",
    "    print()\n",
    "    print(\"merging left\",left,\"and right\",right)\n",
    "\n",
    "    merge(left, right, L)\n",
    "\n",
    "    return L"
   ]
  },
  {
   "cell_type": "code",
   "execution_count": 105,
   "metadata": {},
   "outputs": [
    {
     "name": "stdout",
     "output_type": "stream",
     "text": [
      "\n",
      "merging left [7] and right [5]\n",
      "merged version is: [5, 7]\n",
      "\n",
      "merging left [3] and right [2]\n",
      "merged version is: [2, 3]\n",
      "\n",
      "merging left [6] and right [2, 3]\n",
      "merged version is: [2, 3, 6]\n",
      "\n",
      "merging left [5, 7] and right [2, 3, 6]\n",
      "merged version is: [2, 3, 5, 6, 7]\n",
      "\n",
      "merging left [1] and right [9]\n",
      "merged version is: [1, 9]\n",
      "\n",
      "merging left [4] and right [1, 9]\n",
      "merged version is: [1, 4, 9]\n",
      "\n",
      "merging left [8] and right [11]\n",
      "merged version is: [8, 11]\n",
      "\n",
      "merging left [10] and right [8, 11]\n",
      "merged version is: [8, 10, 11]\n",
      "\n",
      "merging left [1, 4, 9] and right [8, 10, 11]\n",
      "merged version is: [1, 4, 8, 9, 10, 11]\n",
      "\n",
      "merging left [2, 3, 5, 6, 7] and right [1, 4, 8, 9, 10, 11]\n",
      "merged version is: [1, 2, 3, 4, 5, 6, 7, 8, 9, 10, 11]\n"
     ]
    },
    {
     "data": {
      "text/plain": [
       "[1, 2, 3, 4, 5, 6, 7, 8, 9, 10, 11]"
      ]
     },
     "execution_count": 105,
     "metadata": {},
     "output_type": "execute_result"
    }
   ],
   "source": [
    "L = [7, 5, 6, 3, 2, 4, 1, 9, 10, 8, 11]\n",
    "merge_sort(L)\n",
    "L"
   ]
  },
  {
   "cell_type": "code",
   "execution_count": 105,
   "metadata": {},
   "outputs": [
    {
     "name": "stdout",
     "output_type": "stream",
     "text": [
      "\n",
      "merging left [7] and right [5]\n",
      "merged version is: [5, 7]\n",
      "\n",
      "merging left [3] and right [2]\n",
      "merged version is: [2, 3]\n",
      "\n",
      "merging left [6] and right [2, 3]\n",
      "merged version is: [2, 3, 6]\n",
      "\n",
      "merging left [5, 7] and right [2, 3, 6]\n",
      "merged version is: [2, 3, 5, 6, 7]\n",
      "\n",
      "merging left [1] and right [9]\n",
      "merged version is: [1, 9]\n",
      "\n",
      "merging left [4] and right [1, 9]\n",
      "merged version is: [1, 4, 9]\n",
      "\n",
      "merging left [8] and right [11]\n",
      "merged version is: [8, 11]\n",
      "\n",
      "merging left [10] and right [8, 11]\n",
      "merged version is: [8, 10, 11]\n",
      "\n",
      "merging left [1, 4, 9] and right [8, 10, 11]\n",
      "merged version is: [1, 4, 8, 9, 10, 11]\n",
      "\n",
      "merging left [2, 3, 5, 6, 7] and right [1, 4, 8, 9, 10, 11]\n",
      "merged version is: [1, 2, 3, 4, 5, 6, 7, 8, 9, 10, 11]\n"
     ]
    },
    {
     "data": {
      "text/plain": [
       "[1, 2, 3, 4, 5, 6, 7, 8, 9, 10, 11]"
      ]
     },
     "execution_count": 105,
     "metadata": {},
     "output_type": "execute_result"
    }
   ],
   "source": [
    "L = [7, 5, 6, 3, 2, 4, 1, 9, 10, 8, 11]\n",
    "merge_sort(L)\n",
    "L"
   ]
  },
  {
   "cell_type": "code",
   "execution_count": 109,
   "metadata": {},
   "outputs": [
    {
     "name": "stdout",
     "output_type": "stream",
     "text": [
      "\n",
      "merging left [2] and right [1]\n",
      "merged version is: [1, 2]\n",
      "\n",
      "merging left [1] and right [2]\n",
      "merged version is: [1, 2]\n",
      "\n",
      "merging left [3] and right [1, 2]\n",
      "merged version is: [1, 2, 3]\n",
      "\n",
      "merging left [1, 2] and right [1, 2, 3]\n",
      "merged version is: [1, 1, 2, 2, 3]\n"
     ]
    },
    {
     "data": {
      "text/plain": [
       "[1, 1, 2, 2, 3]"
      ]
     },
     "execution_count": 109,
     "metadata": {},
     "output_type": "execute_result"
    }
   ],
   "source": [
    "L = [2,1,3,1,2]\n",
    "merge_sort(L)\n"
   ]
  },
  {
   "cell_type": "code",
   "execution_count": null,
   "metadata": {},
   "outputs": [],
   "source": []
  }
 ],
 "metadata": {
  "kernelspec": {
   "display_name": "Python 3",
   "language": "python",
   "name": "python3"
  },
  "language_info": {
   "codemirror_mode": {
    "name": "ipython",
    "version": 3
   },
   "file_extension": ".py",
   "mimetype": "text/x-python",
   "name": "python",
   "nbconvert_exporter": "python",
   "pygments_lexer": "ipython3",
   "version": "3.8.2"
  },
  "varInspector": {
   "cols": {
    "lenName": 16,
    "lenType": 16,
    "lenVar": 40
   },
   "kernels_config": {
    "python": {
     "delete_cmd_postfix": "",
     "delete_cmd_prefix": "del ",
     "library": "var_list.py",
     "varRefreshCmd": "print(var_dic_list())"
    },
    "r": {
     "delete_cmd_postfix": ") ",
     "delete_cmd_prefix": "rm(",
     "library": "var_list.r",
     "varRefreshCmd": "cat(var_dic_list()) "
    }
   },
   "types_to_exclude": [
    "module",
    "function",
    "builtin_function_or_method",
    "instance",
    "_Feature"
   ],
   "window_display": false
  }
 },
 "nbformat": 4,
 "nbformat_minor": 4
}
