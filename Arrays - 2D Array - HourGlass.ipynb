{
 "cells": [
  {
   "cell_type": "markdown",
   "metadata": {},
   "source": [
    "### Steps:\n",
    " 1. Understand the problem\n",
    " 2. Sketch a solution with pen and paper - think of test cases\n",
    " 3. Write test cases in order of complexity\n",
    " 4. Iterate to think of the solution"
   ]
  },
  {
   "cell_type": "markdown",
   "metadata": {},
   "source": [
    "### Function\n",
    "___"
   ]
  },
  {
   "cell_type": "code",
   "execution_count": 143,
   "metadata": {},
   "outputs": [],
   "source": [
    "def convolution(A, B):\n",
    "    result = 0\n",
    "\n",
    "    for i in range(3):\n",
    "        for j in range(3):\n",
    "            result += A[i][j] * B[i][j]\n",
    "\n",
    "    return result\n",
    "\n",
    "\n",
    "def get_submatrices(arr):\n",
    "    submatrices = {}\n",
    "    for i in range(4):\n",
    "        for j in range(4):\n",
    "\n",
    "            # create submatrix:\n",
    "            submatrix = []\n",
    "            for row in range(3):\n",
    "                my_row = []\n",
    "                for column in range(3):\n",
    "                     my_row.append(arr[i+row][j+column])\n",
    "                submatrix.append(my_row)\n",
    "            submatrices[(i,j)] = submatrix\n",
    "    return submatrices\n",
    "\n",
    "\n",
    "def hourglassSum(arr):\n",
    "\n",
    "    hourglass = [[1, 1, 1], [0, 1, 0], [1, 1, 1]]\n",
    "\n",
    "    submatrices = get_submatrices(arr)\n",
    "    \n",
    "    list_of_sums = []\n",
    "    for key, matrix in submatrices.items():\n",
    "        list_of_sums.append(convolution(matrix, hourglass))\n",
    "    \n",
    "\n",
    "\n",
    "    return max(list_of_sums)"
   ]
  },
  {
   "cell_type": "markdown",
   "metadata": {},
   "source": [
    "### Test\n",
    "___"
   ]
  },
  {
   "cell_type": "code",
   "execution_count": 145,
   "metadata": {},
   "outputs": [],
   "source": [
    "sample_array =[[-9, -9, -9,  1, 1, 1], [0, -9,  0,  4, 3, 2], [-9, -9, -9,  1, 2, 3],\n",
    " [0,  0,  8,  6, 6, 0], [0,  0,  0, -2, 0, 0], [0,  0,  1,  2, 4, 0]]"
   ]
  },
  {
   "cell_type": "code",
   "execution_count": 146,
   "metadata": {},
   "outputs": [
    {
     "data": {
      "text/plain": [
       "28"
      ]
     },
     "execution_count": 146,
     "metadata": {},
     "output_type": "execute_result"
    }
   ],
   "source": [
    "hourglassSum(sample_array)"
   ]
  }
 ],
 "metadata": {
  "kernelspec": {
   "display_name": "Python 3",
   "language": "python",
   "name": "python3"
  },
  "language_info": {
   "codemirror_mode": {
    "name": "ipython",
    "version": 3
   },
   "file_extension": ".py",
   "mimetype": "text/x-python",
   "name": "python",
   "nbconvert_exporter": "python",
   "pygments_lexer": "ipython3",
   "version": "3.8.2"
  },
  "varInspector": {
   "cols": {
    "lenName": 16,
    "lenType": 16,
    "lenVar": 40
   },
   "kernels_config": {
    "python": {
     "delete_cmd_postfix": "",
     "delete_cmd_prefix": "del ",
     "library": "var_list.py",
     "varRefreshCmd": "print(var_dic_list())"
    },
    "r": {
     "delete_cmd_postfix": ") ",
     "delete_cmd_prefix": "rm(",
     "library": "var_list.r",
     "varRefreshCmd": "cat(var_dic_list()) "
    }
   },
   "types_to_exclude": [
    "module",
    "function",
    "builtin_function_or_method",
    "instance",
    "_Feature"
   ],
   "window_display": false
  }
 },
 "nbformat": 4,
 "nbformat_minor": 4
}
