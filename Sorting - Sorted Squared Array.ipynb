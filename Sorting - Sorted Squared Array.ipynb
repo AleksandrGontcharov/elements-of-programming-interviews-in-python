{
 "cells": [
  {
   "cell_type": "markdown",
   "metadata": {},
   "source": [
    "### Steps:\n",
    " 1. Understand the problem\n",
    " 2. Sketch a solution with pen and paper - think of test cases\n",
    " 3. Write test cases in order of complexity\n",
    " 4. Iterate to think of the solution"
   ]
  },
  {
   "cell_type": "markdown",
   "metadata": {},
   "source": [
    "### Function\n",
    "___"
   ]
  },
  {
   "cell_type": "code",
   "execution_count": 3,
   "metadata": {},
   "outputs": [],
   "source": [
    "# You have a sorted array of integers 0 < len(L) < 10000, -10000 < arr[i] < 10000\n",
    "# Write a function that returns the sorted array containing the squares of those integers\n",
    "\n",
    "# the first naive approach would be to iterate through the array and square each number time complexity O(n) and space complexity O(1)\n",
    "\n",
    "# then sort the resulting array - O (nlogn)\n",
    "\n",
    "\n",
    "# can we do better?\n",
    "\n",
    "#Try to create a solution in O(n)\n",
    "\n",
    "\n",
    "def sorted_squares(A):\n",
    "    \n",
    "    # get the length of A\n",
    "    \n",
    "    n = len(A)\n",
    "    \n",
    "    \n",
    "    L = [elem**2 for elem in A if elem < 0] # O(n)\n",
    "    L.reverse() # O(n)\n",
    "\n",
    "    \n",
    "    R = [elem**2 for elem in A if elem >= 0] # O(n)\n",
    "    \n",
    "    nL = len(L) # O(1)\n",
    "    nR = len(R) # O(1)\n",
    "    \n",
    "    index_L = 0\n",
    "    index_R = 0\n",
    "    \n",
    "    i = 0\n",
    "    \n",
    "    while index_L < nL and index_R < nR:\n",
    "        if L[index_L] <= R[index_R]:\n",
    "            \n",
    "            A[i] = L[index_L]\n",
    "            index_L += 1\n",
    "        \n",
    "        \n",
    "        else:\n",
    "            \n",
    "            A[i] = R[index_R]\n",
    "\n",
    "            index_R += 1\n",
    "        i += 1\n",
    "        \n",
    "    while index_L < nL:\n",
    "        A[i] = L[index_L]\n",
    "        i += 1\n",
    "        index_L += 1\n",
    "    while index_R < nR:\n",
    "        A[i] = R[index_R]\n",
    "        i += 1\n",
    "        index_R += 1\n",
    "    \n",
    "\n",
    "    return A\n",
    "            \n",
    "    \n",
    "\n",
    "\n"
   ]
  },
  {
   "cell_type": "markdown",
   "metadata": {},
   "source": [
    "### Test\n",
    "___"
   ]
  },
  {
   "cell_type": "code",
   "execution_count": 5,
   "metadata": {},
   "outputs": [
    {
     "name": "stdout",
     "output_type": "stream",
     "text": [
      "[1, 4, 16]\n"
     ]
    }
   ],
   "source": [
    "L = [1,2,4]\n",
    "print(sorted_squares(L))"
   ]
  },
  {
   "cell_type": "code",
   "execution_count": 6,
   "metadata": {},
   "outputs": [
    {
     "name": "stdout",
     "output_type": "stream",
     "text": [
      "[1, 4, 16, 81]\n"
     ]
    }
   ],
   "source": [
    "L = [-9, 1,2,4]\n",
    "print(sorted_squares(L))"
   ]
  },
  {
   "cell_type": "code",
   "execution_count": null,
   "metadata": {},
   "outputs": [],
   "source": []
  }
 ],
 "metadata": {
  "kernelspec": {
   "display_name": "Python 3",
   "language": "python",
   "name": "python3"
  },
  "language_info": {
   "codemirror_mode": {
    "name": "ipython",
    "version": 3
   },
   "file_extension": ".py",
   "mimetype": "text/x-python",
   "name": "python",
   "nbconvert_exporter": "python",
   "pygments_lexer": "ipython3",
   "version": "3.8.2"
  },
  "varInspector": {
   "cols": {
    "lenName": 16,
    "lenType": 16,
    "lenVar": 40
   },
   "kernels_config": {
    "python": {
     "delete_cmd_postfix": "",
     "delete_cmd_prefix": "del ",
     "library": "var_list.py",
     "varRefreshCmd": "print(var_dic_list())"
    },
    "r": {
     "delete_cmd_postfix": ") ",
     "delete_cmd_prefix": "rm(",
     "library": "var_list.r",
     "varRefreshCmd": "cat(var_dic_list()) "
    }
   },
   "types_to_exclude": [
    "module",
    "function",
    "builtin_function_or_method",
    "instance",
    "_Feature"
   ],
   "window_display": false
  }
 },
 "nbformat": 4,
 "nbformat_minor": 4
}
