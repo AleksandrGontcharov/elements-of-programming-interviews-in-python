{
 "cells": [
  {
   "cell_type": "markdown",
   "metadata": {},
   "source": [
    "### Steps:\n",
    " 1. Understand the problem\n",
    " 2. Sketch a solution with pen and paper - think of test cases\n",
    " 3. Write test cases in order of complexity\n",
    " 4. Iterate to think of the solution"
   ]
  },
  {
   "cell_type": "markdown",
   "metadata": {},
   "source": [
    "### Triple Step\n",
    "\n",
    "A child is running up a staircase with n steps and can hop either 1 step, 2 steps, or 3\n",
    "steps at a time. Implement a method to count how many possible ways the child can run up the\n",
    "stairs."
   ]
  },
  {
   "cell_type": "code",
   "execution_count": 1,
   "metadata": {},
   "outputs": [],
   "source": [
    "def number_of_ways(num_steps):\n",
    "    running_total = 0\n",
    "    return helper(num_steps, running_total)\n",
    "    #return num_steps\n",
    "    \n",
    "def helper(num_steps, running_total):\n",
    "    # base case\n",
    "    if running_total == num_steps:\n",
    "        return 1\n",
    "    elif running_total > num_steps:\n",
    "        return 0\n",
    "    else:\n",
    "        return helper(num_steps, running_total + 1) + helper(num_steps, running_total + 2) + helper(num_steps, running_total + 3)\n",
    "    \n",
    "    # recursion case"
   ]
  },
  {
   "cell_type": "code",
   "execution_count": 2,
   "metadata": {},
   "outputs": [
    {
     "name": "stdout",
     "output_type": "stream",
     "text": [
      "should be 4\n"
     ]
    },
    {
     "data": {
      "text/plain": [
       "4"
      ]
     },
     "execution_count": 2,
     "metadata": {},
     "output_type": "execute_result"
    }
   ],
   "source": [
    "num_steps = 3\n",
    "# 1,1,1\n",
    "# 1,2# 2,1\n",
    "# 3\n",
    "print(\"should be 4\")\n",
    "number_of_ways(num_steps)"
   ]
  },
  {
   "cell_type": "code",
   "execution_count": 3,
   "metadata": {},
   "outputs": [
    {
     "name": "stdout",
     "output_type": "stream",
     "text": [
      "should be 7\n"
     ]
    },
    {
     "data": {
      "text/plain": [
       "7"
      ]
     },
     "execution_count": 3,
     "metadata": {},
     "output_type": "execute_result"
    }
   ],
   "source": [
    "num_steps = 4\n",
    "# 1,1,1,1\n",
    "# 1,1,2\n",
    "# 1,2,1\n",
    "# 2,1,1 \n",
    "# 2, 2\n",
    "# 3,1\n",
    "# 1,3\n",
    "\n",
    "print(\"should be 7\")\n",
    "number_of_ways(num_steps)"
   ]
  },
  {
   "cell_type": "markdown",
   "metadata": {},
   "source": [
    "#### Correct solution from book"
   ]
  },
  {
   "cell_type": "code",
   "execution_count": 6,
   "metadata": {},
   "outputs": [],
   "source": [
    "def number_of_ways(n):\n",
    "    if n < 0:\n",
    "        return 0\n",
    "    elif n == 0:\n",
    "        return 1\n",
    "    else:\n",
    "        return number_of_ways(n-1)+number_of_ways(n-2)+number_of_ways(n-3)"
   ]
  },
  {
   "cell_type": "code",
   "execution_count": 7,
   "metadata": {},
   "outputs": [
    {
     "name": "stdout",
     "output_type": "stream",
     "text": [
      "should be 4\n"
     ]
    },
    {
     "data": {
      "text/plain": [
       "4"
      ]
     },
     "execution_count": 7,
     "metadata": {},
     "output_type": "execute_result"
    }
   ],
   "source": [
    "num_steps = 3\n",
    "# 1,1,1\n",
    "# 1,2# 2,1\n",
    "# 3\n",
    "print(\"should be 4\")\n",
    "number_of_ways(num_steps)\n"
   ]
  },
  {
   "cell_type": "code",
   "execution_count": 226,
   "metadata": {},
   "outputs": [
    {
     "name": "stdout",
     "output_type": "stream",
     "text": [
      "should be 7\n"
     ]
    },
    {
     "data": {
      "text/plain": [
       "7"
      ]
     },
     "execution_count": 226,
     "metadata": {},
     "output_type": "execute_result"
    }
   ],
   "source": [
    "num_steps = 4\n",
    "# 1,1,1,1\n",
    "# 1,1,2\n",
    "# 1,2,1\n",
    "# 2,1,1 \n",
    "# 2, 2\n",
    "# 3,1\n",
    "# 1,3\n",
    "\n",
    "print(\"should be 7\")\n",
    "number_of_ways(num_steps)"
   ]
  },
  {
   "cell_type": "code",
   "execution_count": 227,
   "metadata": {},
   "outputs": [
    {
     "name": "stdout",
     "output_type": "stream",
     "text": [
      "should be 7\n"
     ]
    },
    {
     "data": {
      "text/plain": [
       "504"
      ]
     },
     "execution_count": 227,
     "metadata": {},
     "output_type": "execute_result"
    }
   ],
   "source": [
    "num_steps = 11\n",
    "# 1,1,1,1\n",
    "# 1,1,2\n",
    "# 1,2,1\n",
    "# 2,1,1 \n",
    "# 2, 2\n",
    "# 3,1\n",
    "# 1,3\n",
    "\n",
    "print(\"should be 7\")\n",
    "number_of_ways(num_steps)"
   ]
  },
  {
   "cell_type": "markdown",
   "metadata": {},
   "source": [
    "### Robot in a Grid\n",
    "\n",
    "Imagine a robot sitting on the upper left corner of grid with r rows and c columns.\n",
    "The robot can only move in two directions, right and down, but certain cells are \"off limits\" such that\n",
    "the robot cannot step on them. Design an algorithm to find a path for the robot from the top left to\n",
    "the bottom right."
   ]
  },
  {
   "cell_type": "code",
   "execution_count": 228,
   "metadata": {},
   "outputs": [],
   "source": [
    "def robot(r, c, off_limits = []):\n",
    "    # base case reached goal\n",
    "    if [r, c ]  == [0,0]:\n",
    "        return 1\n",
    "    # base case cannot move\n",
    "    elif ([r, c] in off_limits) or (r < 0 or c < 0):\n",
    "        return 0\n",
    "    else:\n",
    "        return robot(r, c - 1, off_limits) + robot(r - 1, c, off_limits)\n",
    "    \n",
    "    # recursive case\n",
    "    "
   ]
  },
  {
   "cell_type": "code",
   "execution_count": 229,
   "metadata": {},
   "outputs": [
    {
     "data": {
      "text/plain": [
       "0"
      ]
     },
     "execution_count": 229,
     "metadata": {},
     "output_type": "execute_result"
    }
   ],
   "source": [
    "# impossible to find path\n",
    "# a 3 by 4 grid with off_limits = [[2,2],[3,2], [2,3]]\n",
    "robot(r=2, c=3, off_limits=[[1, 2], [1, 3], [2, 2]])"
   ]
  },
  {
   "cell_type": "code",
   "execution_count": 230,
   "metadata": {},
   "outputs": [
    {
     "data": {
      "text/plain": [
       "3"
      ]
     },
     "execution_count": 230,
     "metadata": {},
     "output_type": "execute_result"
    }
   ],
   "source": [
    "# impossible to find path\n",
    "# a 3 by 4 grid with off_limits = = [[2,2], [2,3]] \n",
    "robot(r=2, c=3, off_limits=[[1, 2], [1,3]])"
   ]
  },
  {
   "cell_type": "markdown",
   "metadata": {},
   "source": [
    "### Magic Index\n",
    "\n",
    "A magic index in an array A [ 0 ••• n -1] is defined to be an index such that A[i] =\n",
    "i. Given a sorted array of distinct integers, write a method to find a magic index, if one exists, in\n",
    "array A.\n",
    "\n",
    "FOLLOW UP\n",
    "\n",
    "What if the values are not distinct?"
   ]
  },
  {
   "cell_type": "code",
   "execution_count": 231,
   "metadata": {},
   "outputs": [],
   "source": [
    "def magic_index(L):\n",
    "    n = len(L)\n",
    "    if n == 0:\n",
    "        return \"No Magic Index in the middle\"\n",
    "\n",
    "    if not (L[0] <= 0 and L[-1] >= n - 1):\n",
    "        return \"No Magic Index - Continuity Theorem\"\n",
    "\n",
    "    return helper(L, 0)\n",
    "\n",
    "\n",
    "def helper(L, index):\n",
    "    \n",
    "    n = len(L)\n",
    "    half_way = n // 2\n",
    "    if n == 1:\n",
    "        return \"No magic index found\"\n",
    "    \n",
    "    \n",
    "    \n",
    "    if L[half_way] == index + half_way:\n",
    "        return L[half_way]\n",
    "    elif L[half_way] < index + half_way:\n",
    "        return helper(L[half_way:], index + half_way)\n",
    "    elif L[half_way] > index + half_way:\n",
    "        return helper(L[:half_way], index)"
   ]
  },
  {
   "cell_type": "code",
   "execution_count": 232,
   "metadata": {},
   "outputs": [
    {
     "data": {
      "text/plain": [
       "3"
      ]
     },
     "execution_count": 232,
     "metadata": {},
     "output_type": "execute_result"
    }
   ],
   "source": [
    "L = [-1,0,1,3,5,7,9]\n",
    "magic_index(L)"
   ]
  },
  {
   "cell_type": "code",
   "execution_count": 233,
   "metadata": {},
   "outputs": [
    {
     "data": {
      "text/plain": [
       "'No magic index found'"
      ]
     },
     "execution_count": 233,
     "metadata": {},
     "output_type": "execute_result"
    }
   ],
   "source": [
    "L = [-10, -5, 2, 2, 2, 3, 4, 8, 9,12, 13]\n",
    "magic_index(L)"
   ]
  },
  {
   "cell_type": "code",
   "execution_count": 234,
   "metadata": {},
   "outputs": [
    {
     "data": {
      "text/plain": [
       "7"
      ]
     },
     "execution_count": 234,
     "metadata": {},
     "output_type": "execute_result"
    }
   ],
   "source": [
    "L = [-3, -2, -1, 0, 1, 2, 3, 7]\n",
    "# print(\"should be 7\")\n",
    "magic_index(L)"
   ]
  },
  {
   "cell_type": "code",
   "execution_count": 235,
   "metadata": {},
   "outputs": [
    {
     "data": {
      "text/plain": [
       "6"
      ]
     },
     "execution_count": 235,
     "metadata": {},
     "output_type": "execute_result"
    }
   ],
   "source": [
    "K = [ 0, 1, 2, 3, 4, 5, 6, 7]\n",
    "L = [-1, 0, 1, 2, 3, 4, 6, 8]\n",
    "# print(\"should be 7\")\n",
    "magic_index(L)"
   ]
  },
  {
   "cell_type": "code",
   "execution_count": 236,
   "metadata": {},
   "outputs": [
    {
     "data": {
      "text/plain": [
       "5"
      ]
     },
     "execution_count": 236,
     "metadata": {},
     "output_type": "execute_result"
    }
   ],
   "source": [
    "K = [ 0, 1, 2, 3, 4, 5, 6, 7]\n",
    "L = [-1, 0, 1, 2, 3, 5, 9, 10]\n",
    "# print(\"should be 7\")\n",
    "magic_index(L)"
   ]
  },
  {
   "cell_type": "code",
   "execution_count": 237,
   "metadata": {},
   "outputs": [
    {
     "data": {
      "text/plain": [
       "2"
      ]
     },
     "execution_count": 237,
     "metadata": {},
     "output_type": "execute_result"
    }
   ],
   "source": [
    "K = [ 0, 1, 2, 3, 4, 5, 6, 7, 8]\n",
    "L = [-1, 0, 2, 4, 5, 6, 7, 8, 9]\n",
    "# print(\"should be 7\")\n",
    "magic_index(L)"
   ]
  },
  {
   "cell_type": "code",
   "execution_count": 238,
   "metadata": {},
   "outputs": [
    {
     "data": {
      "text/plain": [
       "2"
      ]
     },
     "execution_count": 238,
     "metadata": {},
     "output_type": "execute_result"
    }
   ],
   "source": [
    "K = [ 0, 1, 2, 3, 4, 5, 6, 7]\n",
    "L = [-1, 0, 2, 4, 5, 6, 7, 8]\n",
    "# print(\"should be 7\")\n",
    "magic_index(L)"
   ]
  },
  {
   "cell_type": "code",
   "execution_count": 239,
   "metadata": {},
   "outputs": [
    {
     "data": {
      "text/plain": [
       "'No magic index found'"
      ]
     },
     "execution_count": 239,
     "metadata": {},
     "output_type": "execute_result"
    }
   ],
   "source": [
    "L = [-10, -9, -8, 9, 10, 11, 12, 13]\n",
    "magic_index(L)"
   ]
  },
  {
   "cell_type": "code",
   "execution_count": 240,
   "metadata": {},
   "outputs": [
    {
     "data": {
      "text/plain": [
       "'No Magic Index - Continuity Theorem'"
      ]
     },
     "execution_count": 240,
     "metadata": {},
     "output_type": "execute_result"
    }
   ],
   "source": [
    "L = [-10, -9, -8, -5]\n",
    "magic_index(L)"
   ]
  },
  {
   "cell_type": "code",
   "execution_count": 241,
   "metadata": {
    "scrolled": false
   },
   "outputs": [
    {
     "data": {
      "text/plain": [
       "'No Magic Index - Continuity Theorem'"
      ]
     },
     "execution_count": 241,
     "metadata": {},
     "output_type": "execute_result"
    }
   ],
   "source": [
    "L = [10, 11, 12]\n",
    "magic_index(L)"
   ]
  },
  {
   "cell_type": "markdown",
   "metadata": {},
   "source": [
    "### Follow up:  What if the values are not distinct?"
   ]
  },
  {
   "cell_type": "code",
   "execution_count": 242,
   "metadata": {},
   "outputs": [],
   "source": [
    "def magic_index(L):\n",
    "    n = len(L)\n",
    "    if n == 0:\n",
    "        return \"No Magic Index in the middle\"\n",
    "\n",
    "\n",
    "    return helper(L, 0)\n",
    "\n",
    "\n",
    "def helper(L, index):\n",
    "    print(L, index)\n",
    "    \n",
    "    n = len(L)\n",
    "    half_way = n // 2\n",
    "    if n == 1:\n",
    "        return \"No magic index found\"\n",
    "    \n",
    "    \n",
    "    \n",
    "    if L[half_way] == index + half_way:\n",
    "        return L[half_way]\n",
    "    elif L[half_way] > index + half_way:\n",
    "        return helper(L[half_way:], index + half_way)\n",
    "    elif L[half_way] < index + half_way:\n",
    "        return helper(L[:half_way], index)\n"
   ]
  },
  {
   "cell_type": "code",
   "execution_count": 243,
   "metadata": {},
   "outputs": [
    {
     "name": "stdout",
     "output_type": "stream",
     "text": [
      "[-1, -1, -1, 10, 10, 10, 10] 0\n",
      "[10, 10, 10, 10] 3\n",
      "[10, 10] 5\n",
      "[10] 6\n"
     ]
    },
    {
     "data": {
      "text/plain": [
       "'No magic index found'"
      ]
     },
     "execution_count": 243,
     "metadata": {},
     "output_type": "execute_result"
    }
   ],
   "source": [
    "K = [ 0,  1,  2, 3,  4,  5, 6]\n",
    "L = [-1, -1, -1, 10, 10, 10, 10]\n",
    "# print(\"should be 7\")\n",
    "magic_index(L)"
   ]
  },
  {
   "cell_type": "code",
   "execution_count": 244,
   "metadata": {},
   "outputs": [
    {
     "name": "stdout",
     "output_type": "stream",
     "text": [
      "[-10, -5, 2, 2, 2, 3, 4, 7, 9, 12, 13] 0\n",
      "[-10, -5, 2, 2, 2] 0\n"
     ]
    },
    {
     "data": {
      "text/plain": [
       "2"
      ]
     },
     "execution_count": 244,
     "metadata": {},
     "output_type": "execute_result"
    }
   ],
   "source": [
    "L = [-10, -5, 2, 2, 2, 3, 4, 7, 9,12, 13]\n",
    "magic_index(L)"
   ]
  },
  {
   "cell_type": "code",
   "execution_count": 245,
   "metadata": {},
   "outputs": [
    {
     "name": "stdout",
     "output_type": "stream",
     "text": [
      "[3, 3, 3, 3, 3, 3, 3, 3, 3] 0\n",
      "[3, 3, 3, 3] 0\n",
      "[3, 3] 2\n"
     ]
    },
    {
     "data": {
      "text/plain": [
       "3"
      ]
     },
     "execution_count": 245,
     "metadata": {},
     "output_type": "execute_result"
    }
   ],
   "source": [
    "L = [3,3,3,3,3,3,3,3,3]\n",
    "magic_index(L)"
   ]
  },
  {
   "cell_type": "markdown",
   "metadata": {},
   "source": [
    "### 8.4 Power Set\n",
    "\n",
    "Write a method to return all subsets of a set."
   ]
  },
  {
   "cell_type": "code",
   "execution_count": 246,
   "metadata": {},
   "outputs": [],
   "source": [
    "def get_subsets(L):\n",
    "    subset = []\n",
    "    helper(L, subset)\n",
    "\n",
    "\n",
    "def helper(L, subset):\n",
    "    if len(L) == 0:\n",
    "        print(\"\".join([str(i) for i in subset]))\n",
    "\n",
    "    else:\n",
    "        subset.append(L[0])\n",
    "        helper(L[1:], subset)\n",
    "        subset.pop()\n",
    "        helper(L[1:], subset)\n",
    "        "
   ]
  },
  {
   "cell_type": "code",
   "execution_count": 247,
   "metadata": {
    "scrolled": true
   },
   "outputs": [
    {
     "name": "stdout",
     "output_type": "stream",
     "text": [
      "CATS\n",
      "CAT\n",
      "CAS\n",
      "CA\n",
      "CTS\n",
      "CT\n",
      "CS\n",
      "C\n",
      "ATS\n",
      "AT\n",
      "AS\n",
      "A\n",
      "TS\n",
      "T\n",
      "S\n",
      "\n"
     ]
    }
   ],
   "source": [
    "L = [\"C\", \"A\", \"T\", \"S\"]\n",
    "get_subsets(L)"
   ]
  },
  {
   "cell_type": "markdown",
   "metadata": {},
   "source": [
    "#### Alternative: get the number of subsets"
   ]
  },
  {
   "cell_type": "code",
   "execution_count": 274,
   "metadata": {},
   "outputs": [],
   "source": [
    "def get_subsets(L):\n",
    "    return helper(L)\n",
    "\n",
    "\n",
    "def helper(L):\n",
    "    if len(L) == 0:\n",
    "        return 1\n",
    "\n",
    "    else:\n",
    "        return 2 * helper(L[1:])"
   ]
  },
  {
   "cell_type": "code",
   "execution_count": 280,
   "metadata": {
    "scrolled": true
   },
   "outputs": [
    {
     "data": {
      "text/plain": [
       "True"
      ]
     },
     "execution_count": 280,
     "metadata": {},
     "output_type": "execute_result"
    }
   ],
   "source": [
    "L = [1,2,3,4,5,6,7]\n",
    "get_subsets(L) == 2**len(L)"
   ]
  },
  {
   "cell_type": "markdown",
   "metadata": {},
   "source": [
    "### 8.7 Permutations without Dups\n",
    "\n",
    "Write a method to compute all permutations of a string of unique\n",
    "characters."
   ]
  },
  {
   "cell_type": "code",
   "execution_count": 281,
   "metadata": {},
   "outputs": [],
   "source": [
    "def get_perms(L):\n",
    "    permutation = []\n",
    "    helper(L, permutation)\n",
    "\n",
    "\n",
    "def helper(L, permutation):\n",
    "    if len(L) == 0:\n",
    "        print(\"\".join(permutation))\n",
    "    else:\n",
    "        for index in range(len(L)):\n",
    "            permutation.append(L[index])\n",
    "            helper(L[:index] + L[index+1:], permutation)\n",
    "            permutation.pop()\n",
    "        "
   ]
  },
  {
   "cell_type": "code",
   "execution_count": 282,
   "metadata": {},
   "outputs": [
    {
     "name": "stdout",
     "output_type": "stream",
     "text": [
      "123\n",
      "132\n",
      "213\n",
      "231\n",
      "312\n",
      "321\n"
     ]
    }
   ],
   "source": [
    "L = \"123\"\n",
    "get_perms(L)"
   ]
  },
  {
   "cell_type": "markdown",
   "metadata": {},
   "source": [
    "#### same algorithm but one that RETURNS the list of all permutations"
   ]
  },
  {
   "cell_type": "code",
   "execution_count": 283,
   "metadata": {},
   "outputs": [],
   "source": [
    "def get_perms(L):\n",
    "    prefix = \"\"\n",
    "    result = []\n",
    "    helper(L, prefix, result)\n",
    "    return result\n",
    "\n",
    "\n",
    "def helper(L, prefix, result):\n",
    "    if len(L) == 0:\n",
    "        result.append(prefix)\n",
    "    for index in range(len(L)):\n",
    "        helper(L[:index] + L[index+1:], prefix + L[index], result)\n",
    "\n",
    "\n",
    "        "
   ]
  },
  {
   "cell_type": "code",
   "execution_count": 284,
   "metadata": {},
   "outputs": [
    {
     "data": {
      "text/plain": [
       "['123', '132', '213', '231', '312', '321']"
      ]
     },
     "execution_count": 284,
     "metadata": {},
     "output_type": "execute_result"
    }
   ],
   "source": [
    "L = \"123\"\n",
    "get_perms(L)"
   ]
  },
  {
   "cell_type": "markdown",
   "metadata": {},
   "source": [
    "### alternative: count the number of iterations"
   ]
  },
  {
   "cell_type": "code",
   "execution_count": 285,
   "metadata": {},
   "outputs": [
    {
     "data": {
      "text/plain": [
       "6"
      ]
     },
     "execution_count": 285,
     "metadata": {},
     "output_type": "execute_result"
    }
   ],
   "source": [
    "sum([1,2,3])"
   ]
  },
  {
   "cell_type": "code",
   "execution_count": 286,
   "metadata": {},
   "outputs": [],
   "source": [
    "def get_perms(L):\n",
    "    prefix = \"\"\n",
    "    result = 0\n",
    "    return helper(L, prefix, result)\n",
    "\n",
    "\n",
    "def helper(L, prefix, result):\n",
    "    if len(L) == 0:\n",
    "        result += 1\n",
    "        return result\n",
    "    \n",
    "    my_list = [helper(L[:index] + L[index+1:], prefix + L[index], result) for index in range(len(L))]\n",
    "    return sum(my_list)\n",
    "\n",
    "\n",
    "        "
   ]
  },
  {
   "cell_type": "code",
   "execution_count": 287,
   "metadata": {},
   "outputs": [
    {
     "data": {
      "text/plain": [
       "120"
      ]
     },
     "execution_count": 287,
     "metadata": {},
     "output_type": "execute_result"
    }
   ],
   "source": [
    "L = \"12345\"\n",
    "get_perms(L)"
   ]
  },
  {
   "cell_type": "markdown",
   "metadata": {},
   "source": [
    "### Mysterious solution from textbook"
   ]
  },
  {
   "cell_type": "code",
   "execution_count": 288,
   "metadata": {},
   "outputs": [],
   "source": [
    "def get_perms(L):\n",
    "    result = []\n",
    "\n",
    "    # Base Case\n",
    "    if len(L) == 0:\n",
    "        result.append(\"\")\n",
    "        return result\n",
    "\n",
    "    for index in range(len(L)):\n",
    "        partials = get_perms(L[:index] + L[index+1:])\n",
    "        for s in partials:\n",
    "            result.append(L[index] + s)\n",
    "    \n",
    "\n",
    "    return result"
   ]
  },
  {
   "cell_type": "code",
   "execution_count": 289,
   "metadata": {},
   "outputs": [
    {
     "data": {
      "text/plain": [
       "['CAT', 'CTA', 'ACT', 'ATC', 'TCA', 'TAC']"
      ]
     },
     "execution_count": 289,
     "metadata": {},
     "output_type": "execute_result"
    }
   ],
   "source": [
    "L = \"CAT\"\n",
    "get_perms(L)"
   ]
  },
  {
   "cell_type": "markdown",
   "metadata": {},
   "source": [
    "### Permutations with Dups\n",
    "\n",
    "Write a method to compute all permutations of a string whose characters are not necessarily unique. The list of permutations should not have duplicates."
   ]
  },
  {
   "cell_type": "code",
   "execution_count": 292,
   "metadata": {},
   "outputs": [],
   "source": [
    "def get_perms(L):\n",
    "    prefix = \"\"\n",
    "    result = set()\n",
    "    helper(L, prefix, result)\n",
    "    return result\n",
    "\n",
    "\n",
    "def helper(L, prefix, result):\n",
    "    if len(L) == 0:\n",
    "        result.add(prefix)\n",
    "    for index in range(len(L)):\n",
    "        helper(L[:index] + L[index+1:], prefix + L[index], result)\n",
    "\n",
    "\n",
    "        "
   ]
  },
  {
   "cell_type": "code",
   "execution_count": 293,
   "metadata": {},
   "outputs": [
    {
     "data": {
      "text/plain": [
       "{'122', '212', '221'}"
      ]
     },
     "execution_count": 293,
     "metadata": {},
     "output_type": "execute_result"
    }
   ],
   "source": [
    "L = \"122\"\n",
    "get_perms(L)"
   ]
  },
  {
   "cell_type": "markdown",
   "metadata": {},
   "source": [
    "### Parens\n",
    "\n",
    "Implement an algorithm to print all valid (i.e., properly opened and closed) combinations\n",
    "of n pairs of parentheses."
   ]
  },
  {
   "cell_type": "code",
   "execution_count": 356,
   "metadata": {
    "code_folding": []
   },
   "outputs": [],
   "source": [
    "def parens(n):\n",
    "    \n",
    "    total = 1\n",
    "    counter = 1\n",
    "    result = []\n",
    "    string = \"(\"\n",
    "    helper(n, counter, string, total, result)\n",
    "    return result\n",
    "\n",
    "\n",
    "def helper(n, counter, string, total, result):\n",
    "    \n",
    "    # Base case\n",
    "    if total == n:\n",
    "        # pad result with close brackets until it is of length 2n\n",
    "        string += \")\"*(2*n - len(string))\n",
    "        result.append(string)\n",
    "    # Recursive Case\n",
    "    else:\n",
    "        if counter == 0:\n",
    "            helper(n, counter + 1, string + \"(\", total + 1, result)\n",
    "        else:\n",
    "            helper(n, counter + 1, string + \"(\", total + 1, result)\n",
    "            helper(n, counter - 1, string + \")\", total, result)\n",
    "\n",
    "\n",
    "            \n"
   ]
  },
  {
   "cell_type": "code",
   "execution_count": 367,
   "metadata": {},
   "outputs": [
    {
     "data": {
      "text/plain": [
       "['(())', '()()']"
      ]
     },
     "execution_count": 367,
     "metadata": {},
     "output_type": "execute_result"
    }
   ],
   "source": [
    "parens(2)"
   ]
  },
  {
   "cell_type": "code",
   "execution_count": 357,
   "metadata": {},
   "outputs": [
    {
     "data": {
      "text/plain": [
       "['((()))', '(()())', '(())()', '()(())', '()()()']"
      ]
     },
     "execution_count": 357,
     "metadata": {},
     "output_type": "execute_result"
    }
   ],
   "source": [
    "parens(3)"
   ]
  },
  {
   "cell_type": "code",
   "execution_count": 366,
   "metadata": {},
   "outputs": [
    {
     "data": {
      "text/plain": [
       "['(((())))',\n",
       " '((()()))',\n",
       " '((())())',\n",
       " '((()))()',\n",
       " '(()(()))',\n",
       " '(()()())',\n",
       " '(()())()',\n",
       " '(())(())',\n",
       " '(())()()',\n",
       " '()((()))',\n",
       " '()(()())',\n",
       " '()(())()',\n",
       " '()()(())',\n",
       " '()()()()']"
      ]
     },
     "execution_count": 366,
     "metadata": {},
     "output_type": "execute_result"
    }
   ],
   "source": [
    "parens(4)"
   ]
  },
  {
   "cell_type": "code",
   "execution_count": null,
   "metadata": {},
   "outputs": [],
   "source": []
  }
 ],
 "metadata": {
  "kernelspec": {
   "display_name": "Python 3",
   "language": "python",
   "name": "python3"
  },
  "language_info": {
   "codemirror_mode": {
    "name": "ipython",
    "version": 3
   },
   "file_extension": ".py",
   "mimetype": "text/x-python",
   "name": "python",
   "nbconvert_exporter": "python",
   "pygments_lexer": "ipython3",
   "version": "3.8.2"
  },
  "varInspector": {
   "cols": {
    "lenName": 16,
    "lenType": 16,
    "lenVar": 40
   },
   "kernels_config": {
    "python": {
     "delete_cmd_postfix": "",
     "delete_cmd_prefix": "del ",
     "library": "var_list.py",
     "varRefreshCmd": "print(var_dic_list())"
    },
    "r": {
     "delete_cmd_postfix": ") ",
     "delete_cmd_prefix": "rm(",
     "library": "var_list.r",
     "varRefreshCmd": "cat(var_dic_list()) "
    }
   },
   "types_to_exclude": [
    "module",
    "function",
    "builtin_function_or_method",
    "instance",
    "_Feature"
   ],
   "window_display": false
  }
 },
 "nbformat": 4,
 "nbformat_minor": 4
}
