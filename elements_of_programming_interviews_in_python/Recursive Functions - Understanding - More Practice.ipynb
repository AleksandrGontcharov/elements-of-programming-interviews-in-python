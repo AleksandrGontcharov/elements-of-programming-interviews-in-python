{
 "cells": [
  {
   "cell_type": "markdown",
   "metadata": {},
   "source": [
    "### Steps:\n",
    " 1. Understand the problem\n",
    " 2. Sketch a solution with pen and paper - think of test cases\n",
    " 3. Write test cases in order of complexity\n",
    " 4. Iterate to think of the solution"
   ]
  },
  {
   "cell_type": "markdown",
   "metadata": {},
   "source": [
    "# Fibonacci Function\n",
    "___"
   ]
  },
  {
   "cell_type": "markdown",
   "metadata": {},
   "source": [
    "* Create a function that will return the nth fibbonacci number"
   ]
  },
  {
   "cell_type": "code",
   "execution_count": 3,
   "metadata": {},
   "outputs": [],
   "source": [
    "def fib(n):\n",
    "    # Base Case\n",
    "    if n == 1 or n == 2:\n",
    "        return 1\n",
    "    else:\n",
    "        return fib(n - 1) + fib(n - 2)\n",
    " "
   ]
  },
  {
   "cell_type": "markdown",
   "metadata": {},
   "source": [
    "### How long does it take to run fib 35"
   ]
  },
  {
   "cell_type": "code",
   "execution_count": 4,
   "metadata": {},
   "outputs": [
    {
     "name": "stdout",
     "output_type": "stream",
     "text": [
      "Wall time: 2.09 s\n"
     ]
    },
    {
     "data": {
      "text/plain": [
       "9227465"
      ]
     },
     "execution_count": 4,
     "metadata": {},
     "output_type": "execute_result"
    }
   ],
   "source": [
    "%%time\n",
    "fib(35)"
   ]
  },
  {
   "cell_type": "markdown",
   "metadata": {},
   "source": [
    "**That's quite a while. Why?**"
   ]
  },
  {
   "cell_type": "markdown",
   "metadata": {},
   "source": [
    "## Fibbonacci with Memoization/ Dynamic Programming"
   ]
  },
  {
   "cell_type": "markdown",
   "metadata": {},
   "source": [
    "\n",
    "Using memoization helps avoid repeating subproblems! we cache the results into a dictionary or other structure such as a list, that we can then access to quickly retrieve that solution instead of having to re-compute those subtrees"
   ]
  },
  {
   "cell_type": "code",
   "execution_count": 5,
   "metadata": {},
   "outputs": [],
   "source": [
    "# Intiialize Memoization dictionary\n",
    "memo = {}\n",
    "def fib_memo(n, memo):\n",
    "    if n in memo:\n",
    "        return memo[n]\n",
    "    # Base Case\n",
    "    if n == 1 or n == 2:\n",
    "        result = 1\n",
    "    else:\n",
    "        result = fib_memo(n - 1, memo) + fib_memo(n - 2, memo)\n",
    "    memo[n] = result\n",
    "    return result"
   ]
  },
  {
   "cell_type": "code",
   "execution_count": 6,
   "metadata": {},
   "outputs": [
    {
     "name": "stdout",
     "output_type": "stream",
     "text": [
      "Wall time: 1e+03 µs\n"
     ]
    },
    {
     "data": {
      "text/plain": [
       "9227465"
      ]
     },
     "execution_count": 6,
     "metadata": {},
     "output_type": "execute_result"
    }
   ],
   "source": [
    "%%time\n",
    "memo = {}\n",
    "fib_memo(35, memo)"
   ]
  },
  {
   "cell_type": "markdown",
   "metadata": {},
   "source": [
    "* Comparison of regular implementation of fib and fib_memo"
   ]
  },
  {
   "cell_type": "code",
   "execution_count": 8,
   "metadata": {},
   "outputs": [],
   "source": [
    "def fib(n):\n",
    "    global numCalls\n",
    "    numCalls += 1\n",
    "    # Base Case\n",
    "    if n == 1 or n == 2:\n",
    "        numCalls += 1\n",
    "        return 1\n",
    "    else:\n",
    "        return fib(n - 1) + fib(n - 2)"
   ]
  },
  {
   "cell_type": "code",
   "execution_count": 9,
   "metadata": {},
   "outputs": [
    {
     "name": "stdout",
     "output_type": "stream",
     "text": [
      "it took 27,682,394 calls to compute fib(35) to be 9227465\n",
      "Wall time: 3.94 s\n"
     ]
    }
   ],
   "source": [
    "%%time\n",
    "numCalls = 0\n",
    "fib_35 = fib(35)\n",
    "print(f\"it took {numCalls:,} calls to compute fib(35) to be\",fib_35)"
   ]
  },
  {
   "cell_type": "code",
   "execution_count": 10,
   "metadata": {},
   "outputs": [],
   "source": [
    "def fib_memo(n, memo):\n",
    "    global numCalls\n",
    "    numCalls += 1\n",
    "    if n in memo:\n",
    "        return memo[n]\n",
    "    # Base Case\n",
    "    if n == 1 or n == 2:\n",
    "        result = 1\n",
    "    else:\n",
    "        result = fib_memo(n - 1, memo) + fib_memo(n - 2, memo)\n",
    "    memo[n] = result\n",
    "    return result"
   ]
  },
  {
   "cell_type": "code",
   "execution_count": 11,
   "metadata": {},
   "outputs": [
    {
     "name": "stdout",
     "output_type": "stream",
     "text": [
      "it took 67 calls to compute fib(35) to be 9227465\n",
      "Wall time: 998 µs\n"
     ]
    }
   ],
   "source": [
    "%%time\n",
    "numCalls = 0\n",
    "memo = {}\n",
    "fib_memo_35 = fib_memo(35, memo)\n",
    "print(f\"it took {numCalls:,} calls to compute fib(35) to be\",fib_memo_35)"
   ]
  },
  {
   "cell_type": "code",
   "execution_count": 12,
   "metadata": {},
   "outputs": [
    {
     "name": "stdout",
     "output_type": "stream",
     "text": [
      "it took 197 calls to compute fib(35) to be 354224848179261915075\n",
      "Wall time: 998 µs\n"
     ]
    }
   ],
   "source": [
    "%%time\n",
    "numCalls = 0\n",
    "memo = {}\n",
    "fib_memo_100 = fib_memo(100, memo)\n",
    "print(f\"it took {numCalls:,} calls to compute fib(35) to be\",fib_memo_100)"
   ]
  },
  {
   "cell_type": "markdown",
   "metadata": {},
   "source": [
    "* Bottom up memoization of fib"
   ]
  },
  {
   "cell_type": "code",
   "execution_count": 75,
   "metadata": {
    "tags": []
   },
   "outputs": [],
   "source": [
    "def fib_bottom_up(n):\n",
    "    global numCalls\n",
    "    if n == 1:\n",
    "        return 1\n",
    "    a = 0\n",
    "    b = 1\n",
    "    for i in range(1, n):\n",
    "        numCalls += 1\n",
    "        c = a + b\n",
    "        a = b\n",
    "        b = c\n",
    "    return c\n",
    "        \n",
    "        "
   ]
  },
  {
   "cell_type": "code",
   "execution_count": 79,
   "metadata": {},
   "outputs": [
    {
     "name": "stdout",
     "output_type": "stream",
     "text": [
      "Wall time: 0 ns\n"
     ]
    },
    {
     "data": {
      "text/plain": [
       "9227465"
      ]
     },
     "execution_count": 79,
     "metadata": {},
     "output_type": "execute_result"
    }
   ],
   "source": [
    "%%time\n",
    "fib_bottom_up(35)"
   ]
  },
  {
   "cell_type": "code",
   "execution_count": 80,
   "metadata": {},
   "outputs": [
    {
     "name": "stdout",
     "output_type": "stream",
     "text": [
      "it took 999 calls to compute fib(35) to be 43466557686937456435688527675040625802564660517371780402481729089536555417949051890403879840079255169295922593080322634775209689623239873322471161642996440906533187938298969649928516003704476137795166849228875\n",
      "Wall time: 1 ms\n"
     ]
    }
   ],
   "source": [
    "%%time\n",
    "numCalls = 0\n",
    "fib_bottom_up_100 = fib_bottom_up(1000)\n",
    "print(f\"it took {numCalls:,} calls to compute fib(35) to be\",fib_bottom_up_100)"
   ]
  },
  {
   "cell_type": "markdown",
   "metadata": {},
   "source": [
    "# Types of Recursive Programming in Python\n",
    "____"
   ]
  },
  {
   "cell_type": "markdown",
   "metadata": {},
   "source": [
    "## Not using a helper Function\n",
    "_____"
   ]
  },
  {
   "cell_type": "markdown",
   "metadata": {},
   "source": [
    "* Not all recursive functions use a helper function such as the fibonacci example above"
   ]
  },
  {
   "cell_type": "code",
   "execution_count": null,
   "metadata": {},
   "outputs": [],
   "source": []
  },
  {
   "cell_type": "code",
   "execution_count": null,
   "metadata": {},
   "outputs": [],
   "source": []
  },
  {
   "cell_type": "code",
   "execution_count": null,
   "metadata": {},
   "outputs": [],
   "source": []
  },
  {
   "cell_type": "markdown",
   "metadata": {},
   "source": [
    "## Using a helper Function\n",
    "_____"
   ]
  },
  {
   "cell_type": "markdown",
   "metadata": {},
   "source": [
    "### The kind that prints something in the base case"
   ]
  },
  {
   "cell_type": "markdown",
   "metadata": {},
   "source": [
    "* Printing a list of all subsets of a set and returning that list of lists\n",
    "example:\n",
    "\n",
    "> \\$ subsets([1,2,3])  \n",
    "> [1, 2, 3]  \n",
    "> [1, 2]  \n",
    "> [1, 3]  \n",
    "> [1]  \n",
    "> [2, 3]  \n",
    "> [2]  \n",
    "> [3]  \n",
    "> []  \n"
   ]
  },
  {
   "cell_type": "markdown",
   "metadata": {},
   "source": [
    "### Example: print all subsets of a set"
   ]
  },
  {
   "cell_type": "code",
   "execution_count": 87,
   "metadata": {},
   "outputs": [],
   "source": [
    "def subsets(L):\n",
    "    # iterate through the list starting at i = 0 to len(L) - 1\n",
    "    i = 0\n",
    "    subset = []\n",
    "    result = helper(L, i, subset)\n",
    "\n",
    "def helper(L, i, subset):\n",
    "    # Base Case\n",
    "    if i == len(L):\n",
    "        print(subset)\n",
    "    # Recursive Case\n",
    "    else:\n",
    "        # the case containing the ith element\n",
    "        helper(L, i + 1, subset + [L[i]])\n",
    "        # the case not containing the i-th element\n",
    "        helper(L, i + 1, subset)"
   ]
  },
  {
   "cell_type": "code",
   "execution_count": 88,
   "metadata": {},
   "outputs": [
    {
     "name": "stdout",
     "output_type": "stream",
     "text": [
      "[1, 2, 3]\n",
      "[1, 2]\n",
      "[1, 3]\n",
      "[1]\n",
      "[2, 3]\n",
      "[2]\n",
      "[3]\n",
      "[]\n"
     ]
    }
   ],
   "source": [
    "subsets(L = [1,2,3])"
   ]
  },
  {
   "cell_type": "markdown",
   "metadata": {},
   "source": [
    "### Example: print all binary sequences of length n"
   ]
  },
  {
   "cell_type": "code",
   "execution_count": 91,
   "metadata": {},
   "outputs": [],
   "source": [
    "def binary_sequences(n):\n",
    "    # iterate through the list starting at i = 0 to len(L) - 1\n",
    "    i = 0\n",
    "    sequence = []\n",
    "    result = helper(n, i, sequence)\n",
    "\n",
    "def helper(n, i, sequence):\n",
    "    # Base Case\n",
    "    if i == n:\n",
    "        print(sequence)\n",
    "    # Recursive Case\n",
    "    else:\n",
    "        # the case containing the ith element\n",
    "        helper(n, i + 1, sequence + [1])\n",
    "        # the case not containing the i-th element\n",
    "        helper(n, i + 1, sequence + [0])"
   ]
  },
  {
   "cell_type": "code",
   "execution_count": 92,
   "metadata": {},
   "outputs": [
    {
     "name": "stdout",
     "output_type": "stream",
     "text": [
      "[1, 1, 1]\n",
      "[1, 1, 0]\n",
      "[1, 0, 1]\n",
      "[1, 0, 0]\n",
      "[0, 1, 1]\n",
      "[0, 1, 0]\n",
      "[0, 0, 1]\n",
      "[0, 0, 0]\n"
     ]
    }
   ],
   "source": [
    "binary_sequences(3)"
   ]
  },
  {
   "cell_type": "markdown",
   "metadata": {},
   "source": [
    "### Creating an object (such as a list) in memory and appending/modifying it *without returning it* in the base case"
   ]
  },
  {
   "cell_type": "markdown",
   "metadata": {},
   "source": [
    "### Example: return a list of all subset of a set WITHOUT return in the base case section"
   ]
  },
  {
   "cell_type": "code",
   "execution_count": 102,
   "metadata": {},
   "outputs": [],
   "source": [
    "def subsets(L):\n",
    "    # iterate through the list starting at i = 0 to len(L) - 1\n",
    "    i = 0\n",
    "    subset = []\n",
    "    # initialize master list\n",
    "    master_list = []\n",
    "    result = helper(L, i, subset, master_list)\n",
    "    return master_list\n",
    "\n",
    "def helper(L, i, subset, master_list):\n",
    "    # Base Case\"\n",
    "    if i == len(L):\n",
    "        print(subset)\n",
    "        master_list.append(subset)\n",
    "    # Recursive Case\n",
    "    else:\n",
    "        # the case containing the ith element\n",
    "        helper(L, i + 1, subset + [L[i]], master_list)\n",
    "        # the case not containing the i-th element\n",
    "        helper(L, i + 1, subset, master_list)"
   ]
  },
  {
   "cell_type": "code",
   "execution_count": 101,
   "metadata": {},
   "outputs": [
    {
     "name": "stdout",
     "output_type": "stream",
     "text": [
      "[1, 2, 3]\n",
      "[1, 2]\n",
      "[1, 3]\n",
      "[1]\n",
      "[2, 3]\n",
      "[2]\n",
      "[3]\n",
      "[]\n"
     ]
    },
    {
     "data": {
      "text/plain": [
       "[[1, 2, 3], [1, 2], [1, 3], [1], [2, 3], [2], [3], []]"
      ]
     },
     "execution_count": 101,
     "metadata": {},
     "output_type": "execute_result"
    }
   ],
   "source": [
    "subsets(L = [1,2,3])"
   ]
  },
  {
   "cell_type": "markdown",
   "metadata": {},
   "source": [
    "### Example: return a list of all subset of a set WITH return in the base case section"
   ]
  },
  {
   "cell_type": "code",
   "execution_count": 290,
   "metadata": {},
   "outputs": [],
   "source": [
    "def subsets(L):\n",
    "    # iterate through the list starting at i = 0 to len(L) - 1\n",
    "    i = 0\n",
    "    subset = []\n",
    "    # initialize master list\n",
    "    \n",
    "    result = helper(L, i, subset)\n",
    "    return result\n",
    "\n",
    "def helper(L, i, subset):\n",
    "    # Base Case\"\n",
    "    if i == len(L):\n",
    "        print(subset)\n",
    "        return [subset]\n",
    "    # Recursive Case\n",
    "    else:\n",
    "        master_list = []\n",
    "        # the case containing the ith element\n",
    "        master_list += helper(L, i + 1, subset + [L[i]])\n",
    "        # the case not containing the i-th element\n",
    "        master_list += helper(L, i + 1, subset)\n",
    "        \n",
    "    return master_list"
   ]
  },
  {
   "cell_type": "code",
   "execution_count": 291,
   "metadata": {},
   "outputs": [
    {
     "name": "stdout",
     "output_type": "stream",
     "text": [
      "[1, 2, 3]\n",
      "[1, 2]\n",
      "[1, 3]\n",
      "[1]\n",
      "[2, 3]\n",
      "[2]\n",
      "[3]\n",
      "[]\n"
     ]
    },
    {
     "data": {
      "text/plain": [
       "[[1, 2, 3], [1, 2], [1, 3], [1], [2, 3], [2], [3], []]"
      ]
     },
     "execution_count": 291,
     "metadata": {},
     "output_type": "execute_result"
    }
   ],
   "source": [
    "subsets(L = [1,2,3])"
   ]
  },
  {
   "cell_type": "code",
   "execution_count": null,
   "metadata": {},
   "outputs": [],
   "source": []
  },
  {
   "cell_type": "markdown",
   "metadata": {},
   "source": [
    "# Fancy Memoization\n",
    "### Example: return a list of all subset of a set WITH return in the base case section"
   ]
  },
  {
   "cell_type": "markdown",
   "metadata": {},
   "source": [
    "\n",
    "#### Coins\n",
    "\n",
    "Given an infinite number of (25) quarters (10) dimes (5) nickels, and (1) pennies. Write code to calculate the number of ways to get n cents.\n"
   ]
  },
  {
   "cell_type": "code",
   "execution_count": 417,
   "metadata": {},
   "outputs": [],
   "source": []
  },
  {
   "cell_type": "code",
   "execution_count": 422,
   "metadata": {
    "tags": []
   },
   "outputs": [],
   "source": [
    "types_of_coins = [100, 25,10,5, 2,1]\n",
    "\n",
    "def number_of_ways(n):\n",
    "    \n",
    "    list_of_ways = []\n",
    "    my_way = []\n",
    "    money_left = n\n",
    "    return helper(my_way, list_of_ways, money_left)\n",
    "\n",
    "def helper(my_way, list_of_ways, money_left):\n",
    "    global numCalls\n",
    "    numCalls += 1\n",
    "    if money_left == 0:\n",
    "        my_way = {item:my_way.count(item) for item in my_way}\n",
    "        \n",
    "        if my_way not in list_of_ways:\n",
    "        \n",
    "            list_of_ways.append(my_way)\n",
    "    elif money_left < 0:\n",
    "        list_of_ways += []\n",
    "    else:\n",
    "        for i, coin in enumerate(types_of_coins):\n",
    "            helper(my_way + [coin], list_of_ways, money_left - coin)\n",
    "    return list_of_ways\n"
   ]
  },
  {
   "cell_type": "code",
   "execution_count": 425,
   "metadata": {},
   "outputs": [
    {
     "name": "stdout",
     "output_type": "stream",
     "text": [
      "it took 3,399,157 calls to compute to be \n",
      " [{25: 1}, {10: 2, 5: 1}, {10: 2, 2: 2, 1: 1}, {10: 2, 2: 1, 1: 3}, {10: 2, 1: 5}, {10: 1, 5: 3}, {10: 1, 5: 2, 2: 2, 1: 1}, {10: 1, 5: 2, 2: 1, 1: 3}, {10: 1, 5: 2, 1: 5}, {10: 1, 5: 1, 2: 5}, {10: 1, 5: 1, 2: 4, 1: 2}, {10: 1, 5: 1, 2: 3, 1: 4}, {10: 1, 5: 1, 2: 2, 1: 6}, {10: 1, 5: 1, 2: 1, 1: 8}, {10: 1, 5: 1, 1: 10}, {10: 1, 2: 7, 1: 1}, {10: 1, 2: 6, 1: 3}, {10: 1, 2: 5, 1: 5}, {10: 1, 2: 4, 1: 7}, {10: 1, 2: 3, 1: 9}, {10: 1, 2: 2, 1: 11}, {10: 1, 2: 1, 1: 13}, {10: 1, 1: 15}, {5: 5}, {5: 4, 2: 2, 1: 1}, {5: 4, 2: 1, 1: 3}, {5: 4, 1: 5}, {5: 3, 2: 5}, {5: 3, 2: 4, 1: 2}, {5: 3, 2: 3, 1: 4}, {5: 3, 2: 2, 1: 6}, {5: 3, 2: 1, 1: 8}, {5: 3, 1: 10}, {5: 2, 2: 7, 1: 1}, {5: 2, 2: 6, 1: 3}, {5: 2, 2: 5, 1: 5}, {5: 2, 2: 4, 1: 7}, {5: 2, 2: 3, 1: 9}, {5: 2, 2: 2, 1: 11}, {5: 2, 2: 1, 1: 13}, {5: 2, 1: 15}, {5: 1, 2: 10}, {5: 1, 2: 9, 1: 2}, {5: 1, 2: 8, 1: 4}, {5: 1, 2: 7, 1: 6}, {5: 1, 2: 6, 1: 8}, {5: 1, 2: 5, 1: 10}, {5: 1, 2: 4, 1: 12}, {5: 1, 2: 3, 1: 14}, {5: 1, 2: 2, 1: 16}, {5: 1, 2: 1, 1: 18}, {5: 1, 1: 20}, {2: 12, 1: 1}, {2: 11, 1: 3}, {2: 10, 1: 5}, {2: 9, 1: 7}, {2: 8, 1: 9}, {2: 7, 1: 11}, {2: 6, 1: 13}, {2: 5, 1: 15}, {2: 4, 1: 17}, {2: 3, 1: 19}, {2: 2, 1: 21}, {2: 1, 1: 23}, {1: 25}]\n",
      "Wall time: 2.92 s\n"
     ]
    }
   ],
   "source": [
    "%%time\n",
    "numCalls = 0\n",
    "change = number_of_ways(25)\n",
    "print(f\"it took {numCalls:,} calls to compute to be \\n\", change)\n"
   ]
  },
  {
   "cell_type": "markdown",
   "metadata": {},
   "source": [
    "* How many calls does this function make?"
   ]
  },
  {
   "cell_type": "markdown",
   "metadata": {},
   "source": [
    "### How do we memoize this solution\n",
    "\n"
   ]
  },
  {
   "cell_type": "code",
   "execution_count": 429,
   "metadata": {
    "tags": []
   },
   "outputs": [],
   "source": [
    "types_of_coins = [100, 25,10,5, 2,1]\n",
    "\n",
    "def number_of_ways(n):\n",
    "    \n",
    "    list_of_ways = []\n",
    "    my_way = []\n",
    "    money_left = n\n",
    "    memo = {}\n",
    "    return helper(my_way, list_of_ways, money_left, memo)\n",
    "\n",
    "def helper(my_way, list_of_ways, money_left, memo):\n",
    "    global numCalls\n",
    "    numCalls += 1\n",
    "    if money_left == 0:\n",
    "        my_way = {item:my_way.count(item) for item in my_way}\n",
    "        print(my_way)\n",
    "        \n",
    "        if my_way not in list_of_ways:\n",
    "        \n",
    "            list_of_ways.append(my_way)\n",
    "    elif money_left < 0:\n",
    "        list_of_ways += []\n",
    "    else:\n",
    "        for i, coin in enumerate(types_of_coins):\n",
    "            helper(my_way + [coin], list_of_ways, money_left - coin, memo)\n",
    "    return list_of_ways\n"
   ]
  },
  {
   "cell_type": "code",
   "execution_count": 431,
   "metadata": {},
   "outputs": [
    {
     "name": "stdout",
     "output_type": "stream",
     "text": [
      "{5: 1}\n",
      "{2: 2, 1: 1}\n",
      "{2: 2, 1: 1}\n",
      "{2: 1, 1: 3}\n",
      "{1: 1, 2: 2}\n",
      "{1: 3, 2: 1}\n",
      "{1: 3, 2: 1}\n",
      "{1: 3, 2: 1}\n",
      "{1: 5}\n",
      "it took 73 calls to compute to be \n",
      " [{5: 1}, {2: 2, 1: 1}, {2: 1, 1: 3}, {1: 5}]\n",
      "Wall time: 1 ms\n"
     ]
    }
   ],
   "source": [
    "%%time\n",
    "numCalls = 0\n",
    "change = number_of_ways(5)\n",
    "print(f\"it took {numCalls:,} calls to compute to be \\n\", change)\n"
   ]
  },
  {
   "cell_type": "code",
   "execution_count": null,
   "metadata": {},
   "outputs": [],
   "source": []
  }
 ],
 "metadata": {
  "kernelspec": {
   "display_name": "Python 3",
   "language": "python",
   "name": "python3"
  },
  "language_info": {
   "codemirror_mode": {
    "name": "ipython",
    "version": 3
   },
   "file_extension": ".py",
   "mimetype": "text/x-python",
   "name": "python",
   "nbconvert_exporter": "python",
   "pygments_lexer": "ipython3",
   "version": "3.8.2"
  },
  "toc-autonumbering": true,
  "toc-showcode": true,
  "toc-showmarkdowntxt": true,
  "varInspector": {
   "cols": {
    "lenName": 16,
    "lenType": 16,
    "lenVar": 40
   },
   "kernels_config": {
    "python": {
     "delete_cmd_postfix": "",
     "delete_cmd_prefix": "del ",
     "library": "var_list.py",
     "varRefreshCmd": "print(var_dic_list())"
    },
    "r": {
     "delete_cmd_postfix": ") ",
     "delete_cmd_prefix": "rm(",
     "library": "var_list.r",
     "varRefreshCmd": "cat(var_dic_list()) "
    }
   },
   "types_to_exclude": [
    "module",
    "function",
    "builtin_function_or_method",
    "instance",
    "_Feature"
   ],
   "window_display": false
  }
 },
 "nbformat": 4,
 "nbformat_minor": 4
}
