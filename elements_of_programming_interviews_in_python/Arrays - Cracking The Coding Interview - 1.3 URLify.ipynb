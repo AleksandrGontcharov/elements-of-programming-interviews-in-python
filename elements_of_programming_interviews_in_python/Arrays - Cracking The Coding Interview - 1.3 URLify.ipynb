{
 "cells": [
  {
   "cell_type": "markdown",
   "id": "e5172cad",
   "metadata": {},
   "source": [
    "### Steps:\n",
    " 1. Understand the problem\n",
    " 2. Sketch a solution with pen and paper - think of test cases\n",
    " 3. Write test cases in order of complexity\n",
    " 4. Iterate to think of the solution"
   ]
  },
  {
   "cell_type": "markdown",
   "id": "703cce6d",
   "metadata": {},
   "source": [
    "URLify (Write a method to replace all spaces in a string with '%20').\n",
    "You may assume that the string has sufficient space at the end to hold the additional characters, and that you are given the \"true\" length of the string.\n",
    "(Note: if implementing in java, please use a character array so that you can perform this operation in place.)"
   ]
  },
  {
   "cell_type": "code",
   "execution_count": null,
   "id": "1d414e4f",
   "metadata": {},
   "outputs": [],
   "source": []
  },
  {
   "cell_type": "code",
   "execution_count": 4,
   "id": "8d695954",
   "metadata": {},
   "outputs": [],
   "source": [
    "# INPUT:\n",
    "my_input = \"    Mr John Smith     \"\n",
    "length_of_input = len(input)"
   ]
  },
  {
   "cell_type": "code",
   "execution_count": 5,
   "id": "2c9a1bce",
   "metadata": {},
   "outputs": [
    {
     "data": {
      "text/plain": [
       "'Mr John Smith     '"
      ]
     },
     "execution_count": 5,
     "metadata": {},
     "output_type": "execute_result"
    }
   ],
   "source": [
    "my_input"
   ]
  },
  {
   "cell_type": "code",
   "execution_count": 6,
   "id": "3df129f9",
   "metadata": {},
   "outputs": [
    {
     "data": {
      "text/plain": [
       "18"
      ]
     },
     "execution_count": 6,
     "metadata": {},
     "output_type": "execute_result"
    }
   ],
   "source": [
    "length_of_input"
   ]
  },
  {
   "cell_type": "code",
   "execution_count": 9,
   "id": "35712d75",
   "metadata": {},
   "outputs": [
    {
     "data": {
      "text/plain": [
       "'Mr%20John%20Smith'"
      ]
     },
     "execution_count": 9,
     "metadata": {},
     "output_type": "execute_result"
    }
   ],
   "source": [
    "solution = \"Mr%20John%20Smith\"\n",
    "solution"
   ]
  },
  {
   "cell_type": "code",
   "execution_count": null,
   "id": "704274fd",
   "metadata": {},
   "outputs": [],
   "source": [
    "# understand the problem\n",
    "# You could have a space(s) at the beginning or at the end - these should not yield a %20\n",
    "# we could have spaces in the middle of the word, and therte could one or more spaces spaces\n"
   ]
  },
  {
   "cell_type": "code",
   "execution_count": 10,
   "id": "1b5aaeb7",
   "metadata": {},
   "outputs": [],
   "source": [
    "# sketch a solution on paper\n",
    "\n",
    "# First solution\n",
    "# 1. Get rid of all the leading and trailing spaces to simplify the input\n",
    "# 1. Iterate through the characters of the string, if we encounter a space, we can immediately replace it with %20, and if there are any spaces after the initial space we delete them\n",
    "\n",
    "# Second solution\n",
    "# 0. Trim all the spaces at the beginning\n",
    "# 1. Iterate through the string\n",
    "# 2. If you meet a space\n",
    "#       b. if there are 0 or more spaces more spaces after this space that are followed by a non-space character - \n",
    "#          then we replaces this contiguous block of spaces with a %20 \n",
    "#       c. if there are 0 or more spaces more spaces after this space and the string ends, then delete all of these spaces"
   ]
  },
  {
   "cell_type": "code",
   "execution_count": 12,
   "id": "4a9f649e",
   "metadata": {},
   "outputs": [],
   "source": [
    "# Test cases:\n",
    "\n",
    "test_cases = [\"   John\", \"John   \", \"John Smith\"   , \"John  Smith\",   \"   \", \"   Mr John Smith   \"]\n",
    "solutions  = [\"John\",    \"John\"   ,  \"John%20Smith\", \"John %20Smith\", \"\"   , \"Mr%20John%20Smith\"  ]"
   ]
  },
  {
   "cell_type": "code",
   "execution_count": null,
   "id": "e488be6d",
   "metadata": {},
   "outputs": [],
   "source": [
    "# Second solution\n",
    "# 0. Trim all the spaces at the beginning\n",
    "# 1. Iterate through the string\n",
    "# 2. If you meet a space\n",
    "#       b. if there are 0 or more spaces more spaces after this space that are followed by a non-space character - \n",
    "#          then we replaces this contiguous block of spaces with a %20 \n",
    "#       c. if there are 0 or more spaces more spaces after this space and the string ends, then delete all of these spaces\n",
    "\n",
    "\n"
   ]
  },
  {
   "cell_type": "code",
   "execution_count": 28,
   "id": "1c40cda9",
   "metadata": {},
   "outputs": [],
   "source": [
    "def trim_spaces_at_start(string: str):\n",
    "    number_of_spaces_at_the_start = 0\n",
    "\n",
    "    for char in string:\n",
    "        if char == ' ':\n",
    "            string = string[1:]\n",
    "            number_of_spaces_at_the_start += 1\n",
    "        else:\n",
    "            break\n",
    "    return string, number_of_spaces_at_the_start\n",
    "        "
   ]
  },
  {
   "cell_type": "code",
   "execution_count": 35,
   "id": "8c11bb71",
   "metadata": {},
   "outputs": [
    {
     "data": {
      "text/plain": [
       "('string', 0)"
      ]
     },
     "execution_count": 35,
     "metadata": {},
     "output_type": "execute_result"
    }
   ],
   "source": [
    "trim_spaces_at_start(\"string\")"
   ]
  },
  {
   "cell_type": "code",
   "execution_count": 30,
   "id": "874b770e",
   "metadata": {},
   "outputs": [
    {
     "data": {
      "text/plain": [
       "('string', 1)"
      ]
     },
     "execution_count": 30,
     "metadata": {},
     "output_type": "execute_result"
    }
   ],
   "source": [
    "trim_spaces_at_start(\" string\")"
   ]
  },
  {
   "cell_type": "code",
   "execution_count": 32,
   "id": "e0794247",
   "metadata": {},
   "outputs": [
    {
     "data": {
      "text/plain": [
       "('string   ', 2)"
      ]
     },
     "execution_count": 32,
     "metadata": {},
     "output_type": "execute_result"
    }
   ],
   "source": [
    "trim_spaces_at_start(\"  string   \")"
   ]
  },
  {
   "cell_type": "code",
   "execution_count": 55,
   "id": "42c17356",
   "metadata": {},
   "outputs": [],
   "source": [
    "def URLify(string):\n",
    "    string = trim_spaces_at_start(string)[0]\n",
    "    if string == \"\":\n",
    "        return string\n",
    "    \n",
    "    length_of_string = len(string)\n",
    "    \n",
    "    result = ''\n",
    "    # at this point the frist element will be non-space\n",
    "    i = 0\n",
    "    while i < length_of_string:\n",
    "        if string[i] != \" \":\n",
    "            result += string[i]\n",
    "            i += 1\n",
    "        else:\n",
    "            # case 1 - it is the end of the word\n",
    "            substring = string[i:]\n",
    "            trimmed_string, number_of_spaces_at_the_start  = trim_spaces_at_start(substring)\n",
    "            if trimmed_string == \"\":\n",
    "                break\n",
    "            # case 2 - there will be another non-space char\n",
    "            number_of_spaces = 1\n",
    "            result += \"%20\"\n",
    "            i += number_of_spaces_at_the_start\n",
    "            \n",
    "    return result\n",
    "    \n",
    "    "
   ]
  },
  {
   "cell_type": "code",
   "execution_count": 56,
   "id": "4c35a746",
   "metadata": {},
   "outputs": [],
   "source": [
    "\n",
    "test_cases = [\"   John\", \"John   \", \"John Smith\"   , \"John  Smith\",   \"   \", \"   Mr John Smith   \"]\n",
    "solutions  = [\"John\",    \"John\"   ,  \"John%20Smith\", \"John%20Smith\", \"\"   , \"Mr%20John%20Smith\"  ]"
   ]
  },
  {
   "cell_type": "code",
   "execution_count": 57,
   "id": "60dbfaa1",
   "metadata": {},
   "outputs": [
    {
     "name": "stdout",
     "output_type": "stream",
     "text": [
      "Test case:     John\n",
      "Expected Soln:  John\n",
      "Actual Soln:  John\n",
      "True\n",
      "\n",
      "Test case:  John   \n",
      "Expected Soln:  John\n",
      "Actual Soln:  John\n",
      "True\n",
      "\n",
      "Test case:  John Smith\n",
      "Expected Soln:  John%20Smith\n",
      "Actual Soln:  John%20Smith\n",
      "True\n",
      "\n",
      "Test case:  John  Smith\n",
      "Expected Soln:  John%20Smith\n",
      "Actual Soln:  John%20Smith\n",
      "True\n",
      "\n",
      "Test case:     \n",
      "Expected Soln:  \n",
      "Actual Soln:  \n",
      "True\n",
      "\n",
      "Test case:     Mr John Smith   \n",
      "Expected Soln:  Mr%20John%20Smith\n",
      "Actual Soln:  Mr%20John%20Smith\n",
      "True\n",
      "\n"
     ]
    }
   ],
   "source": [
    "for test_case, solution in zip(test_cases, solutions):\n",
    "    print(\"Test case: \", test_case,)\n",
    "    print(\"Expected Soln: \", solution)\n",
    "    print(\"Actual Soln: \", URLify(test_case))\n",
    "    print(solution == URLify(test_case))\n",
    "    print()\n"
   ]
  },
  {
   "cell_type": "code",
   "execution_count": null,
   "id": "22284373",
   "metadata": {},
   "outputs": [],
   "source": []
  }
 ],
 "metadata": {
  "kernelspec": {
   "display_name": "Python 3 (ipykernel)",
   "language": "python",
   "name": "python3"
  },
  "language_info": {
   "codemirror_mode": {
    "name": "ipython",
    "version": 3
   },
   "file_extension": ".py",
   "mimetype": "text/x-python",
   "name": "python",
   "nbconvert_exporter": "python",
   "pygments_lexer": "ipython3",
   "version": "3.11.1"
  }
 },
 "nbformat": 4,
 "nbformat_minor": 5
}
