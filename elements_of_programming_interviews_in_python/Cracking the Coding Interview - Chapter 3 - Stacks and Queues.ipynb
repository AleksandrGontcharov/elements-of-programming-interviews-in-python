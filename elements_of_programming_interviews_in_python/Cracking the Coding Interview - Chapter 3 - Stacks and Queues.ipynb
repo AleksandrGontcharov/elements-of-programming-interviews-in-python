{
 "cells": [
  {
   "cell_type": "markdown",
   "metadata": {
    "heading_collapsed": true
   },
   "source": [
    "# Stacks and Queues"
   ]
  },
  {
   "cell_type": "code",
   "execution_count": 73,
   "metadata": {
    "hidden": true
   },
   "outputs": [],
   "source": [
    "class Stack:\n",
    "    def __init__(self):\n",
    "        self.list = []\n",
    "        \n",
    "    def push(self, item):\n",
    "        self.list.append(item)\n",
    "        \n",
    "    def pop(self):\n",
    "        self.list.pop()\n",
    "        \n",
    "    def peek(self):\n",
    "        if len(self.list) == 0:\n",
    "            return \"Stack is empty\"\n",
    "        else:\n",
    "            return self.list[-1]\n",
    "        \n",
    "    def isEmpty(self):\n",
    "        return len(self.list) == 0\n",
    "        \n",
    "    def __repr__(self):\n",
    "        return str(self.list)\n",
    "    def __str__(self):\n",
    "        return str(self.list)"
   ]
  },
  {
   "cell_type": "code",
   "execution_count": 96,
   "metadata": {
    "hidden": true
   },
   "outputs": [],
   "source": [
    "import collections\n",
    "class Queue:\n",
    "    def __init__(self):\n",
    "        self.list = collections.deque()\n",
    "        \n",
    "    def add(self, item):\n",
    "        self.list.append(item)\n",
    "        \n",
    "    def remove(self):\n",
    "        self.list.popleft()\n",
    "        \n",
    "    def peek(self):\n",
    "        if len(self.list) == 0:\n",
    "            return \"Stack is empty\"\n",
    "        else:\n",
    "            return self.list[-1]\n",
    "        \n",
    "    def isEmpty(self):\n",
    "        return len(self.list) == 0\n",
    "        \n",
    "    def __repr__(self):\n",
    "        return str(self.list)\n",
    "    def __str__(self):\n",
    "        return str(self.list)"
   ]
  },
  {
   "cell_type": "code",
   "execution_count": 109,
   "metadata": {
    "hidden": true
   },
   "outputs": [],
   "source": [
    "D = Queue()"
   ]
  },
  {
   "cell_type": "code",
   "execution_count": 105,
   "metadata": {
    "hidden": true
   },
   "outputs": [
    {
     "data": {
      "text/plain": [
       "deque([1, 2, 3])"
      ]
     },
     "execution_count": 105,
     "metadata": {},
     "output_type": "execute_result"
    }
   ],
   "source": [
    "D.add(1)\n",
    "D.add(2)\n",
    "D.add(3)\n",
    "D"
   ]
  },
  {
   "cell_type": "code",
   "execution_count": 106,
   "metadata": {
    "hidden": true
   },
   "outputs": [
    {
     "data": {
      "text/plain": [
       "deque([2, 3])"
      ]
     },
     "execution_count": 106,
     "metadata": {},
     "output_type": "execute_result"
    }
   ],
   "source": [
    "D.remove()\n",
    "D"
   ]
  },
  {
   "cell_type": "code",
   "execution_count": 110,
   "metadata": {
    "hidden": true
   },
   "outputs": [
    {
     "data": {
      "text/plain": [
       "True"
      ]
     },
     "execution_count": 110,
     "metadata": {},
     "output_type": "execute_result"
    }
   ],
   "source": [
    "D.isEmpty()"
   ]
  },
  {
   "cell_type": "markdown",
   "metadata": {},
   "source": [
    "# Questions"
   ]
  },
  {
   "cell_type": "markdown",
   "metadata": {},
   "source": [
    "## 3.1 Three in One\n",
    "\n",
    "Describe how you could use a single array to implement three stacks."
   ]
  },
  {
   "cell_type": "markdown",
   "metadata": {},
   "source": [
    "####  Idea\n",
    "\n",
    "1. implement an array of size n (divisible by 3)\n",
    "2. The first stack is from index 0 to (n/3 - 1) inclusive, the second stack is from n/3 to 2n/3 - 1 inclusive, and the final is from 2n/3 to n - 1 inclusive.\n",
    "3.\n",
    "    * when we insert initial element into stack 1, we move the top1 pointer from -1 to 0\n",
    "    * when we insert initial element into stack 2, we move the top2 pointer from -1 to n/3\n",
    "    * when we insert initial element into stack 3, we move the top3 pointer from -1 to 2n/3\n",
    "    \n",
    "4. Whenever the index modulo(n/3) of any of the three top indices becomes zero we double the array in size and copy over the elements into the corresponding slotds as in 3 (with a new value of n being double)"
   ]
  },
  {
   "cell_type": "markdown",
   "metadata": {},
   "source": [
    "## 3.2 Stack Min\n",
    "\n",
    "How would you design a stack which, in addition to push and pop, has a function min\n",
    "which returns the minimum element? Push, pop and min should all operate in 0(1) time."
   ]
  },
  {
   "cell_type": "code",
   "execution_count": 18,
   "metadata": {},
   "outputs": [],
   "source": [
    "class Stack:\n",
    "    def __init__(self):\n",
    "        self.list = []\n",
    "        self.min = None\n",
    "        \n",
    "    def push(self, item):\n",
    "        self.list.append(item)\n",
    "        if len(self.list) == 1:\n",
    "            self.min = item\n",
    "        self.min = min(self.min, item)\n",
    "    \n",
    "    def getmin(self):\n",
    "        return self.min\n",
    "    \n",
    "    def pop(self):\n",
    "        if self.isEmpty():\n",
    "            return None\n",
    "        self.list.pop()\n",
    "        if self.isEmpty():\n",
    "            self.min = None\n",
    "        \n",
    "    def peek(self):\n",
    "        if len(self.list) == 0:\n",
    "            return \"Stack is empty\"\n",
    "        else:\n",
    "            return self.list[-1]\n",
    "        \n",
    "    def isEmpty(self):\n",
    "        return len(self.list) == 0\n",
    "        \n",
    "    def __repr__(self):\n",
    "        return str(self.list)\n",
    "    def __str__(self):\n",
    "        return str(self.list)"
   ]
  },
  {
   "cell_type": "code",
   "execution_count": 31,
   "metadata": {},
   "outputs": [],
   "source": [
    "S = Stack()"
   ]
  },
  {
   "cell_type": "code",
   "execution_count": 32,
   "metadata": {},
   "outputs": [
    {
     "data": {
      "text/plain": [
       "1"
      ]
     },
     "execution_count": 32,
     "metadata": {},
     "output_type": "execute_result"
    }
   ],
   "source": [
    "S.push(1)\n",
    "S.getmin()"
   ]
  },
  {
   "cell_type": "code",
   "execution_count": 33,
   "metadata": {},
   "outputs": [
    {
     "data": {
      "text/plain": [
       "NoneType"
      ]
     },
     "execution_count": 33,
     "metadata": {},
     "output_type": "execute_result"
    }
   ],
   "source": [
    "S.pop()\n",
    "type(S.getmin())"
   ]
  },
  {
   "cell_type": "code",
   "execution_count": 34,
   "metadata": {},
   "outputs": [
    {
     "data": {
      "text/plain": [
       "1"
      ]
     },
     "execution_count": 34,
     "metadata": {},
     "output_type": "execute_result"
    }
   ],
   "source": [
    "S.push(1)\n",
    "S.push(2)\n",
    "S.getmin()"
   ]
  },
  {
   "cell_type": "code",
   "execution_count": 35,
   "metadata": {},
   "outputs": [
    {
     "data": {
      "text/plain": [
       "-1"
      ]
     },
     "execution_count": 35,
     "metadata": {},
     "output_type": "execute_result"
    }
   ],
   "source": [
    "S.push(1)\n",
    "S.push(2)\n",
    "S.push(3)\n",
    "S.push(-1)\n",
    "S.pop()\n",
    "S.getmin()"
   ]
  },
  {
   "cell_type": "code",
   "execution_count": 36,
   "metadata": {},
   "outputs": [
    {
     "data": {
      "text/plain": [
       "[1, 2, 1, 2, 3]"
      ]
     },
     "execution_count": 36,
     "metadata": {},
     "output_type": "execute_result"
    }
   ],
   "source": [
    "S"
   ]
  },
  {
   "cell_type": "markdown",
   "metadata": {},
   "source": [
    "## 3.3 Stack of Plates\n",
    "\n",
    "Imagine a (literal) stack of plates. If the stack gets too high, it might topple.\n",
    "Therefore, in real life, we would likely start a new stack when the previous stack exceeds some\n",
    "threshold. Implement a data structure SetOfStacks that mimics this. SetO-fStacks should be\n",
    "composed of several stacks and should create a new stack once the previous one exceeds capacity.\n",
    "SetOfStacks. push() and SetOfStacks. pop() should behave identically to a single stack\n",
    "(that is, pop () should return the same values as it would if there were just a single stack).\n",
    "FOLLOW UP\n",
    "Implement a function popAt ( int index) which perf orms a pop operation on a specific sub-stack."
   ]
  },
  {
   "cell_type": "markdown",
   "metadata": {},
   "source": [
    "## 3.4 Queue via Stacks\n",
    "\n",
    "Implement a MyQueue class which implements a queue using two stacks."
   ]
  },
  {
   "cell_type": "markdown",
   "metadata": {},
   "source": [
    "## 3.5 Sort Stack\n",
    "\n",
    "Write a program to sort a stack such that the smallest items are on the top. You can use\n",
    "an additional temporary stack, but you may not copy the elements into any other data structure\n",
    "(such as an array). The stack supports the following operations: push, pop, peek, and is Empty."
   ]
  },
  {
   "cell_type": "markdown",
   "metadata": {},
   "source": [
    "## 3.6 Animal Shelter\n",
    "\n",
    "An animal shelter, which holds only dogs and cats, operates on a strictly\"first in, first\n",
    "out\" basis. People must adopt either the \"oldest\" (based on arrival time) of all animals at the shelter,\n",
    "or they can select whether they would prefer a dog or a cat (and will receive the oldest animal of\n",
    "that type). They cannot select which specific animal they would like. Create the data structures to\n",
    "maintain this system and implement operations such as enqueue, dequeueAny, dequeueDog,\n",
    "and dequeueCat. You may use the built-in Linked list data structure."
   ]
  },
  {
   "cell_type": "code",
   "execution_count": null,
   "metadata": {},
   "outputs": [],
   "source": []
  }
 ],
 "metadata": {
  "kernelspec": {
   "display_name": "Python 3",
   "language": "python",
   "name": "python3"
  },
  "language_info": {
   "codemirror_mode": {
    "name": "ipython",
    "version": 3
   },
   "file_extension": ".py",
   "mimetype": "text/x-python",
   "name": "python",
   "nbconvert_exporter": "python",
   "pygments_lexer": "ipython3",
   "version": "3.8.2"
  },
  "varInspector": {
   "cols": {
    "lenName": 16,
    "lenType": 16,
    "lenVar": 40
   },
   "kernels_config": {
    "python": {
     "delete_cmd_postfix": "",
     "delete_cmd_prefix": "del ",
     "library": "var_list.py",
     "varRefreshCmd": "print(var_dic_list())"
    },
    "r": {
     "delete_cmd_postfix": ") ",
     "delete_cmd_prefix": "rm(",
     "library": "var_list.r",
     "varRefreshCmd": "cat(var_dic_list()) "
    }
   },
   "types_to_exclude": [
    "module",
    "function",
    "builtin_function_or_method",
    "instance",
    "_Feature"
   ],
   "window_display": false
  }
 },
 "nbformat": 4,
 "nbformat_minor": 4
}
