{
 "cells": [
  {
   "cell_type": "markdown",
   "metadata": {},
   "source": [
    "### Steps:\n",
    " 1. Understand the problem\n",
    " 2. Sketch a solution with pen and paper - think of test cases\n",
    " 3. Write test cases in order of complexity\n",
    " 4. Iterate to think of the solution"
   ]
  },
  {
   "cell_type": "markdown",
   "metadata": {},
   "source": [
    "### 8.1 Triple Step\n",
    "\n",
    "A child is running up a staircase with n steps and can hop either 1 step, 3 steps, or 5\n",
    "steps at a time. Implement a method to count how many possible ways the child can run up the\n",
    "stairs."
   ]
  },
  {
   "cell_type": "code",
   "execution_count": 71,
   "metadata": {},
   "outputs": [],
   "source": [
    "def number_of_ways(num_steps):\n",
    "    global numCalls\n",
    "    numCalls += 1\n",
    "    if num_steps == 0:\n",
    "        return 1\n",
    "    elif num_steps < 0:\n",
    "        return 0\n",
    "    else:\n",
    "        return number_of_ways(num_steps - 1) + number_of_ways(num_steps - 2) + number_of_ways(num_steps - 3)\n",
    "        \n",
    "    \n",
    "    "
   ]
  },
  {
   "cell_type": "code",
   "execution_count": 81,
   "metadata": {},
   "outputs": [
    {
     "data": {
      "text/plain": [
       "58"
      ]
     },
     "execution_count": 81,
     "metadata": {},
     "output_type": "execute_result"
    }
   ],
   "source": [
    "sum([int(i) for i in list(str(98759875))])"
   ]
  },
  {
   "cell_type": "code",
   "execution_count": 72,
   "metadata": {},
   "outputs": [
    {
     "data": {
      "text/plain": [
       "(5768, 20617)"
      ]
     },
     "execution_count": 72,
     "metadata": {},
     "output_type": "execute_result"
    }
   ],
   "source": [
    "numCalls = 0\n",
    "number_of_ways(15), numCalls"
   ]
  },
  {
   "cell_type": "code",
   "execution_count": 73,
   "metadata": {},
   "outputs": [],
   "source": [
    "def number_of_ways_bottom_up(num_steps):\n",
    "    global numCalls\n",
    "    \n",
    "    if num_steps == 1:\n",
    "        return 1\n",
    "    elif num_steps == 2:\n",
    "        return 2\n",
    "    elif num_steps ==3:\n",
    "        return 4\n",
    "    else:\n",
    "        a = 1\n",
    "        b = 2\n",
    "        c = 4\n",
    "\n",
    "        for i in range(3,num_steps):\n",
    "            numCalls += 1\n",
    "            answer = a + b + c\n",
    "            a = b\n",
    "            b = c\n",
    "            c = answer\n",
    "    return answer\n",
    "        \n",
    "    \n",
    "    "
   ]
  },
  {
   "cell_type": "code",
   "execution_count": 74,
   "metadata": {},
   "outputs": [
    {
     "data": {
      "text/plain": [
       "(5768, 12)"
      ]
     },
     "execution_count": 74,
     "metadata": {},
     "output_type": "execute_result"
    }
   ],
   "source": [
    "numCalls = 0\n",
    "number_of_ways_bottom_up(15), numCalls"
   ]
  },
  {
   "cell_type": "code",
   "execution_count": 67,
   "metadata": {},
   "outputs": [
    {
     "data": {
      "text/plain": [
       "13"
      ]
     },
     "execution_count": 67,
     "metadata": {},
     "output_type": "execute_result"
    }
   ],
   "source": [
    "# 1,1,1\n",
    "# 3\n",
    "number_of_ways(5)"
   ]
  },
  {
   "cell_type": "code",
   "execution_count": 317,
   "metadata": {},
   "outputs": [
    {
     "data": {
      "text/plain": [
       "3"
      ]
     },
     "execution_count": 317,
     "metadata": {},
     "output_type": "execute_result"
    }
   ],
   "source": [
    "# 1,1,1,1\n",
    "# 1,3\n",
    "# 3,1\n",
    "number_of_ways(4)"
   ]
  },
  {
   "cell_type": "code",
   "execution_count": 318,
   "metadata": {},
   "outputs": [
    {
     "data": {
      "text/plain": [
       "5"
      ]
     },
     "execution_count": 318,
     "metadata": {},
     "output_type": "execute_result"
    }
   ],
   "source": [
    "# 1,1,1,1,1\n",
    "# 1,1,3\n",
    "# 1,3,1\n",
    "\n",
    "# 3,1,1\n",
    "\n",
    "# 5\n",
    "\n",
    "\n",
    "\n",
    "number_of_ways(5)"
   ]
  },
  {
   "cell_type": "code",
   "execution_count": 319,
   "metadata": {},
   "outputs": [
    {
     "data": {
      "text/plain": [
       "8"
      ]
     },
     "execution_count": 319,
     "metadata": {},
     "output_type": "execute_result"
    }
   ],
   "source": [
    "# 1,1,1,1,1\n",
    "# 1,1,3\n",
    "# 1,3,1\n",
    "\n",
    "# 1,5\n",
    "\n",
    "\n",
    "\n",
    "number_of_ways(6)"
   ]
  },
  {
   "cell_type": "code",
   "execution_count": 320,
   "metadata": {},
   "outputs": [
    {
     "name": "stdout",
     "output_type": "stream",
     "text": [
      "should be 4\n"
     ]
    },
    {
     "data": {
      "text/plain": [
       "2"
      ]
     },
     "execution_count": 320,
     "metadata": {},
     "output_type": "execute_result"
    }
   ],
   "source": [
    "num_steps = 3\n",
    "# 1,1,1\n",
    "# 1,2# 2,1\n",
    "# 3\n",
    "print(\"should be 4\")\n",
    "number_of_ways(num_steps)"
   ]
  },
  {
   "cell_type": "code",
   "execution_count": 321,
   "metadata": {},
   "outputs": [
    {
     "name": "stdout",
     "output_type": "stream",
     "text": [
      "should be 7\n"
     ]
    },
    {
     "data": {
      "text/plain": [
       "3"
      ]
     },
     "execution_count": 321,
     "metadata": {},
     "output_type": "execute_result"
    }
   ],
   "source": [
    "num_steps = 4\n",
    "# 1,1,1,1\n",
    "# 1,1,2\n",
    "# 1,2,1\n",
    "# 2,1,1 \n",
    "# 2, 2\n",
    "# 3,1\n",
    "# 1,3\n",
    "\n",
    "print(\"should be 7\")\n",
    "number_of_ways(num_steps)"
   ]
  },
  {
   "cell_type": "markdown",
   "metadata": {},
   "source": [
    "### 8.1 Triple Step\n",
    "\n",
    "A child is running up a staircase with n steps and can hop either 1 step, 3 steps, or 5\n",
    "steps at a time. Implement a method to count how many possible ways the child can run up the\n",
    "stairs.\n",
    "\n",
    "* PRINT THE NUMBER OF WAYS"
   ]
  },
  {
   "cell_type": "code",
   "execution_count": 322,
   "metadata": {},
   "outputs": [],
   "source": [
    "steps_allowed = {1,3,5}"
   ]
  },
  {
   "cell_type": "code",
   "execution_count": 323,
   "metadata": {},
   "outputs": [
    {
     "data": {
      "text/plain": [
       "6"
      ]
     },
     "execution_count": 323,
     "metadata": {},
     "output_type": "execute_result"
    }
   ],
   "source": [
    "sum([1,2,3])"
   ]
  },
  {
   "cell_type": "code",
   "execution_count": 335,
   "metadata": {
    "tags": []
   },
   "outputs": [],
   "source": [
    "steps_allowed = [1,3,5]\n",
    "def number_of_ways(num_steps, steps_allowed):\n",
    "    L = []\n",
    "    result = helper(num_steps, L, steps_allowed)\n",
    "    # result = [item for item in result if len(item) != 0]\n",
    "    return result\n",
    "\n",
    "def helper(num_steps, L, steps_allowed):\n",
    "    if num_steps == 0:\n",
    "        return [L]\n",
    "    elif num_steps < 0:\n",
    "        return []\n",
    "    else:\n",
    "        final_sum = []\n",
    "        for i,_ in enumerate(steps_allowed):\n",
    "            final_sum += helper(num_steps - steps_allowed[i], L + [steps_allowed[i]], steps_allowed)\n",
    "        return final_sum\n",
    "            "
   ]
  },
  {
   "cell_type": "code",
   "execution_count": 336,
   "metadata": {},
   "outputs": [
    {
     "data": {
      "text/plain": [
       "[[1, 1, 1, 1, 1], [1, 1, 3], [1, 3, 1], [3, 1, 1], [5]]"
      ]
     },
     "execution_count": 336,
     "metadata": {},
     "output_type": "execute_result"
    }
   ],
   "source": [
    "steps_allowed = [1,3,5,7]\n",
    "# 1,1,1,1,1\n",
    "# 1,1,3\n",
    "# 1,3,1\n",
    "\n",
    "# 3,1,1\n",
    "\n",
    "# 5\n",
    "\n",
    "number_of_ways(5, steps_allowed)"
   ]
  },
  {
   "cell_type": "code",
   "execution_count": 337,
   "metadata": {},
   "outputs": [
    {
     "data": {
      "text/plain": [
       "[[1, 1, 1, 1, 1],\n",
       " [1, 1, 1, 2],\n",
       " [1, 1, 2, 1],\n",
       " [1, 1, 3],\n",
       " [1, 2, 1, 1],\n",
       " [1, 2, 2],\n",
       " [1, 3, 1],\n",
       " [2, 1, 1, 1],\n",
       " [2, 1, 2],\n",
       " [2, 2, 1],\n",
       " [2, 3],\n",
       " [3, 1, 1],\n",
       " [3, 2]]"
      ]
     },
     "execution_count": 337,
     "metadata": {},
     "output_type": "execute_result"
    }
   ],
   "source": [
    "steps_allowed = [1,2,3]\n",
    "\n",
    "\n",
    "number_of_ways(5, steps_allowed)"
   ]
  },
  {
   "cell_type": "markdown",
   "metadata": {},
   "source": [
    "#### Correct solution from book"
   ]
  },
  {
   "cell_type": "markdown",
   "metadata": {},
   "source": [
    "### Robot in a Grid\n",
    "\n",
    "Imagine a robot sitting on the upper left corner of grid with r rows and c columns.\n",
    "The robot can only move in two directions, right and down, but certain cells are \"off limits\" such that\n",
    "the robot cannot step on them. Design an algorithm to find a path for the robot from the top left to\n",
    "the bottom right."
   ]
  },
  {
   "cell_type": "code",
   "execution_count": null,
   "metadata": {},
   "outputs": [],
   "source": []
  },
  {
   "cell_type": "code",
   "execution_count": 338,
   "metadata": {},
   "outputs": [
    {
     "ename": "NameError",
     "evalue": "name 'robot' is not defined",
     "output_type": "error",
     "traceback": [
      "\u001b[1;31m---------------------------------------------------------------------------\u001b[0m",
      "\u001b[1;31mNameError\u001b[0m                                 Traceback (most recent call last)",
      "\u001b[1;32m<ipython-input-338-e9eb12e6e0f0>\u001b[0m in \u001b[0;36m<module>\u001b[1;34m\u001b[0m\n\u001b[0;32m      1\u001b[0m \u001b[1;31m# impossible to find path\u001b[0m\u001b[1;33m\u001b[0m\u001b[1;33m\u001b[0m\u001b[1;33m\u001b[0m\u001b[0m\n\u001b[0;32m      2\u001b[0m \u001b[1;31m# a 3 by 4 grid with off_limits = [[2,2],[3,2], [2,3]]\u001b[0m\u001b[1;33m\u001b[0m\u001b[1;33m\u001b[0m\u001b[1;33m\u001b[0m\u001b[0m\n\u001b[1;32m----> 3\u001b[1;33m \u001b[0mrobot\u001b[0m\u001b[1;33m(\u001b[0m\u001b[0mr\u001b[0m\u001b[1;33m=\u001b[0m\u001b[1;36m2\u001b[0m\u001b[1;33m,\u001b[0m \u001b[0mc\u001b[0m\u001b[1;33m=\u001b[0m\u001b[1;36m3\u001b[0m\u001b[1;33m,\u001b[0m \u001b[0moff_limits\u001b[0m\u001b[1;33m=\u001b[0m\u001b[1;33m[\u001b[0m\u001b[1;33m[\u001b[0m\u001b[1;36m1\u001b[0m\u001b[1;33m,\u001b[0m \u001b[1;36m2\u001b[0m\u001b[1;33m]\u001b[0m\u001b[1;33m,\u001b[0m \u001b[1;33m[\u001b[0m\u001b[1;36m1\u001b[0m\u001b[1;33m,\u001b[0m \u001b[1;36m3\u001b[0m\u001b[1;33m]\u001b[0m\u001b[1;33m,\u001b[0m \u001b[1;33m[\u001b[0m\u001b[1;36m2\u001b[0m\u001b[1;33m,\u001b[0m \u001b[1;36m2\u001b[0m\u001b[1;33m]\u001b[0m\u001b[1;33m]\u001b[0m\u001b[1;33m)\u001b[0m\u001b[1;33m\u001b[0m\u001b[1;33m\u001b[0m\u001b[0m\n\u001b[0m",
      "\u001b[1;31mNameError\u001b[0m: name 'robot' is not defined"
     ]
    }
   ],
   "source": [
    "# impossible to find path\n",
    "# a 3 by 4 grid with off_limits = [[2,2],[3,2], [2,3]]\n",
    "robot(r=2, c=3, off_limits=[[1, 2], [1, 3], [2, 2]])"
   ]
  },
  {
   "cell_type": "code",
   "execution_count": 339,
   "metadata": {},
   "outputs": [
    {
     "ename": "NameError",
     "evalue": "name 'robot' is not defined",
     "output_type": "error",
     "traceback": [
      "\u001b[1;31m---------------------------------------------------------------------------\u001b[0m",
      "\u001b[1;31mNameError\u001b[0m                                 Traceback (most recent call last)",
      "\u001b[1;32m<ipython-input-339-df390892c902>\u001b[0m in \u001b[0;36m<module>\u001b[1;34m\u001b[0m\n\u001b[0;32m      1\u001b[0m \u001b[1;31m# impossible to find path\u001b[0m\u001b[1;33m\u001b[0m\u001b[1;33m\u001b[0m\u001b[1;33m\u001b[0m\u001b[0m\n\u001b[0;32m      2\u001b[0m \u001b[1;31m# a 3 by 4 grid with off_limits = = [[2,2], [2,3]]\u001b[0m\u001b[1;33m\u001b[0m\u001b[1;33m\u001b[0m\u001b[1;33m\u001b[0m\u001b[0m\n\u001b[1;32m----> 3\u001b[1;33m \u001b[0mrobot\u001b[0m\u001b[1;33m(\u001b[0m\u001b[0mr\u001b[0m\u001b[1;33m=\u001b[0m\u001b[1;36m2\u001b[0m\u001b[1;33m,\u001b[0m \u001b[0mc\u001b[0m\u001b[1;33m=\u001b[0m\u001b[1;36m3\u001b[0m\u001b[1;33m,\u001b[0m \u001b[0moff_limits\u001b[0m\u001b[1;33m=\u001b[0m\u001b[1;33m[\u001b[0m\u001b[1;33m[\u001b[0m\u001b[1;36m1\u001b[0m\u001b[1;33m,\u001b[0m \u001b[1;36m2\u001b[0m\u001b[1;33m]\u001b[0m\u001b[1;33m,\u001b[0m \u001b[1;33m[\u001b[0m\u001b[1;36m1\u001b[0m\u001b[1;33m,\u001b[0m\u001b[1;36m3\u001b[0m\u001b[1;33m]\u001b[0m\u001b[1;33m]\u001b[0m\u001b[1;33m)\u001b[0m\u001b[1;33m\u001b[0m\u001b[1;33m\u001b[0m\u001b[0m\n\u001b[0m",
      "\u001b[1;31mNameError\u001b[0m: name 'robot' is not defined"
     ]
    }
   ],
   "source": [
    "# impossible to find path\n",
    "# a 3 by 4 grid with off_limits = = [[2,2], [2,3]] \n",
    "robot(r=2, c=3, off_limits=[[1, 2], [1,3]])"
   ]
  },
  {
   "cell_type": "markdown",
   "metadata": {},
   "source": [
    "### Magic Index\n",
    "\n",
    "A magic index in an array A [ 0 ••• n -1] is defined to be an index such that A[i] =\n",
    "i. Given a sorted array of distinct integers, write a method to find a magic index, if one exists, in\n",
    "array A.\n",
    "\n",
    "FOLLOW UP\n",
    "\n",
    "What if the values are not distinct?"
   ]
  },
  {
   "cell_type": "code",
   "execution_count": null,
   "metadata": {},
   "outputs": [],
   "source": []
  },
  {
   "cell_type": "code",
   "execution_count": 340,
   "metadata": {},
   "outputs": [
    {
     "ename": "NameError",
     "evalue": "name 'magic_index' is not defined",
     "output_type": "error",
     "traceback": [
      "\u001b[1;31m---------------------------------------------------------------------------\u001b[0m",
      "\u001b[1;31mNameError\u001b[0m                                 Traceback (most recent call last)",
      "\u001b[1;32m<ipython-input-340-1206c4d3c4b4>\u001b[0m in \u001b[0;36m<module>\u001b[1;34m\u001b[0m\n\u001b[0;32m      1\u001b[0m \u001b[0mL\u001b[0m \u001b[1;33m=\u001b[0m \u001b[1;33m[\u001b[0m\u001b[1;33m-\u001b[0m\u001b[1;36m1\u001b[0m\u001b[1;33m,\u001b[0m\u001b[1;36m0\u001b[0m\u001b[1;33m,\u001b[0m\u001b[1;36m1\u001b[0m\u001b[1;33m,\u001b[0m\u001b[1;36m3\u001b[0m\u001b[1;33m,\u001b[0m\u001b[1;36m5\u001b[0m\u001b[1;33m,\u001b[0m\u001b[1;36m7\u001b[0m\u001b[1;33m,\u001b[0m\u001b[1;36m9\u001b[0m\u001b[1;33m]\u001b[0m\u001b[1;33m\u001b[0m\u001b[1;33m\u001b[0m\u001b[0m\n\u001b[1;32m----> 2\u001b[1;33m \u001b[0mmagic_index\u001b[0m\u001b[1;33m(\u001b[0m\u001b[0mL\u001b[0m\u001b[1;33m)\u001b[0m\u001b[1;33m\u001b[0m\u001b[1;33m\u001b[0m\u001b[0m\n\u001b[0m",
      "\u001b[1;31mNameError\u001b[0m: name 'magic_index' is not defined"
     ]
    }
   ],
   "source": [
    "L = [-1,0,1,3,5,7,9]\n",
    "magic_index(L)"
   ]
  },
  {
   "cell_type": "code",
   "execution_count": null,
   "metadata": {},
   "outputs": [],
   "source": [
    "L = [-10, -5, 2, 2, 2, 3, 4, 8, 9,12, 13]\n",
    "magic_index(L)"
   ]
  },
  {
   "cell_type": "code",
   "execution_count": null,
   "metadata": {},
   "outputs": [],
   "source": [
    "L = [-3, -2, -1, 0, 1, 2, 3, 7]\n",
    "# print(\"should be 7\")\n",
    "magic_index(L)"
   ]
  },
  {
   "cell_type": "code",
   "execution_count": null,
   "metadata": {},
   "outputs": [],
   "source": [
    "K = [ 0, 1, 2, 3, 4, 5, 6, 7]\n",
    "L = [-1, 0, 1, 2, 3, 4, 6, 8]\n",
    "# print(\"should be 7\")\n",
    "magic_index(L)"
   ]
  },
  {
   "cell_type": "code",
   "execution_count": null,
   "metadata": {},
   "outputs": [],
   "source": [
    "K = [ 0, 1, 2, 3, 4, 5, 6, 7]\n",
    "L = [-1, 0, 1, 2, 3, 5, 9, 10]\n",
    "# print(\"should be 7\")\n",
    "magic_index(L)"
   ]
  },
  {
   "cell_type": "code",
   "execution_count": null,
   "metadata": {},
   "outputs": [],
   "source": [
    "K = [ 0, 1, 2, 3, 4, 5, 6, 7, 8]\n",
    "L = [-1, 0, 2, 4, 5, 6, 7, 8, 9]\n",
    "# print(\"should be 7\")\n",
    "magic_index(L)"
   ]
  },
  {
   "cell_type": "code",
   "execution_count": null,
   "metadata": {},
   "outputs": [],
   "source": [
    "K = [ 0, 1, 2, 3, 4, 5, 6, 7]\n",
    "L = [-1, 0, 2, 4, 5, 6, 7, 8]\n",
    "# print(\"should be 7\")\n",
    "magic_index(L)"
   ]
  },
  {
   "cell_type": "code",
   "execution_count": null,
   "metadata": {},
   "outputs": [],
   "source": [
    "L = [-10, -9, -8, 9, 10, 11, 12, 13]\n",
    "magic_index(L)"
   ]
  },
  {
   "cell_type": "code",
   "execution_count": null,
   "metadata": {},
   "outputs": [],
   "source": [
    "L = [-10, -9, -8, -5]\n",
    "magic_index(L)"
   ]
  },
  {
   "cell_type": "code",
   "execution_count": null,
   "metadata": {},
   "outputs": [],
   "source": [
    "L = [10, 11, 12]\n",
    "magic_index(L)"
   ]
  },
  {
   "cell_type": "markdown",
   "metadata": {},
   "source": [
    "### Follow up:  What if the values are not distinct?"
   ]
  },
  {
   "cell_type": "code",
   "execution_count": null,
   "metadata": {},
   "outputs": [],
   "source": []
  },
  {
   "cell_type": "code",
   "execution_count": null,
   "metadata": {},
   "outputs": [],
   "source": [
    "K = [ 0,  1,  2, 3,  4,  5, 6]\n",
    "L = [-1, -1, -1, 10, 10, 10, 10]\n",
    "# print(\"should be 7\")\n",
    "magic_index(L)"
   ]
  },
  {
   "cell_type": "code",
   "execution_count": null,
   "metadata": {},
   "outputs": [],
   "source": [
    "L = [-10, -5, 2, 2, 2, 3, 4, 7, 9,12, 13]\n",
    "magic_index(L)"
   ]
  },
  {
   "cell_type": "code",
   "execution_count": null,
   "metadata": {},
   "outputs": [],
   "source": [
    "L = [3,3,3,3,3,3,3,3,3]\n",
    "magic_index(L)"
   ]
  },
  {
   "cell_type": "markdown",
   "metadata": {},
   "source": [
    "### 8.4 Power Set\n",
    "\n",
    "Write a method to return all subsets of a set."
   ]
  },
  {
   "cell_type": "code",
   "execution_count": null,
   "metadata": {},
   "outputs": [],
   "source": []
  },
  {
   "cell_type": "code",
   "execution_count": null,
   "metadata": {
    "scrolled": true
   },
   "outputs": [],
   "source": [
    "L = [\"C\", \"A\", \"T\", \"S\"]\n",
    "get_subsets(L)"
   ]
  },
  {
   "cell_type": "markdown",
   "metadata": {},
   "source": [
    "#### Alternative: get the number of subsets"
   ]
  },
  {
   "cell_type": "code",
   "execution_count": 1,
   "metadata": {},
   "outputs": [],
   "source": [
    "def get_subsets(L):\n",
    "    return helper(L)\n",
    "\n",
    "\n",
    "def helper(L):\n",
    "    if len(L) == 0:\n",
    "        return 1\n",
    "\n",
    "    else:\n",
    "        return 2 * helper(L[1:])"
   ]
  },
  {
   "cell_type": "code",
   "execution_count": 2,
   "metadata": {
    "scrolled": true
   },
   "outputs": [
    {
     "data": {
      "text/plain": [
       "True"
      ]
     },
     "execution_count": 2,
     "metadata": {},
     "output_type": "execute_result"
    }
   ],
   "source": [
    "L = [1,2,3,4,5,6,7]\n",
    "get_subsets(L) == 2**len(L)"
   ]
  },
  {
   "cell_type": "markdown",
   "metadata": {},
   "source": [
    "### 8.7 Permutations without Dups\n",
    "\n",
    "Write a method to compute all permutations of a string of unique\n",
    "characters."
   ]
  },
  {
   "cell_type": "code",
   "execution_count": null,
   "metadata": {},
   "outputs": [],
   "source": []
  },
  {
   "cell_type": "code",
   "execution_count": null,
   "metadata": {},
   "outputs": [],
   "source": [
    "L = \"123\"\n",
    "get_perms(L)"
   ]
  },
  {
   "cell_type": "markdown",
   "metadata": {},
   "source": [
    "#### same algorithm but one that RETURNS the list of all permutations"
   ]
  },
  {
   "cell_type": "code",
   "execution_count": null,
   "metadata": {},
   "outputs": [],
   "source": [
    "def get_perms(L):\n",
    "    list_of_perms = []\n",
    "    perm = []\n",
    "    helper(L, perm, list_of_perms)\n",
    "    return list_of_perms\n",
    "\n",
    "\n",
    "\n",
    "def helper(L, perm, list_of_perms):\n",
    "    if len(L) == 0:\n",
    "        list_of_perms.append(perm)\n",
    "    else:\n",
    "        for i in range(len(L)):\n",
    "            helper(L[:i] + L[i+1:], perm + [L[i]],list_of_perms )\n",
    "        \n",
    "\n"
   ]
  },
  {
   "cell_type": "code",
   "execution_count": null,
   "metadata": {},
   "outputs": [],
   "source": [
    "get_perms([1,2,3])"
   ]
  },
  {
   "cell_type": "code",
   "execution_count": null,
   "metadata": {},
   "outputs": [],
   "source": [
    "steps_allowed = [1,3,5]\n",
    "def number_of_ways(num_steps, steps_allowed):\n",
    "    L = []\n",
    "    result = helper(num_steps, L, steps_allowed)\n",
    "    # result = [item for item in result if len(item) != 0]\n",
    "    return result\n",
    "\n",
    "def helper(num_steps, L, steps_allowed):\n",
    "    if num_steps == 0:\n",
    "        return [L]\n",
    "    elif num_steps < 0:\n",
    "        return []\n",
    "    else:\n",
    "        final_sum = []\n",
    "        for i,_ in enumerate(steps_allowed):\n",
    "            final_sum += helper(num_steps - steps_allowed[i], L + [steps_allowed[i]], steps_allowed)\n",
    "        return final_sum"
   ]
  },
  {
   "cell_type": "markdown",
   "metadata": {},
   "source": [
    "### alternative: count the number of iterations"
   ]
  },
  {
   "cell_type": "code",
   "execution_count": null,
   "metadata": {},
   "outputs": [],
   "source": [
    "sum([1,2,3])"
   ]
  },
  {
   "cell_type": "code",
   "execution_count": null,
   "metadata": {},
   "outputs": [],
   "source": []
  },
  {
   "cell_type": "code",
   "execution_count": null,
   "metadata": {},
   "outputs": [],
   "source": [
    "L = \"12345\"\n",
    "get_perms(L)"
   ]
  },
  {
   "cell_type": "markdown",
   "metadata": {},
   "source": [
    "### Mysterious solution from textbook"
   ]
  },
  {
   "cell_type": "code",
   "execution_count": null,
   "metadata": {},
   "outputs": [],
   "source": []
  },
  {
   "cell_type": "code",
   "execution_count": null,
   "metadata": {},
   "outputs": [],
   "source": [
    "L = \"CAT\"\n",
    "get_perms(L)"
   ]
  },
  {
   "cell_type": "markdown",
   "metadata": {},
   "source": [
    "### Permutations with Dups\n",
    "\n",
    "Write a method to compute all permutations of a string whose characters are not necessarily unique. The list of permutations should not have duplicates."
   ]
  },
  {
   "cell_type": "code",
   "execution_count": null,
   "metadata": {},
   "outputs": [],
   "source": []
  },
  {
   "cell_type": "code",
   "execution_count": null,
   "metadata": {},
   "outputs": [],
   "source": [
    "L = \"122\"\n",
    "get_perms(L)"
   ]
  },
  {
   "cell_type": "markdown",
   "metadata": {},
   "source": [
    "### Parens\n",
    "\n",
    "Implement an algorithm to print all valid (i.e., properly opened and closed) combinations\n",
    "of n pairs of parentheses."
   ]
  },
  {
   "cell_type": "code",
   "execution_count": 18,
   "metadata": {
    "code_folding": []
   },
   "outputs": [],
   "source": [
    "def parens(n):\n",
    "    expression = \"(\"\n",
    "    list_of_expressions = []\n",
    "    # the number of opened parentheses so far\n",
    "    number_opened = 1\n",
    "    total = 1\n",
    "    helper(number_opened, expression, list_of_expressions, n, total)\n",
    "    return  list_of_expressions\n",
    "\n",
    "\n",
    "def helper(number_opened, expression, list_of_expressions, n, total):\n",
    "    # Base Case\n",
    "    if total == n:\n",
    "        # Pad with resulting \")\"\n",
    "        \n",
    "        expression += \")\"*(2*n - len(expression))\n",
    "        list_of_expressions.append(expression)\n",
    "    else:\n",
    "        if number_opened == 0:\n",
    "            # add a \"(\" to the expression\n",
    "            helper(number_opened + 1, expression + \"(\", list_of_expressions, n, total + 1)\n",
    "        else:\n",
    "            # add a \"(\" to the expression\n",
    "            helper(number_opened + 1, expression + \"(\", list_of_expressions, n, total + 1)\n",
    "            # add a \")\" to the expression\n",
    "            helper(number_opened - 1, expression + \")\", list_of_expressions, n, total)\n",
    "            \n",
    "            \n",
    "        \n"
   ]
  },
  {
   "cell_type": "code",
   "execution_count": 19,
   "metadata": {},
   "outputs": [
    {
     "data": {
      "text/plain": [
       "['((()))', '(()())', '(())()', '()(())', '()()()']"
      ]
     },
     "execution_count": 19,
     "metadata": {},
     "output_type": "execute_result"
    }
   ],
   "source": [
    "parens(3)"
   ]
  },
  {
   "cell_type": "code",
   "execution_count": 20,
   "metadata": {},
   "outputs": [
    {
     "data": {
      "text/plain": [
       "['((()))', '(()())', '(())()', '()(())', '()()()']"
      ]
     },
     "execution_count": 20,
     "metadata": {},
     "output_type": "execute_result"
    }
   ],
   "source": [
    "parens(3)\n"
   ]
  },
  {
   "cell_type": "code",
   "execution_count": 21,
   "metadata": {},
   "outputs": [
    {
     "data": {
      "text/plain": [
       "['(((())))',\n",
       " '((()()))',\n",
       " '((())())',\n",
       " '((()))()',\n",
       " '(()(()))',\n",
       " '(()()())',\n",
       " '(()())()',\n",
       " '(())(())',\n",
       " '(())()()',\n",
       " '()((()))',\n",
       " '()(()())',\n",
       " '()(())()',\n",
       " '()()(())',\n",
       " '()()()()']"
      ]
     },
     "execution_count": 21,
     "metadata": {},
     "output_type": "execute_result"
    }
   ],
   "source": [
    "parens(4)"
   ]
  },
  {
   "cell_type": "markdown",
   "metadata": {},
   "source": [
    "## Coins\n",
    "\n",
    "Given an infinite number of (25) quarters (10) dimes (5) nickels, and (1) pennies. Write code to calculate the number of ways to get n cents."
   ]
  },
  {
   "cell_type": "markdown",
   "metadata": {},
   "source": [
    "# My thinking: Similar to the kid jumping up the stairs"
   ]
  },
  {
   "cell_type": "code",
   "execution_count": 12,
   "metadata": {},
   "outputs": [],
   "source": [
    "types_of_coins = [100, 25,10,5, 2,1]\n",
    "\n",
    "def number_of_ways(n):\n",
    "    \n",
    "    list_of_ways = []\n",
    "    my_way = []\n",
    "    money_left = n\n",
    "    return helper(my_way, list_of_ways, money_left)\n",
    "\n",
    "def helper(my_way, list_of_ways, money_left):\n",
    "    if money_left == 0:\n",
    "        my_way = {item:my_way.count(item) for item in my_way}\n",
    "        \n",
    "        if my_way not in list_of_ways:\n",
    "        \n",
    "            list_of_ways.append(my_way)\n",
    "    elif money_left < 0:\n",
    "        list_of_ways += []\n",
    "    else:\n",
    "        for i, coin in enumerate(types_of_coins):\n",
    "            helper(my_way + [coin], list_of_ways, money_left - coin)\n",
    "    return list_of_ways\n",
    "            \n"
   ]
  },
  {
   "cell_type": "code",
   "execution_count": 13,
   "metadata": {},
   "outputs": [
    {
     "name": "stdout",
     "output_type": "stream",
     "text": [
      "Wall time: 92.5 ms\n"
     ]
    },
    {
     "data": {
      "text/plain": [
       "[{10: 1, 5: 1, 2: 2},\n",
       " {10: 1, 5: 1, 2: 1, 1: 2},\n",
       " {10: 1, 5: 1, 1: 4},\n",
       " {10: 1, 2: 4, 1: 1},\n",
       " {10: 1, 2: 3, 1: 3},\n",
       " {10: 1, 2: 2, 1: 5},\n",
       " {10: 1, 2: 1, 1: 7},\n",
       " {10: 1, 1: 9},\n",
       " {5: 3, 2: 2},\n",
       " {5: 3, 2: 1, 1: 2},\n",
       " {5: 3, 1: 4},\n",
       " {5: 2, 2: 4, 1: 1},\n",
       " {5: 2, 2: 3, 1: 3},\n",
       " {5: 2, 2: 2, 1: 5},\n",
       " {5: 2, 2: 1, 1: 7},\n",
       " {5: 2, 1: 9},\n",
       " {5: 1, 2: 7},\n",
       " {5: 1, 2: 6, 1: 2},\n",
       " {5: 1, 2: 5, 1: 4},\n",
       " {5: 1, 2: 4, 1: 6},\n",
       " {5: 1, 2: 3, 1: 8},\n",
       " {5: 1, 2: 2, 1: 10},\n",
       " {5: 1, 2: 1, 1: 12},\n",
       " {5: 1, 1: 14},\n",
       " {2: 9, 1: 1},\n",
       " {2: 8, 1: 3},\n",
       " {2: 7, 1: 5},\n",
       " {2: 6, 1: 7},\n",
       " {2: 5, 1: 9},\n",
       " {2: 4, 1: 11},\n",
       " {2: 3, 1: 13},\n",
       " {2: 2, 1: 15},\n",
       " {2: 1, 1: 17},\n",
       " {1: 19}]"
      ]
     },
     "execution_count": 13,
     "metadata": {},
     "output_type": "execute_result"
    }
   ],
   "source": [
    "%%time\n",
    "number_of_ways(19)"
   ]
  },
  {
   "cell_type": "code",
   "execution_count": null,
   "metadata": {},
   "outputs": [],
   "source": []
  }
 ],
 "metadata": {
  "kernelspec": {
   "display_name": "Python 3",
   "language": "python",
   "name": "python3"
  },
  "language_info": {
   "codemirror_mode": {
    "name": "ipython",
    "version": 3
   },
   "file_extension": ".py",
   "mimetype": "text/x-python",
   "name": "python",
   "nbconvert_exporter": "python",
   "pygments_lexer": "ipython3",
   "version": "3.8.2"
  },
  "varInspector": {
   "cols": {
    "lenName": 16,
    "lenType": 16,
    "lenVar": 40
   },
   "kernels_config": {
    "python": {
     "delete_cmd_postfix": "",
     "delete_cmd_prefix": "del ",
     "library": "var_list.py",
     "varRefreshCmd": "print(var_dic_list())"
    },
    "r": {
     "delete_cmd_postfix": ") ",
     "delete_cmd_prefix": "rm(",
     "library": "var_list.r",
     "varRefreshCmd": "cat(var_dic_list()) "
    }
   },
   "types_to_exclude": [
    "module",
    "function",
    "builtin_function_or_method",
    "instance",
    "_Feature"
   ],
   "window_display": false
  }
 },
 "nbformat": 4,
 "nbformat_minor": 4
}
