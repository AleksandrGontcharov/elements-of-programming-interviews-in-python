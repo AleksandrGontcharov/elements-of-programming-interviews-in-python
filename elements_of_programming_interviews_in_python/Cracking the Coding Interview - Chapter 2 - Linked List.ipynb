{
 "cells": [
  {
   "cell_type": "markdown",
   "metadata": {},
   "source": [
    "# Linked List"
   ]
  },
  {
   "cell_type": "markdown",
   "metadata": {},
   "source": [
    "<img src=\"images/LINKED_LIST.png\"></img>"
   ]
  },
  {
   "cell_type": "code",
   "execution_count": 1,
   "metadata": {},
   "outputs": [],
   "source": [
    "class Node:\n",
    "    def __init__(self, data):\n",
    "        self.data = data\n",
    "        self.next = None\n",
    "\n",
    "    def __repr__(self):\n",
    "        return self.data\n",
    "\n",
    "    def __str__(self):\n",
    "        return self.data\n",
    "\n",
    "\n",
    "class LinkedList:\n",
    "    def __init__(self, L=[]):\n",
    "        self.head = None\n",
    "        n = len(L)\n",
    "        if n > 0:\n",
    "\n",
    "            node = Node(L[0])\n",
    "            self.head = node\n",
    "            for i in range(1, n):\n",
    "                new_node = Node(L[i])\n",
    "                node.next = new_node\n",
    "                node = new_node\n",
    "\n",
    "    def length(self):\n",
    "        node = self.head\n",
    "        i = 0\n",
    "        while node != None:\n",
    "            i += 1\n",
    "            node = node.next\n",
    "\n",
    "        return i\n",
    "\n",
    "    def append_at_head(self, data):\n",
    "        # create the new node\n",
    "        new_node = Node(data)\n",
    "        if self.head == None:\n",
    "            self.head = new_node\n",
    "        else:\n",
    "            prev_first_node = self.head\n",
    "            self.head = new_node\n",
    "            new_node.next = prev_first_node\n",
    "\n",
    "    def append_at_tail(self, data):\n",
    "        # create the new node\n",
    "        new_node = Node(data)\n",
    "        if self.head == None:\n",
    "            self.head = new_node\n",
    "        else:\n",
    "            node = self.head\n",
    "            while node.next is not None:\n",
    "                node = node.next\n",
    "            node.next = new_node\n",
    "\n",
    "    def __getitem__(self, index):\n",
    "        assert index >= 0, print(\"index has to be >= 0\")\n",
    "        if self.head == None:\n",
    "            return \"List is Empty\"\n",
    "        else:\n",
    "            node = self.head\n",
    "            if index == 0:\n",
    "                return node.data\n",
    "            else:\n",
    "                i = 1\n",
    "                while i <= index:\n",
    "                    if node.next == None:\n",
    "                        return \"Index out of bounds\"\n",
    "                    node = node.next\n",
    "                    i += 1\n",
    "                return node.data\n",
    "\n",
    "    def search_list(self, data):\n",
    "        if self.head == None:\n",
    "            return \"not in list\"\n",
    "        else:\n",
    "            node = self.head\n",
    "            while node is not None and node.data != data:\n",
    "                node = node.next\n",
    "\n",
    "            if node == None:\n",
    "                return \"not in list\"\n",
    "            else:\n",
    "                return \"in list\"\n",
    "\n",
    "    def insert_at_index(self, data, k):\n",
    "\n",
    "        if k == 0:\n",
    "            self.append_at_head(data)\n",
    "        else:\n",
    "            new_node = Node(data)\n",
    "            node = self.head  # i = 0\n",
    "            i = 1\n",
    "            while i <= k:\n",
    "                prev_node = node\n",
    "                node = node.next\n",
    "                i += 1\n",
    "\n",
    "            # squeeze new_node between prev_node and node\n",
    "            prev_node.next = new_node\n",
    "            new_node.next = node\n",
    "\n",
    "    def delete_node_at_index(self, k):\n",
    "\n",
    "        assert k >= 0, print(\"k should be greater than or eq to 0\")\n",
    "\n",
    "        node = self.head\n",
    "        # edge case -> list has only one node:\n",
    "\n",
    "        if self.head == None:\n",
    "            return \"index out of bounds\"\n",
    "        elif node.next == None:\n",
    "            self.head = None\n",
    "        else:\n",
    "            if k == 0:\n",
    "                self.head = node.next\n",
    "            else:\n",
    "                # Now we have the case that our list has at least 2 lements\n",
    "                i = 0\n",
    "                while i < k:\n",
    "                    prev_node = node\n",
    "                    node = node.next\n",
    "                    i += 1\n",
    "\n",
    "                # case 1- if node is the last node\n",
    "                if node.next == None:\n",
    "                    prev_node.next = None\n",
    "                else:\n",
    "                    next_node = node.next\n",
    "                    prev_node.next = next_node\n",
    "\n",
    "    def __repr__(self):\n",
    "        node = self.head\n",
    "        L = [\"head\"]\n",
    "\n",
    "        while node is not None:\n",
    "\n",
    "            L.append(str(node.data))\n",
    "            node = node.next\n",
    "        L.append(\"none\")\n",
    "        return \" --> \".join(L)\n",
    "\n",
    "    def reverse(self):\n",
    "        first_node = self.head\n",
    "        # case 1: the sequence has 1 or 2 nodes\n",
    "        if first_node == None:\n",
    "            return\n",
    "        elif first_node.next == None:\n",
    "            return\n",
    "        else:  # case 2: the sequence has 2+ nodes\n",
    "            # set the second node to 'node'\n",
    "            prev_node = first_node\n",
    "            node = first_node.next\n",
    "            # point the first node to None\n",
    "            prev_node.next = None\n",
    "            # iterate through list and change arrow\n",
    "            while node != None:\n",
    "                curr_node = node\n",
    "                following_node = curr_node.next\n",
    "\n",
    "                node.next = prev_node\n",
    "\n",
    "                prev_node = curr_node\n",
    "                node = following_node\n",
    "\n",
    "            self.head = prev_node"
   ]
  },
  {
   "cell_type": "code",
   "execution_count": 2,
   "metadata": {},
   "outputs": [
    {
     "data": {
      "text/plain": [
       "head --> 6 --> 1 --> 2 --> 3 --> 4 --> 5 --> none"
      ]
     },
     "execution_count": 2,
     "metadata": {},
     "output_type": "execute_result"
    }
   ],
   "source": [
    "llist = LinkedList([6, 1, 2, 3, 4, 5])\n",
    "llist"
   ]
  },
  {
   "cell_type": "code",
   "execution_count": 3,
   "metadata": {},
   "outputs": [
    {
     "data": {
      "text/plain": [
       "head --> 5 --> 4 --> 3 --> 2 --> 1 --> 6 --> none"
      ]
     },
     "execution_count": 3,
     "metadata": {},
     "output_type": "execute_result"
    }
   ],
   "source": [
    "llist.reverse()\n",
    "llist"
   ]
  },
  {
   "cell_type": "markdown",
   "metadata": {},
   "source": [
    "# 2.1 Remove Dups\n",
    "#### Write code to remove duplicates from an unsorted linked list"
   ]
  },
  {
   "cell_type": "markdown",
   "metadata": {},
   "source": [
    "#### My Idea: \n",
    "1. iterate through the linked list\n",
    "2. use a hashtable (set) to keep a list of elements seen so far\n",
    "3. For each new element seen, check if element is in the set, if yes, it is a duplicate, so remove it"
   ]
  },
  {
   "cell_type": "code",
   "execution_count": 4,
   "metadata": {},
   "outputs": [],
   "source": [
    "def removedups(llist):\n",
    "    node = llist.head\n",
    "    # edge case: list is empty\n",
    "    unique_elements = set()\n",
    "    while node != None:\n",
    "        if node.data not in unique_elements:\n",
    "            # this means that this element has not been seen so far\n",
    "            unique_elements.add(node.data)\n",
    "            prev_node = node\n",
    "        else:\n",
    "            # this means that we have already encountered this element\n",
    "            # we need to remove it\n",
    "            prev_node.next = node.next\n",
    "        node = node.next\n",
    "        \n",
    "    \n",
    "    return llist"
   ]
  },
  {
   "cell_type": "code",
   "execution_count": 5,
   "metadata": {},
   "outputs": [
    {
     "data": {
      "text/plain": [
       "head --> 1 --> 2 --> 3 --> 3 --> 3 --> 3 --> 4 --> 2 --> 5 --> none"
      ]
     },
     "execution_count": 5,
     "metadata": {},
     "output_type": "execute_result"
    }
   ],
   "source": [
    "llist = LinkedList([1,2,3,3,3,3,4,2,5])\n",
    "llist"
   ]
  },
  {
   "cell_type": "code",
   "execution_count": 6,
   "metadata": {},
   "outputs": [
    {
     "data": {
      "text/plain": [
       "head --> 1 --> 2 --> 3 --> 4 --> 5 --> none"
      ]
     },
     "execution_count": 6,
     "metadata": {},
     "output_type": "execute_result"
    }
   ],
   "source": [
    "removedups(llist)"
   ]
  },
  {
   "cell_type": "markdown",
   "metadata": {},
   "source": [
    "#### Can you do this without a temporary buffer\n",
    "1. take the first element of the linked list\n",
    "2. iterate through the list and if any other element of the list is the same as the first, remove it\n",
    "3. take the second element of the linked list\n",
    "4. iterate through the list and if any other element of the list is the same as the second, remove it\n",
    "etc.\n",
    "\n",
    "We can then make it so that the iterations don't have to start from the beginning each time"
   ]
  },
  {
   "cell_type": "code",
   "execution_count": 7,
   "metadata": {},
   "outputs": [],
   "source": [
    "def removedups(llist):\n",
    "    curr_node = llist.head\n",
    "\n",
    "    while curr_node != None:\n",
    "        # remove all subsequent nodes whose value equals the value of curr_node\n",
    "        # set starting node to be the next node after curr_node\n",
    "        prev_node = curr_node\n",
    "        node = curr_node.next\n",
    "        while node != None:\n",
    "            # remove this node if its value equals the value of the curr_node\n",
    "            if node.data == curr_node.data:\n",
    "                prev_node.next = node.next\n",
    "                # the key here is that the previous node doesn't change\n",
    "                node = node.next\n",
    "            else:\n",
    "                prev_node = node\n",
    "                node = node.next\n",
    "\n",
    "        curr_node = curr_node.next\n",
    "\n",
    "    return llist"
   ]
  },
  {
   "cell_type": "code",
   "execution_count": 8,
   "metadata": {},
   "outputs": [
    {
     "data": {
      "text/plain": [
       "head --> 1 --> 1 --> 2 --> 2 --> 1 --> none"
      ]
     },
     "execution_count": 8,
     "metadata": {},
     "output_type": "execute_result"
    }
   ],
   "source": [
    "llist = LinkedList([1,1,2,2,1])\n",
    "llist"
   ]
  },
  {
   "cell_type": "code",
   "execution_count": 9,
   "metadata": {},
   "outputs": [
    {
     "data": {
      "text/plain": [
       "head --> 1 --> 2 --> none"
      ]
     },
     "execution_count": 9,
     "metadata": {},
     "output_type": "execute_result"
    }
   ],
   "source": [
    "removedups(llist)"
   ]
  },
  {
   "cell_type": "code",
   "execution_count": 10,
   "metadata": {},
   "outputs": [
    {
     "data": {
      "text/plain": [
       "head --> 3 --> 3 --> 3 --> 3 --> 4 --> 2 --> 5 --> none"
      ]
     },
     "execution_count": 10,
     "metadata": {},
     "output_type": "execute_result"
    }
   ],
   "source": [
    "llist = LinkedList([3,3,3,3,4,2,5])\n",
    "llist"
   ]
  },
  {
   "cell_type": "code",
   "execution_count": 11,
   "metadata": {},
   "outputs": [
    {
     "data": {
      "text/plain": [
       "head --> 3 --> 4 --> 2 --> 5 --> none"
      ]
     },
     "execution_count": 11,
     "metadata": {},
     "output_type": "execute_result"
    }
   ],
   "source": [
    "removedups(llist)"
   ]
  },
  {
   "cell_type": "markdown",
   "metadata": {},
   "source": [
    "# 2.2 Return Kth to last \n",
    "#### Write code to return kth to last element of a linkedlist"
   ]
  },
  {
   "cell_type": "markdown",
   "metadata": {},
   "source": [
    "#### Idea 1: return the n-kth element"
   ]
  },
  {
   "cell_type": "code",
   "execution_count": 12,
   "metadata": {},
   "outputs": [],
   "source": [
    "def return_kth_to_last(llist, k):\n",
    "    # TODO\n",
    "    n = llist.length()\n",
    "    \n",
    "    assert n - k > 0, \"k is out of bounds\"\n",
    "    \n",
    "    \n",
    "    # k = 1 means last i.e. return llist[n-1]\n",
    "    # k = 2 means second to last i.e. return llist[n-2]\n",
    "    \n",
    "    return llist[n - k]"
   ]
  },
  {
   "cell_type": "code",
   "execution_count": 13,
   "metadata": {},
   "outputs": [
    {
     "data": {
      "text/plain": [
       "head --> 1 --> 2 --> 3 --> 4 --> 5 --> none"
      ]
     },
     "execution_count": 13,
     "metadata": {},
     "output_type": "execute_result"
    }
   ],
   "source": [
    "llist = LinkedList([1,2,3,4,5])\n",
    "llist"
   ]
  },
  {
   "cell_type": "code",
   "execution_count": 14,
   "metadata": {},
   "outputs": [
    {
     "data": {
      "text/plain": [
       "3"
      ]
     },
     "execution_count": 14,
     "metadata": {},
     "output_type": "execute_result"
    }
   ],
   "source": [
    "return_kth_to_last(llist, 3)"
   ]
  },
  {
   "cell_type": "markdown",
   "metadata": {},
   "source": [
    "#### Idea 2: Use a runner\n",
    "1. start a point that will go up to k\n",
    "2. when the starting pointer reaches k, then advance another solution pointer at the same pace as k\n",
    "3. when starting pointer reaches the end, the solution pointer will be at the (n-k)th place, so return the k-th data attribute"
   ]
  },
  {
   "cell_type": "code",
   "execution_count": 15,
   "metadata": {},
   "outputs": [],
   "source": [
    "def return_kth_to_last(llist, k):\n",
    "    # TODO\n",
    "    node = llist.head\n",
    "\n",
    "    if node == Node:\n",
    "        return \"list is empty\"\n",
    "\n",
    "    follower = node\n",
    "    leader = node\n",
    "    i = 0\n",
    "    \n",
    "    if k > llist.length() or k <= 0:\n",
    "        return \"k out of bounds\"\n",
    "\n",
    "    while leader.next != None:\n",
    "\n",
    "        if i - k + 1 >= 0:\n",
    "            follower = follower.next\n",
    "\n",
    "        leader = leader.next\n",
    "\n",
    "        i += 1\n",
    "\n",
    "    return follower.data\n",
    "  "
   ]
  },
  {
   "cell_type": "code",
   "execution_count": 16,
   "metadata": {},
   "outputs": [
    {
     "data": {
      "text/plain": [
       "head --> 1 --> 2 --> 3 --> 4 --> 5 --> none"
      ]
     },
     "execution_count": 16,
     "metadata": {},
     "output_type": "execute_result"
    }
   ],
   "source": [
    "llist = LinkedList([1,2,3,4,5])\n",
    "llist"
   ]
  },
  {
   "cell_type": "code",
   "execution_count": 17,
   "metadata": {},
   "outputs": [
    {
     "data": {
      "text/plain": [
       "1"
      ]
     },
     "execution_count": 17,
     "metadata": {},
     "output_type": "execute_result"
    }
   ],
   "source": [
    "return_kth_to_last(llist, 5)"
   ]
  },
  {
   "cell_type": "code",
   "execution_count": 18,
   "metadata": {},
   "outputs": [
    {
     "name": "stdout",
     "output_type": "stream",
     "text": [
      "k out of bounds\n",
      "k out of bounds\n",
      "5\n",
      "4\n",
      "3\n",
      "2\n",
      "1\n",
      "k out of bounds\n",
      "k out of bounds\n"
     ]
    }
   ],
   "source": [
    "for i in range(-1,8):\n",
    "    print(return_kth_to_last(llist, i))"
   ]
  },
  {
   "cell_type": "markdown",
   "metadata": {},
   "source": [
    "#### Idea 3: Recursive Solution\n",
    "A recursive solution allows you to \"remember\" previous nodes\n",
    "\n",
    "1. Start a recursion into the next node\n",
    "2. When the recursion reaches the base case of node.next == None, then we have to \"go back\" k steps\n",
    "3. We start a counter = 1 (it does not get returned!) at the final base case\n",
    "4. if k = 1, then we simply return the final node's data\n",
    "5. Otherwise, the recursive case gets activated, in which we ask if counter + 1 == k, in which case we return the node's data"
   ]
  },
  {
   "cell_type": "code",
   "execution_count": 19,
   "metadata": {},
   "outputs": [],
   "source": [
    "def recursive_kth_to_last(llist, k):\n",
    "    # pass in initial node\n",
    "    node = llist.head\n",
    "    helper(node, k)\n",
    "\n",
    "\n",
    "def helper(node, k):\n",
    "    if node == None:\n",
    "        return 0\n",
    "\n",
    "    counter = helper(node.next, k) + 1\n",
    "    if counter == k:\n",
    "\n",
    "        print(\"the answer is \", node.data)\n",
    "\n",
    "    return counter"
   ]
  },
  {
   "cell_type": "code",
   "execution_count": 20,
   "metadata": {},
   "outputs": [
    {
     "data": {
      "text/plain": [
       "head --> 1 --> 2 --> 3 --> 4 --> 5 --> none"
      ]
     },
     "execution_count": 20,
     "metadata": {},
     "output_type": "execute_result"
    }
   ],
   "source": [
    "llist = LinkedList([1,2,3,4,5])\n",
    "llist"
   ]
  },
  {
   "cell_type": "code",
   "execution_count": 21,
   "metadata": {},
   "outputs": [
    {
     "name": "stdout",
     "output_type": "stream",
     "text": [
      "the answer is  3\n"
     ]
    }
   ],
   "source": [
    "recursive_kth_to_last(llist, 3)"
   ]
  },
  {
   "cell_type": "markdown",
   "metadata": {},
   "source": [
    "# 2.3 Delete middle node\n",
    "#### Implement an algorithm to delete a node in the middle given only access to that node. \n",
    "For example, delete 4 in 9 -> 2 -> 4 -> 5 -> 6 to get 9 -> 2 -> 5 -> 6"
   ]
  },
  {
   "cell_type": "markdown",
   "metadata": {},
   "source": [
    "#### Idea 1: overwrite the data in the given node with the next node's data, iterate through and delete the 2nd to last node next reference"
   ]
  },
  {
   "cell_type": "code",
   "execution_count": 22,
   "metadata": {},
   "outputs": [],
   "source": [
    "A = Node(\"A\")\n",
    "B = Node(\"B\")\n",
    "C = Node(\"C\")\n",
    "D = Node(\"D\")\n",
    "E = Node(\"E\")\n",
    "A.next = B\n",
    "B.next = C\n",
    "C.next = D\n",
    "D.next = E"
   ]
  },
  {
   "cell_type": "code",
   "execution_count": 23,
   "metadata": {},
   "outputs": [
    {
     "name": "stdout",
     "output_type": "stream",
     "text": [
      "A\n",
      "B\n",
      "C\n",
      "D\n",
      "E\n"
     ]
    }
   ],
   "source": [
    "node = A\n",
    "for i in range(5):\n",
    "    print(node.data)\n",
    "    if node.next == None:\n",
    "        break\n",
    "    node = node.next"
   ]
  },
  {
   "cell_type": "code",
   "execution_count": 24,
   "metadata": {},
   "outputs": [],
   "source": [
    "def delete_node(node):\n",
    "    # overwrite the current node with the next node's data\n",
    "    node.data = node.next.data\n",
    "    # link node to the node 2 after\n",
    "    node.next = node.next.next\n"
   ]
  },
  {
   "cell_type": "code",
   "execution_count": 25,
   "metadata": {},
   "outputs": [],
   "source": [
    "delete_node(C)"
   ]
  },
  {
   "cell_type": "code",
   "execution_count": 26,
   "metadata": {
    "scrolled": true
   },
   "outputs": [
    {
     "name": "stdout",
     "output_type": "stream",
     "text": [
      "A\n",
      "B\n",
      "D\n",
      "E\n"
     ]
    }
   ],
   "source": [
    "node = A\n",
    "for i in range(5):\n",
    "    print(node.data)\n",
    "    if node.next == None:\n",
    "        break\n",
    "    node = node.next"
   ]
  },
  {
   "cell_type": "markdown",
   "metadata": {},
   "source": [
    "# 2.4 Paritition a linked list around a pivot\n",
    "#### if pivot equals one of the items in the list, put it in the right partition"
   ]
  },
  {
   "cell_type": "markdown",
   "metadata": {},
   "source": [
    "#### Idea: to traverse the given linked list and to build two new lists Left and Right - each time appending elements at the front for O(1) time. When completed iterating through given linked list, append the last node of the Left list to the first node of the right list"
   ]
  },
  {
   "cell_type": "code",
   "execution_count": 27,
   "metadata": {},
   "outputs": [],
   "source": [
    "def partition(llist, pivot):\n",
    "    node = llist.head\n",
    "    \n",
    "    L = []\n",
    "    \n",
    "    R = []\n",
    "    \n",
    "    # loop through the given linked list\n",
    "    if node == None:\n",
    "        \n",
    "        return \"list is empty\"\n",
    "    \n",
    "    while node != None:\n",
    "        if node.data < pivot:\n",
    "            L.append(node)\n",
    "        else:\n",
    "            R.append(node)\n",
    "        node = node.next\n",
    "\n",
    "    \n",
    "    # Link the Left ones\n",
    "    llist.head = L[0]\n",
    "    for i in range(len(L) - 1):\n",
    "        L[i].next = L[i + 1]\n",
    "    L[-1].next = R[0]\n",
    "    \n",
    "    for i in range(len(R) - 1):\n",
    "        R[i].next = R[i + 1]\n",
    "    \n",
    "    # unlink the last element of R\n",
    "    R[-1].next = None\n",
    "    \n",
    "    \n",
    "    return llist\n"
   ]
  },
  {
   "cell_type": "code",
   "execution_count": 28,
   "metadata": {},
   "outputs": [
    {
     "data": {
      "text/plain": [
       "head --> 3 --> 5 --> 8 --> 5 --> 10 --> 2 --> 1 --> none"
      ]
     },
     "execution_count": 28,
     "metadata": {},
     "output_type": "execute_result"
    }
   ],
   "source": [
    "llist = LinkedList([3, 5, 8, 5, 10, 2, 1])\n",
    "llist"
   ]
  },
  {
   "cell_type": "code",
   "execution_count": 29,
   "metadata": {},
   "outputs": [
    {
     "data": {
      "text/plain": [
       "head --> 1 --> 3 --> 5 --> 8 --> 5 --> 10 --> 2 --> none"
      ]
     },
     "execution_count": 29,
     "metadata": {},
     "output_type": "execute_result"
    }
   ],
   "source": [
    "partition(llist, 2)"
   ]
  },
  {
   "cell_type": "code",
   "execution_count": null,
   "metadata": {},
   "outputs": [],
   "source": []
  },
  {
   "cell_type": "markdown",
   "metadata": {},
   "source": [
    "# 2.5 Sum Lists"
   ]
  },
  {
   "cell_type": "markdown",
   "metadata": {},
   "source": [
    "You have two numbers represented by a linked list, where each node contains a singledigit. The digits are stored in reverse order, such that the 1 's digit is at the head of the list. Write afunction that adds the two numbers and returns the sum as a linked list.\n",
    "\n",
    "EXAMPLE\n",
    "___\n",
    "Input: (7 -> 1 -> 6) + (5 -> 9 -> 2).\n",
    "\n",
    "That is , 617 + 295.\n",
    "\n",
    "Output: 2 -> 1 -> 9, namely 912"
   ]
  },
  {
   "cell_type": "code",
   "execution_count": null,
   "metadata": {},
   "outputs": [],
   "source": []
  },
  {
   "cell_type": "code",
   "execution_count": null,
   "metadata": {},
   "outputs": [],
   "source": []
  },
  {
   "cell_type": "code",
   "execution_count": null,
   "metadata": {},
   "outputs": [],
   "source": []
  },
  {
   "cell_type": "code",
   "execution_count": null,
   "metadata": {},
   "outputs": [],
   "source": []
  },
  {
   "cell_type": "code",
   "execution_count": 30,
   "metadata": {},
   "outputs": [],
   "source": [
    "def sum_lists(A, B):\n",
    "    node_A = A.head\n",
    "    node_B = B.head\n",
    "\n",
    "    # edge case: ensure that both A and B are nonempty lists TODO\n",
    "\n",
    "    answer = LinkedList()\n",
    "\n",
    "    # append initial digit\n",
    "    if node_A.data + node_B.data < 10:\n",
    "        node = Node(node_A.data + node_B.data)\n",
    "        answer.head = node\n",
    "        carry = 0\n",
    "    else:\n",
    "        node = Node(node_A.data + node_B.data - 10)\n",
    "        answer.head = node\n",
    "        carry = 1\n",
    "\n",
    "    # advance the nodes so that the while loops starts at the second nodes\n",
    "\n",
    "    node_A = node_A.next\n",
    "    node_B = node_B.next\n",
    "\n",
    "    # append the remaining digits\n",
    "\n",
    "    while node_A != None and node_B != None:\n",
    "        if node_A.data + node_B.data + carry < 10:\n",
    "            new_node = Node(node_A.data + node_B.data + carry)\n",
    "            node.next = new_node\n",
    "            node = new_node\n",
    "            carry = 0\n",
    "\n",
    "        else:\n",
    "            new_node = Node(node_A.data + node_B.data + carry - 10)\n",
    "            node.next = new_node\n",
    "            node = new_node\n",
    "            carry = 1\n",
    "        node_A = node_A.next\n",
    "        node_B = node_B.next\n",
    "\n",
    "    # to complete the answer\n",
    "    if node_A != None:\n",
    "        rem_node = node_A\n",
    "    elif node_B != None:\n",
    "        rem_node = node_B\n",
    "    else:\n",
    "        if carry == 1:\n",
    "            new_node = Node(1)\n",
    "            node.next = new_node\n",
    "        return answer\n",
    "\n",
    "    while rem_node != None:\n",
    "        if rem_node.data + carry < 10:\n",
    "            new_node = Node(rem_node.data + carry)\n",
    "            node.next = new_node\n",
    "            node = new_node\n",
    "            carry = 0\n",
    "        else:\n",
    "            new_node = Node(rem_node.data + carry - 10)\n",
    "            node.next = new_node\n",
    "            node = new_node\n",
    "            carry = 1\n",
    "        rem_node = rem_node.next\n",
    "\n",
    "    if carry == 1:\n",
    "        new_node = Node(1)\n",
    "        node.next = new_node\n",
    "\n",
    "    return answer"
   ]
  },
  {
   "cell_type": "code",
   "execution_count": 31,
   "metadata": {},
   "outputs": [
    {
     "name": "stdout",
     "output_type": "stream",
     "text": [
      "Should be 2 -> 1 -> 9 912 219\n"
     ]
    },
    {
     "data": {
      "text/plain": [
       "head --> 2 --> 1 --> 9 --> none"
      ]
     },
     "execution_count": 31,
     "metadata": {},
     "output_type": "execute_result"
    }
   ],
   "source": [
    "A = LinkedList([7, 1, 6])\n",
    "B = LinkedList([5, 9, 2])\n",
    "print(\"Should be 2 -> 1 -> 9\", 617+295, 219)\n",
    "sum_lists(A,B)"
   ]
  },
  {
   "cell_type": "code",
   "execution_count": 32,
   "metadata": {},
   "outputs": [
    {
     "name": "stdout",
     "output_type": "stream",
     "text": [
      "Should be  1212\n"
     ]
    },
    {
     "data": {
      "text/plain": [
       "head --> 2 --> 1 --> 2 --> 1 --> none"
      ]
     },
     "execution_count": 32,
     "metadata": {},
     "output_type": "execute_result"
    }
   ],
   "source": [
    "A = LinkedList([7, 1, 9])\n",
    "B = LinkedList([5, 9, 2])\n",
    "print(\"Should be \", 917+295)\n",
    "sum_lists(A,B)"
   ]
  },
  {
   "cell_type": "code",
   "execution_count": 33,
   "metadata": {},
   "outputs": [
    {
     "name": "stdout",
     "output_type": "stream",
     "text": [
      "Should be 8 -> 1 -> 9 918\n"
     ]
    },
    {
     "data": {
      "text/plain": [
       "head --> 8 --> 1 --> 9 --> none"
      ]
     },
     "execution_count": 33,
     "metadata": {},
     "output_type": "execute_result"
    }
   ],
   "source": [
    "A = LinkedList([7, 1, 9])\n",
    "B = LinkedList([1])\n",
    "print(\"Should be 8 -> 1 -> 9\", 917+1)\n",
    "sum_lists(A,B)"
   ]
  },
  {
   "cell_type": "code",
   "execution_count": 34,
   "metadata": {},
   "outputs": [
    {
     "name": "stdout",
     "output_type": "stream",
     "text": [
      "Should be \n"
     ]
    },
    {
     "data": {
      "text/plain": [
       "head --> 0 --> 0 --> 0 --> 1 --> none"
      ]
     },
     "execution_count": 34,
     "metadata": {},
     "output_type": "execute_result"
    }
   ],
   "source": [
    "A = LinkedList([9, 9, 9])\n",
    "B = LinkedList([1])\n",
    "print(\"Should be \")\n",
    "sum_lists(A,B)"
   ]
  },
  {
   "cell_type": "code",
   "execution_count": 35,
   "metadata": {},
   "outputs": [
    {
     "name": "stdout",
     "output_type": "stream",
     "text": [
      "Should be \n"
     ]
    },
    {
     "data": {
      "text/plain": [
       "head --> 0 --> 0 --> 0 --> 0 --> 1 --> none"
      ]
     },
     "execution_count": 35,
     "metadata": {},
     "output_type": "execute_result"
    }
   ],
   "source": [
    "# 9 9 9 1 + 9 = 10,000\n",
    "B = LinkedList([1, 9, 9, 9])\n",
    "A = LinkedList([9])\n",
    "print(\"Should be \")\n",
    "sum_lists(A,B)\n",
    "    "
   ]
  },
  {
   "cell_type": "code",
   "execution_count": 36,
   "metadata": {},
   "outputs": [
    {
     "data": {
      "text/plain": [
       "5"
      ]
     },
     "execution_count": 36,
     "metadata": {},
     "output_type": "execute_result"
    }
   ],
   "source": [
    "x = 5\n",
    "x"
   ]
  },
  {
   "cell_type": "code",
   "execution_count": null,
   "metadata": {},
   "outputs": [],
   "source": []
  },
  {
   "cell_type": "markdown",
   "metadata": {},
   "source": [
    "# 2.6 Palindrome: \n",
    "\n",
    "Implement a function to check if a linked list is a palindrome."
   ]
  },
  {
   "cell_type": "markdown",
   "metadata": {},
   "source": [
    "#### Idea:\n",
    "\n",
    "Without recursion:\n",
    "1. iterate through the linked list once to get the length n\n",
    "2. create a pointer that reaches the halfway (n // 2 + i), then compare it n//2 - i for i in range(1, n //2)\n",
    " In order to go \"backwards\" we have to iterate through many elements each time"
   ]
  },
  {
   "cell_type": "markdown",
   "metadata": {},
   "source": [
    "#### Idea:\n",
    "\n",
    "Without recursion:\n",
    "1. O(n) iterate through the linked list once to get the length n\n",
    "2. O(n) create a sublist from 1 to n // 2\n",
    "3. O(n) Reverse a first half of linked list\n",
    "4. Compare the reversed first half to regular second half and return False if any different elements appear, else return True"
   ]
  },
  {
   "cell_type": "code",
   "execution_count": 37,
   "metadata": {},
   "outputs": [],
   "source": [
    "import copy\n",
    "def get_left_half(my_list):\n",
    "    llist = copy.deepcopy(my_list)\n",
    "    n = llist.length()\n",
    "    half_way = n // 2\n",
    "    \n",
    "    L = llist\n",
    "    node = L.head\n",
    "    i = 1\n",
    "    while i < half_way:\n",
    "        node = node.next\n",
    "        i += 1\n",
    "    node.next = None\n",
    "    return L\n",
    "\n",
    "\n",
    "def get_right_half(my_list):\n",
    "    llist = copy.deepcopy(my_list)\n",
    "    n = llist.length()\n",
    "    \n",
    "    half_way = n // 2 \n",
    "    if n % 2 == 1:\n",
    "        half_way += 1\n",
    "    L = llist\n",
    "    node = L.head\n",
    "    i = 0\n",
    "    while i != half_way:\n",
    "        node = node.next\n",
    "        i += 1\n",
    "    L.head = node\n",
    "    return L\n",
    "\n",
    "\n",
    "def is_palindrome(llist):\n",
    "    L = get_left_half(llist)\n",
    "    R = get_right_half(llist)\n",
    "    # reverse R\n",
    "    R.reverse()\n",
    "    \n",
    "    L_node = L.head\n",
    "    R_node = R.head\n",
    "\n",
    "    while L_node != None:\n",
    "        if L_node.data != R_node.data:\n",
    "\n",
    "            return False\n",
    "        L_node = L_node.next\n",
    "        R_node = R_node.next\n",
    "        \n",
    "    return True"
   ]
  },
  {
   "cell_type": "code",
   "execution_count": 38,
   "metadata": {},
   "outputs": [
    {
     "data": {
      "text/plain": [
       "head --> 1 --> 2 --> none"
      ]
     },
     "execution_count": 38,
     "metadata": {},
     "output_type": "execute_result"
    }
   ],
   "source": [
    "llist = LinkedList([1,2,3,4])\n",
    "get_left_half(llist)"
   ]
  },
  {
   "cell_type": "code",
   "execution_count": 39,
   "metadata": {},
   "outputs": [
    {
     "data": {
      "text/plain": [
       "head --> 3 --> 4 --> none"
      ]
     },
     "execution_count": 39,
     "metadata": {},
     "output_type": "execute_result"
    }
   ],
   "source": [
    "llist = LinkedList([1,2,3,4])\n",
    "get_right_half(llist)"
   ]
  },
  {
   "cell_type": "code",
   "execution_count": 40,
   "metadata": {},
   "outputs": [
    {
     "data": {
      "text/plain": [
       "head --> 1 --> 2 --> none"
      ]
     },
     "execution_count": 40,
     "metadata": {},
     "output_type": "execute_result"
    }
   ],
   "source": [
    "llist = LinkedList([1,2,3,4,5])\n",
    "get_left_half(llist)"
   ]
  },
  {
   "cell_type": "code",
   "execution_count": 41,
   "metadata": {},
   "outputs": [
    {
     "data": {
      "text/plain": [
       "head --> 4 --> 5 --> none"
      ]
     },
     "execution_count": 41,
     "metadata": {},
     "output_type": "execute_result"
    }
   ],
   "source": [
    "llist = LinkedList([1,2,3,4,5])\n",
    "get_right_half(llist)"
   ]
  },
  {
   "cell_type": "code",
   "execution_count": 42,
   "metadata": {},
   "outputs": [
    {
     "data": {
      "text/plain": [
       "True"
      ]
     },
     "execution_count": 42,
     "metadata": {},
     "output_type": "execute_result"
    }
   ],
   "source": [
    "llist = LinkedList([1,2,3,4,5,4,3,2,1])\n",
    "is_palindrome(llist)"
   ]
  },
  {
   "cell_type": "code",
   "execution_count": 43,
   "metadata": {},
   "outputs": [
    {
     "data": {
      "text/plain": [
       "False"
      ]
     },
     "execution_count": 43,
     "metadata": {},
     "output_type": "execute_result"
    }
   ],
   "source": [
    "llist = LinkedList([1,2,3,4,5])\n",
    "is_palindrome(llist)"
   ]
  },
  {
   "cell_type": "code",
   "execution_count": 44,
   "metadata": {},
   "outputs": [
    {
     "data": {
      "text/plain": [
       "False"
      ]
     },
     "execution_count": 44,
     "metadata": {},
     "output_type": "execute_result"
    }
   ],
   "source": [
    "llist = LinkedList([1,2])\n",
    "is_palindrome(llist)"
   ]
  },
  {
   "cell_type": "markdown",
   "metadata": {},
   "source": [
    "# 2.6 Intersect: \n",
    "\n",
    "Given two (singly) linked lists, determine if the two lists intersect. Return the intersecting node. Note that the intersection is defined based on reference, not value. That is, if the kth\n",
    "node of the first linked list is the exact same node (by reference) as the jth node of the second\n",
    "linked list, then they are intersecting."
   ]
  },
  {
   "cell_type": "markdown",
   "metadata": {},
   "source": [
    "#### Idea\n",
    "Given lists List_1 and List_2, n is max(len(list 1), len(list 2))\n",
    "1. O(n) - iterate through the nodes of list 1 and list 2, to get the final nodes from each. Also get the length of the lists in this step.\n",
    "2. Compare the final nodes, if the nodes differ then return False (i.e. the linked lists do not interset)\n",
    "3. iterate through the smaller list starting at index 0, and start the longer list at index (bigger - smaller). compare at each step if the nodes equal and when you meet a node that is equal return the node"
   ]
  },
  {
   "cell_type": "code",
   "execution_count": 45,
   "metadata": {},
   "outputs": [],
   "source": [
    "# Test case:\n",
    "\n",
    "L11 = Node(\"A-L1\")\n",
    "L12 = Node(\"B-L1\")\n",
    "L13 = Node(\"C-L1\")\n",
    "\n",
    "L21 = Node(\"A-L2\")\n",
    "L22 = Node(\"B-L2\")\n",
    "\n",
    "\n",
    "\n",
    "C = Node(\"C\")\n",
    "D = Node(\"D\")\n",
    "E = Node(\"E\")\n",
    "L21.next = L22\n",
    "L22.next = C\n",
    "\n",
    "\n",
    "L11.next = L12\n",
    "L12.next = L13\n",
    "L13.next = C\n",
    "C.next = D\n",
    "D.next = E"
   ]
  },
  {
   "cell_type": "code",
   "execution_count": 46,
   "metadata": {},
   "outputs": [
    {
     "name": "stdout",
     "output_type": "stream",
     "text": [
      "List 1\n",
      "\n",
      "A-L1\n",
      "B-L1\n",
      "C-L1\n",
      "C\n",
      "D\n",
      "List 2\n",
      "\n",
      "A-L2\n",
      "B-L2\n",
      "C\n",
      "D\n",
      "E\n"
     ]
    }
   ],
   "source": [
    "print(\"List 1\")\n",
    "print()\n",
    "node = L11\n",
    "for i in range(5):\n",
    "    print(node.data)\n",
    "    if node.next == None:\n",
    "        break\n",
    "    node = node.next\n",
    "    \n",
    "print(\"List 2\")\n",
    "print()\n",
    "node = L21\n",
    "for i in range(5):\n",
    "    print(node.data)\n",
    "    if node.next == None:\n",
    "        break\n",
    "    node = node.next"
   ]
  },
  {
   "cell_type": "code",
   "execution_count": 47,
   "metadata": {},
   "outputs": [
    {
     "data": {
      "text/plain": [
       "head --> A-L1 --> B-L1 --> C-L1 --> C --> D --> E --> none"
      ]
     },
     "execution_count": 47,
     "metadata": {},
     "output_type": "execute_result"
    }
   ],
   "source": [
    "first_list = LinkedList()\n",
    "first_list.head = L11\n",
    "first_list\n"
   ]
  },
  {
   "cell_type": "code",
   "execution_count": 48,
   "metadata": {},
   "outputs": [
    {
     "data": {
      "text/plain": [
       "head --> A-L2 --> B-L2 --> C --> D --> E --> none"
      ]
     },
     "execution_count": 48,
     "metadata": {},
     "output_type": "execute_result"
    }
   ],
   "source": [
    "second_list = LinkedList()\n",
    "second_list.head = L21\n",
    "second_list\n"
   ]
  },
  {
   "cell_type": "code",
   "execution_count": 49,
   "metadata": {},
   "outputs": [],
   "source": [
    "def intersect(first_list, second_list):\n",
    "    # Get the last node from both lists\n",
    "    L1_node = first_list.head\n",
    "    L1_len = 1\n",
    "    while L1_node.next != None:\n",
    "        L1_len += 1\n",
    "        L1_node = L1_node.next\n",
    "    \n",
    "    L2_node = second_list.head\n",
    "    L2_len = 1\n",
    "    while L2_node.next != None:\n",
    "        L2_len += 1\n",
    "        L2_node = L2_node.next\n",
    "        \n",
    "    if L1_node != L2_node:\n",
    "        return False, L1_len, L2_len\n",
    "    else:\n",
    "        L1_node = first_list.head\n",
    "        L2_node = second_list.head\n",
    "        if L1_len > L2_len:\n",
    "            \n",
    "            i = 0 \n",
    "            while i != L1_len - L2_len:\n",
    "                L1_node = L1_node.next\n",
    "                i += 1\n",
    "        elif L2_len > L1_len:\n",
    "            i = 0 \n",
    "            while i != L2_len - L1_len:\n",
    "                L2_node = L2_node.next\n",
    "                i += 1\n",
    "        # now we compare the nodes head to head and advance \n",
    "        # and return the first node that matches\n",
    "        while L1_node.next != None:\n",
    "            if L1_node == L2_node:\n",
    "                return L1_node\n",
    "            \n",
    "            L1_node = L1_node.next\n",
    "            L2_node = L2_node.next\n",
    "        \n",
    "\n",
    "        \n"
   ]
  },
  {
   "cell_type": "code",
   "execution_count": 50,
   "metadata": {},
   "outputs": [
    {
     "name": "stdout",
     "output_type": "stream",
     "text": [
      "C\n"
     ]
    }
   ],
   "source": [
    "print(intersect(first_list, second_list))"
   ]
  },
  {
   "cell_type": "markdown",
   "metadata": {},
   "source": [
    "# 2.6 Find first element in loop\n",
    "\n",
    "Given two (singly) linked lists, determine if the two lists intersect. Return the intersecting node. Note that the intersection is defined based on reference, not value. That is, if the kth\n",
    "node of the first linked list is the exact same node (by reference) as the jth node of the second\n",
    "linked list, then they are intersecting."
   ]
  },
  {
   "cell_type": "code",
   "execution_count": 51,
   "metadata": {},
   "outputs": [],
   "source": [
    "def collision_node(llist):\n",
    "    # Assume llist has a loop\n",
    "    slow = llist.head \n",
    "    fast = slow.next\n",
    "    \n",
    "    while True:\n",
    "        slow = slow.next\n",
    "        fast = fast.next.next\n",
    "        if slow == fast:\n",
    "            return slow\n",
    "        \n",
    "        \n",
    "def first_in_loop(llist):\n",
    "    collision = collision_node(llist)\n",
    "    collision = collision = collision.next\n",
    "    node = llist.head\n",
    "    while True:\n",
    "        if node == collision:\n",
    "            return node\n",
    "        node = node.next\n",
    "        collision = collision.next\n"
   ]
  },
  {
   "cell_type": "code",
   "execution_count": 52,
   "metadata": {},
   "outputs": [],
   "source": [
    "A = Node(\"A\")\n",
    "B = Node(\"B\")\n",
    "C = Node(\"C\")\n",
    "D = Node(\"D\")\n",
    "E = Node(\"E\")\n",
    "F = Node(\"F\")\n",
    "G = Node(\"G\")\n",
    "A.next = B\n",
    "B.next = C\n",
    "C.next = D\n",
    "D.next = E\n",
    "E.next = F\n",
    "F.next = G\n",
    "G.next = B"
   ]
  },
  {
   "cell_type": "code",
   "execution_count": 53,
   "metadata": {},
   "outputs": [],
   "source": [
    "llist = LinkedList()\n",
    "llist.head = A"
   ]
  },
  {
   "cell_type": "code",
   "execution_count": 54,
   "metadata": {},
   "outputs": [],
   "source": [
    "# collision_node(llist)"
   ]
  },
  {
   "cell_type": "code",
   "execution_count": 55,
   "metadata": {},
   "outputs": [
    {
     "data": {
      "text/plain": [
       "B"
      ]
     },
     "execution_count": 55,
     "metadata": {},
     "output_type": "execute_result"
    }
   ],
   "source": [
    "first_in_loop(llist)"
   ]
  },
  {
   "cell_type": "code",
   "execution_count": null,
   "metadata": {},
   "outputs": [],
   "source": []
  }
 ],
 "metadata": {
  "kernelspec": {
   "display_name": "Python 3",
   "language": "python",
   "name": "python3"
  },
  "language_info": {
   "codemirror_mode": {
    "name": "ipython",
    "version": 3
   },
   "file_extension": ".py",
   "mimetype": "text/x-python",
   "name": "python",
   "nbconvert_exporter": "python",
   "pygments_lexer": "ipython3",
   "version": "3.8.2"
  },
  "varInspector": {
   "cols": {
    "lenName": 16,
    "lenType": 16,
    "lenVar": 40
   },
   "kernels_config": {
    "python": {
     "delete_cmd_postfix": "",
     "delete_cmd_prefix": "del ",
     "library": "var_list.py",
     "varRefreshCmd": "print(var_dic_list())"
    },
    "r": {
     "delete_cmd_postfix": ") ",
     "delete_cmd_prefix": "rm(",
     "library": "var_list.r",
     "varRefreshCmd": "cat(var_dic_list()) "
    }
   },
   "types_to_exclude": [
    "module",
    "function",
    "builtin_function_or_method",
    "instance",
    "_Feature"
   ],
   "window_display": false
  }
 },
 "nbformat": 4,
 "nbformat_minor": 4
}
