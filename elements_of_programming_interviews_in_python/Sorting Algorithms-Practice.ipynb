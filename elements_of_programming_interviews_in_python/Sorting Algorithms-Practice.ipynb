{
 "cells": [
  {
   "cell_type": "markdown",
   "metadata": {},
   "source": [
    "### Bubble Sort: \"Bubble up\" the largest element to the end\n",
    "___"
   ]
  },
  {
   "cell_type": "markdown",
   "metadata": {},
   "source": [
    "<img src=\"images/bubble_sort.gif\">"
   ]
  },
  {
   "cell_type": "code",
   "execution_count": 1,
   "metadata": {},
   "outputs": [],
   "source": [
    "def bubble_sort(L):\n",
    "    n = len(L)\n",
    "    \n",
    "    for i in range(n):\n",
    "        for j in range(0,n - 1 - i):\n",
    "            if L[j+1] < L[j]:\n",
    "                L[j+1], L[j] = L[j], L[j+1]\n",
    "\n",
    "    return L"
   ]
  },
  {
   "cell_type": "code",
   "execution_count": 2,
   "metadata": {},
   "outputs": [
    {
     "data": {
      "text/plain": [
       "[1, 2, 3, 4, 5, 6]"
      ]
     },
     "execution_count": 2,
     "metadata": {},
     "output_type": "execute_result"
    }
   ],
   "source": [
    "L = [4,5,6,2,3,1]\n",
    "bubble_sort(L)"
   ]
  },
  {
   "cell_type": "markdown",
   "metadata": {},
   "source": [
    "### Selection Sort: Find smallest element and move it to the front\n",
    "___"
   ]
  },
  {
   "cell_type": "markdown",
   "metadata": {},
   "source": [
    "<img src=\"images/selection_sort.gif\">"
   ]
  },
  {
   "cell_type": "code",
   "execution_count": 3,
   "metadata": {},
   "outputs": [],
   "source": [
    "def selection_sort(L):\n",
    "    n = len(L)\n",
    "    for i in range(n-1):\n",
    "        current_min = i\n",
    "        for j in range(i+1,n):\n",
    "            if L[j] < L[current_min]:\n",
    "                current_min = j\n",
    "        # swap i and current min\n",
    "        L[i], L[current_min] = L[current_min], L[i]\n",
    "\n",
    "    return L"
   ]
  },
  {
   "cell_type": "code",
   "execution_count": 4,
   "metadata": {},
   "outputs": [
    {
     "data": {
      "text/plain": [
       "[1, 2, 3, 4, 5, 6]"
      ]
     },
     "execution_count": 4,
     "metadata": {},
     "output_type": "execute_result"
    }
   ],
   "source": [
    "L = [4,5,6,2,3,1]\n",
    "selection_sort(L)"
   ]
  },
  {
   "cell_type": "markdown",
   "metadata": {},
   "source": [
    "### Insertion Sort: insert element into the sorted part at the beginning\n",
    "___"
   ]
  },
  {
   "cell_type": "markdown",
   "metadata": {},
   "source": [
    "<img src=\"images/insertion_sort.gif\">"
   ]
  },
  {
   "cell_type": "code",
   "execution_count": 5,
   "metadata": {},
   "outputs": [
    {
     "name": "stdout",
     "output_type": "stream",
     "text": [
      "2\n",
      "1\n",
      "0\n"
     ]
    }
   ],
   "source": [
    "for i in reversed(range(3)):\n",
    "    print(i)"
   ]
  },
  {
   "cell_type": "code",
   "execution_count": 6,
   "metadata": {},
   "outputs": [],
   "source": [
    "def insertion_sort(L):\n",
    "    n = len(L)\n",
    "\n",
    "    return L"
   ]
  },
  {
   "cell_type": "code",
   "execution_count": 7,
   "metadata": {},
   "outputs": [
    {
     "data": {
      "text/plain": [
       "[4, 5, 6, 2, 3, 1]"
      ]
     },
     "execution_count": 7,
     "metadata": {},
     "output_type": "execute_result"
    }
   ],
   "source": [
    "L = [4,5,6,2,3,1]\n",
    "insertion_sort(L)"
   ]
  },
  {
   "cell_type": "code",
   "execution_count": 8,
   "metadata": {},
   "outputs": [],
   "source": [
    "def insertion_sort_while(L):  \n",
    "    n = len(L)\n",
    "    for i in range(n - 1):\n",
    "        k = i + 1\n",
    "        while L[k] < L[k - 1] and k > 0:\n",
    "            # swap\n",
    "            L[k], L[k-1] = L[k-1], L[k]\n",
    "            k -= 1\n",
    "    return L"
   ]
  },
  {
   "cell_type": "code",
   "execution_count": 9,
   "metadata": {},
   "outputs": [
    {
     "data": {
      "text/plain": [
       "[1, 2, 3, 4, 5, 6]"
      ]
     },
     "execution_count": 9,
     "metadata": {},
     "output_type": "execute_result"
    }
   ],
   "source": [
    "L = [4,5,6,2,3,1]\n",
    "insertion_sort_while(L)"
   ]
  },
  {
   "cell_type": "markdown",
   "metadata": {},
   "source": [
    "### Quicksort\n",
    "___"
   ]
  },
  {
   "cell_type": "markdown",
   "metadata": {},
   "source": [
    "<img src=\"images/quick_sort.gif\">"
   ]
  },
  {
   "cell_type": "code",
   "execution_count": 10,
   "metadata": {},
   "outputs": [],
   "source": [
    "def partition(L, start, end):\n",
    "    pivot = L[start]\n",
    "    L_ind = start + 1\n",
    "    R_ind = end\n",
    "    while True:\n",
    "        # if the value and L_ind is smaller than pivot, then it is in the right place, so we move L_ind up\n",
    "        while L[L_ind] < pivot and L_ind <= R_ind:\n",
    "            L_ind += 1\n",
    "            \n",
    "        while L[R_ind] > pivot and L_ind <= R_ind:\n",
    "            R_ind -= 1\n",
    "        \n",
    "        if L_ind < R_ind:\n",
    "            \n",
    "            L[L_ind], L[R_ind] = L[R_ind], L[L_ind]\n",
    "            # the loop goes to next iteration\n",
    "        else: \n",
    "            break\n",
    "        \n",
    "   \n",
    "    L[R_ind], L[start] = L[start], L[R_ind]\n",
    "           \n",
    "    return R_ind"
   ]
  },
  {
   "cell_type": "code",
   "execution_count": 11,
   "metadata": {},
   "outputs": [
    {
     "data": {
      "text/plain": [
       "2"
      ]
     },
     "execution_count": 11,
     "metadata": {},
     "output_type": "execute_result"
    }
   ],
   "source": [
    "L = [3, 4, 1, 5, 2, 6]\n",
    "partition(L, 0, 5)"
   ]
  },
  {
   "cell_type": "code",
   "execution_count": 12,
   "metadata": {},
   "outputs": [],
   "source": [
    "def quick_sort(L, start, end):\n",
    "    \n",
    "    if start >= end:\n",
    "        return\n",
    "    \n",
    "    p = partition(L, start, end)\n",
    "    quick_sort(L, p + 1, end)\n",
    "    quick_sort(L, start, p - 1)\n",
    "    \n"
   ]
  },
  {
   "cell_type": "code",
   "execution_count": 13,
   "metadata": {},
   "outputs": [
    {
     "data": {
      "text/plain": [
       "[1, 2, 3, 4, 5, 6, 7, 8, 9, 10, 11]"
      ]
     },
     "execution_count": 13,
     "metadata": {},
     "output_type": "execute_result"
    }
   ],
   "source": [
    "L = [7, 5, 6, 3, 2, 4, 1, 9, 10, 8, 11]\n",
    "quick_sort(L, 0,  len(L) - 1)\n",
    "L"
   ]
  },
  {
   "cell_type": "markdown",
   "metadata": {},
   "source": [
    "### Mergesort\n",
    "___"
   ]
  },
  {
   "cell_type": "markdown",
   "metadata": {},
   "source": [
    "<img src=\"images/merge_sort.gif\">"
   ]
  },
  {
   "cell_type": "code",
   "execution_count": 14,
   "metadata": {},
   "outputs": [],
   "source": [
    "def merge(L, R, A):\n",
    "    # get lengths of lists\n",
    "    L_len = len(L)\n",
    "    R_len = len(R)\n",
    "    \n",
    "    # set beginning indexes to be 0\n",
    "    L_ind = 0\n",
    "    R_ind = 0\n",
    "    \n",
    "    # Initialize result list\n",
    "    i = 0\n",
    "    # build the output list up the exhaustion of one (or both) of the lists\n",
    "    while L_ind < L_len and R_ind < R_len:\n",
    "        if L[L_ind] <= R[R_ind]:\n",
    "            A[i] = L[L_ind]\n",
    "            L_ind +=1\n",
    "        elif  L[L_ind] > R[R_ind]:\n",
    "            A[i] = R[R_ind]\n",
    "            R_ind +=1\n",
    "        i += 1\n",
    "        \n",
    "    while L_ind < L_len:\n",
    "        A[i] = L[L_ind]\n",
    "        L_ind +=1\n",
    "        i += 1\n",
    "\n",
    "    while R_ind < R_len:\n",
    "        A[i] = R[R_ind]\n",
    "        R_ind +=1    \n",
    "        i += 1\n",
    "    \n",
    "    return A"
   ]
  },
  {
   "cell_type": "code",
   "execution_count": 15,
   "metadata": {},
   "outputs": [
    {
     "name": "stdout",
     "output_type": "stream",
     "text": [
      "Should be [1, 2, 3, 4, 5, 6, 7, 8, 9, 10, 11, 12]\n"
     ]
    },
    {
     "data": {
      "text/plain": [
       "[1, 2, 3, 4, 5, 6, 7, 8, 9, 10, 11, 12]"
      ]
     },
     "execution_count": 15,
     "metadata": {},
     "output_type": "execute_result"
    }
   ],
   "source": [
    "L = [1, 2, 4, 6, 10, 11, 12]\n",
    "R = [3, 5, 7, 8, 9]\n",
    "print(\"Should be\", sorted(L + R))\n",
    "merge(L, R, L + R)"
   ]
  },
  {
   "cell_type": "code",
   "execution_count": 16,
   "metadata": {},
   "outputs": [
    {
     "name": "stdout",
     "output_type": "stream",
     "text": [
      "Should be [3, 4]\n"
     ]
    },
    {
     "data": {
      "text/plain": [
       "[3, 4]"
      ]
     },
     "execution_count": 16,
     "metadata": {},
     "output_type": "execute_result"
    }
   ],
   "source": [
    "L = [4]\n",
    "R = [3]\n",
    "print(\"Should be\", sorted(L + R))\n",
    "merge(L, R, L + R)"
   ]
  },
  {
   "cell_type": "code",
   "execution_count": 17,
   "metadata": {},
   "outputs": [
    {
     "name": "stdout",
     "output_type": "stream",
     "text": [
      "Should be [3, 4]\n"
     ]
    },
    {
     "data": {
      "text/plain": [
       "[3, 4]"
      ]
     },
     "execution_count": 17,
     "metadata": {},
     "output_type": "execute_result"
    }
   ],
   "source": [
    "L = [3]\n",
    "R = [4]\n",
    "print(\"Should be\", sorted(L + R))\n",
    "merge(L, R, L + R)"
   ]
  },
  {
   "cell_type": "code",
   "execution_count": 28,
   "metadata": {
    "code_folding": []
   },
   "outputs": [],
   "source": [
    "def merge_sort(L):\n",
    "    # get length\n",
    "    n = len(L)\n",
    "\n",
    "    if n < 2:\n",
    "        # base case\n",
    "        return \n",
    "    \n",
    "    else:\n",
    "        # recursive case\n",
    "        # split L into left and right lists and recurse\n",
    "        mid = n // 2\n",
    "        left = L[:mid]\n",
    "        right = L[mid:]\n",
    "        merge_sort(left)\n",
    "        merge_sort(right)\n",
    "        merge(left, right, L)\n",
    "        \n",
    "    return L"
   ]
  },
  {
   "cell_type": "code",
   "execution_count": 29,
   "metadata": {},
   "outputs": [
    {
     "data": {
      "text/plain": [
       "[1, 2, 3, 4, 5, 6, 7, 8, 9, 10, 11]"
      ]
     },
     "execution_count": 29,
     "metadata": {},
     "output_type": "execute_result"
    }
   ],
   "source": [
    "L = [7, 5, 6, 3, 2, 4, 1, 9, 10, 8, 11]\n",
    "merge_sort(L)\n",
    "L"
   ]
  },
  {
   "cell_type": "code",
   "execution_count": null,
   "metadata": {},
   "outputs": [],
   "source": []
  }
 ],
 "metadata": {
  "kernelspec": {
   "display_name": "Python 3",
   "language": "python",
   "name": "python3"
  },
  "language_info": {
   "codemirror_mode": {
    "name": "ipython",
    "version": 3
   },
   "file_extension": ".py",
   "mimetype": "text/x-python",
   "name": "python",
   "nbconvert_exporter": "python",
   "pygments_lexer": "ipython3",
   "version": "3.8.2"
  },
  "varInspector": {
   "cols": {
    "lenName": 16,
    "lenType": 16,
    "lenVar": 40
   },
   "kernels_config": {
    "python": {
     "delete_cmd_postfix": "",
     "delete_cmd_prefix": "del ",
     "library": "var_list.py",
     "varRefreshCmd": "print(var_dic_list())"
    },
    "r": {
     "delete_cmd_postfix": ") ",
     "delete_cmd_prefix": "rm(",
     "library": "var_list.r",
     "varRefreshCmd": "cat(var_dic_list()) "
    }
   },
   "types_to_exclude": [
    "module",
    "function",
    "builtin_function_or_method",
    "instance",
    "_Feature"
   ],
   "window_display": false
  }
 },
 "nbformat": 4,
 "nbformat_minor": 4
}
