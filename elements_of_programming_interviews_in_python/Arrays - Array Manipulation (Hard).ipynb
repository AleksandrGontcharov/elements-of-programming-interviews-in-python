{
 "cells": [
  {
   "cell_type": "markdown",
   "metadata": {},
   "source": [
    "### Steps:\n",
    " 1. Understand the problem\n",
    " 2. Sketch a solution with pen and paper - think of test cases\n",
    " 3. Write test cases in order of complexity\n",
    " 4. Iterate to think of the solution"
   ]
  },
  {
   "cell_type": "markdown",
   "metadata": {},
   "source": [
    "### Function - Brute Force Approach\n",
    "___"
   ]
  },
  {
   "cell_type": "code",
   "execution_count": 94,
   "metadata": {},
   "outputs": [],
   "source": [
    "def arrayManipulation(n, queries):\n",
    "\n",
    "    # Create initial list of zeroes\n",
    "    lst = [0] * n\n",
    "\n",
    "    # loop through queries\n",
    "    for query in queries:\n",
    "        lower_bound = query[0]\n",
    "        upper_bound = query[1]\n",
    "        summand = query[2]\n",
    "        for index, value in enumerate(lst):\n",
    "            if index >= lower_bound - 1 and index <= upper_bound - 1:\n",
    "                lst[index] += summand\n",
    "\n",
    "    return max(lst)"
   ]
  },
  {
   "cell_type": "markdown",
   "metadata": {},
   "source": [
    "### Test\n",
    "___"
   ]
  },
  {
   "cell_type": "code",
   "execution_count": 95,
   "metadata": {},
   "outputs": [
    {
     "name": "stdout",
     "output_type": "stream",
     "text": [
      "should be 10\n"
     ]
    },
    {
     "data": {
      "text/plain": [
       "10"
      ]
     },
     "execution_count": 95,
     "metadata": {},
     "output_type": "execute_result"
    }
   ],
   "source": [
    "queries = [[1,5,3],\n",
    "          [4,8,7],\n",
    "          [6,9,1]]\n",
    "n = 10\n",
    "print(\"should be 10\")\n",
    "arrayManipulation(n, queries)"
   ]
  },
  {
   "cell_type": "code",
   "execution_count": null,
   "metadata": {},
   "outputs": [],
   "source": []
  },
  {
   "cell_type": "markdown",
   "metadata": {},
   "source": [
    "### Function - Alternative Approach\n",
    "___"
   ]
  },
  {
   "cell_type": "code",
   "execution_count": 156,
   "metadata": {},
   "outputs": [
    {
     "data": {
      "text/plain": [
       "[2, 3, 4]"
      ]
     },
     "execution_count": 156,
     "metadata": {},
     "output_type": "execute_result"
    }
   ],
   "source": [
    "[[1,2,3][i] + [1,1,1][i] for i in range(3)]"
   ]
  },
  {
   "cell_type": "code",
   "execution_count": 244,
   "metadata": {},
   "outputs": [],
   "source": [
    "# bubble sort them:\n",
    "def bubble_sort(L):\n",
    "    n = len(L)\n",
    "    for i in range(n-1):\n",
    "        # Check if i'th element is bigger than the next\n",
    "        for j in range(0, n-i-1):\n",
    "            if L[j][1] > L[j+1][1]:\n",
    "                # Swap\n",
    "                L[j], L[j+1] = L[j+1], L[j]\n",
    "    return L\n",
    "\n",
    "def arrayManipulation(n, queries):\n",
    "\n",
    "    # Create initial list of subdivisions\n",
    "    \n",
    "    subdivisions = [[0, 1, 0], [0, n, 0]]\n",
    "    \n",
    "    list_of_bounds = [1,n]\n",
    "\n",
    "    # loop through queries\n",
    "    for query in queries:\n",
    "        lower_bound = query[0]\n",
    "        upper_bound = query[1]\n",
    "        list_of_bounds.append(lower_bound)\n",
    "        list_of_bounds.append(upper_bound)\n",
    "        \n",
    "        list_of_bounds = list(set(list_of_bounds))\n",
    "        \n",
    "        summand = query[2]\n",
    "        \n",
    "        subdivisions.append([0,lower_bound,summand ])\n",
    "        subdivisions.append([summand ,upper_bound,0])\n",
    "        \n",
    "        subdivisions = bubble_sort(subdivisions)\n",
    "        print(\"before cleanup\", subdivisions)\n",
    "        # 2 step clean up\n",
    "        \n",
    "        # step 1 is to combine any any similar subdivisions: i.e. [0,1,0] and [0,1,1] are present, then add them to get [0,1,1]\n",
    "        new_subdivisions = []\n",
    "        for bound in list_of_bounds:\n",
    "            sublist_of_triples = []\n",
    "            for item in subdivisions:\n",
    "                if item[1] == bound:\n",
    "                    sublist_of_triples.append(item)\n",
    "            if len(sublist_of_triples) == 2:\n",
    "                new_item_0 = sublist_of_triples[0][0] + sublist_of_triples[1][0]\n",
    "                new_item_1 = bound\n",
    "                new_item_2 = sublist_of_triples[0][2] + sublist_of_triples[1][2]\n",
    "                \n",
    "                new_item = [new_item_0,new_item_1,new_item_2]\n",
    "            elif len(sublist_of_triples) == 1:\n",
    "                new_item = sublist_of_triples[0]\n",
    "            new_subdivisions.append(new_item)\n",
    "            \n",
    "        subdivisions = new_subdivisions\n",
    "        subdivisions = bubble_sort(subdivisions)\n",
    "        print(\"after combine\", subdivisions)\n",
    "        # Step 2 is to clean up the subdivisions\n",
    "        n = len(subdivisions)\n",
    "        # add up the numbers\n",
    "\n",
    "\n",
    "\n",
    "        for i in range(0, n-1):\n",
    "            lower_half = subdivisions[i][2]\n",
    "            upper_half = subdivisions[i+1][0]\n",
    "            sum_of_ints = lower_half + upper_half\n",
    "            if lower_half != 0 and upper_half != 0:\n",
    "                if subdivisions[i][0] + subdivisions[i-1][2]:\n",
    "                    continue\n",
    "                new_sum = subdivisions[i][2] + subdivisions[i-1][2]\n",
    "                subdivisions[i][2] = new_sum\n",
    "                subdivisions[i+1][0] = new_sum\n",
    "            else:\n",
    "                subdivisions[i][2] = sum_of_ints\n",
    "                subdivisions[i+1][0] = sum_of_ints\n",
    "        print(\"after cleanup\", subdivisions)\n",
    "        print()\n",
    "        \n",
    "        \n",
    "    subdivisions = bubble_sort(subdivisions)\n",
    "\n",
    "    result = 0\n",
    "    for item in subdivisions:\n",
    "        first = item[0]\n",
    "        second = item[2]\n",
    "        result = max(first, second, result)\n",
    "        \n",
    "\n",
    "    return result"
   ]
  },
  {
   "cell_type": "code",
   "execution_count": 245,
   "metadata": {},
   "outputs": [
    {
     "data": {
      "text/plain": [
       "[1, 2]"
      ]
     },
     "execution_count": 245,
     "metadata": {},
     "output_type": "execute_result"
    }
   ],
   "source": [
    "list(set([1,1,2]))"
   ]
  },
  {
   "cell_type": "markdown",
   "metadata": {},
   "source": [
    "### Test\n",
    "___"
   ]
  },
  {
   "cell_type": "code",
   "execution_count": 246,
   "metadata": {},
   "outputs": [
    {
     "data": {
      "text/plain": [
       "[[0, 1, 3], [0, 1, 3], [3, 5, 0], [0, 10, 0]]"
      ]
     },
     "execution_count": 246,
     "metadata": {},
     "output_type": "execute_result"
    }
   ],
   "source": [
    "[[0, 1, 3], [0, 1, 3], [3, 5, 0], [0, 10, 0]]"
   ]
  },
  {
   "cell_type": "code",
   "execution_count": 247,
   "metadata": {},
   "outputs": [
    {
     "name": "stdout",
     "output_type": "stream",
     "text": [
      "should be 10\n",
      "before cleanup [[0, 1, 0], [0, 1, 3], [3, 5, 0], [0, 10, 0]]\n",
      "after combine [[0, 1, 3], [3, 5, 0], [0, 10, 0]]\n",
      "after cleanup [[0, 1, 3], [3, 5, 0], [0, 10, 0]]\n",
      "\n",
      "before cleanup [[0, 1, 3], [0, 4, 7], [3, 5, 0], [7, 8, 0], [0, 10, 0]]\n",
      "after combine [[0, 1, 3], [0, 4, 7], [3, 5, 0], [7, 8, 0], [0, 10, 0]]\n",
      "after cleanup [[0, 1, 3], [3, 4, 7], [3, 5, 7], [7, 8, 0], [0, 10, 0]]\n",
      "\n",
      "before cleanup [[0, 1, 3], [3, 4, 7], [3, 5, 7], [0, 6, 1], [7, 8, 0], [1, 9, 0], [0, 10, 0]]\n",
      "after combine [[0, 1, 3], [3, 4, 7], [3, 5, 7], [0, 6, 1], [7, 8, 0], [1, 9, 0], [0, 10, 0]]\n",
      "after cleanup [[0, 1, 3], [3, 4, 7], [3, 5, 7], [7, 6, 1], [7, 8, 1], [1, 9, 0], [0, 10, 0]]\n",
      "\n"
     ]
    },
    {
     "data": {
      "text/plain": [
       "7"
      ]
     },
     "execution_count": 247,
     "metadata": {},
     "output_type": "execute_result"
    }
   ],
   "source": [
    "queries = [[1,5,3],\n",
    "          [4,8,7],\n",
    "          [6,9,1]]\n",
    "n = 10\n",
    "print(\"should be 10\")\n",
    "arrayManipulation(n, queries)"
   ]
  },
  {
   "cell_type": "code",
   "execution_count": 251,
   "metadata": {},
   "outputs": [
    {
     "name": "stdout",
     "output_type": "stream",
     "text": [
      "should be 31\n",
      "before cleanup [[0, 1, 0], [0, 2, 8], [8, 6, 0], [0, 10, 0]]\n",
      "after combine [[0, 1, 0], [0, 2, 8], [8, 6, 0], [0, 10, 0]]\n",
      "after cleanup [[0, 1, 0], [0, 2, 8], [8, 6, 0], [0, 10, 0]]\n",
      "\n",
      "before cleanup [[0, 1, 0], [0, 2, 8], [0, 3, 7], [7, 5, 0], [8, 6, 0], [0, 10, 0]]\n",
      "after combine [[0, 1, 0], [0, 2, 8], [0, 3, 7], [7, 5, 0], [8, 6, 0], [0, 10, 0]]\n",
      "after cleanup [[0, 1, 0], [0, 2, 8], [8, 3, 7], [7, 5, 8], [8, 6, 0], [0, 10, 0]]\n",
      "\n",
      "before cleanup [[0, 1, 0], [0, 1, 1], [0, 2, 8], [8, 3, 7], [7, 5, 8], [8, 6, 0], [1, 8, 0], [0, 10, 0]]\n",
      "after combine [[0, 1, 1], [0, 2, 8], [8, 3, 7], [7, 5, 8], [8, 6, 0], [1, 8, 0], [0, 10, 0]]\n",
      "after cleanup [[0, 1, 1], [1, 2, 8], [8, 3, 7], [7, 5, 8], [8, 6, 1], [1, 8, 0], [0, 10, 0]]\n",
      "\n"
     ]
    },
    {
     "data": {
      "text/plain": [
       "8"
      ]
     },
     "execution_count": 251,
     "metadata": {},
     "output_type": "execute_result"
    }
   ],
   "source": [
    "queries = [[2,6,8],\n",
    "          [3,5,7],\n",
    "          [1,8,1]]\n",
    "n = 10\n",
    "print(\"should be 31\")\n",
    "arrayManipulation(n, queries)"
   ]
  },
  {
   "cell_type": "code",
   "execution_count": 284,
   "metadata": {},
   "outputs": [
    {
     "name": "stdout",
     "output_type": "stream",
     "text": [
      "should be 31\n"
     ]
    },
    {
     "ename": "TypeError",
     "evalue": "'>' not supported between instances of 'list' and 'int'",
     "output_type": "error",
     "traceback": [
      "\u001b[1;31m---------------------------------------------------------------------------\u001b[0m",
      "\u001b[1;31mTypeError\u001b[0m                                 Traceback (most recent call last)",
      "\u001b[1;32m<ipython-input-284-b102174ceec2>\u001b[0m in \u001b[0;36m<module>\u001b[1;34m\u001b[0m\n\u001b[0;32m      5\u001b[0m \u001b[0mn\u001b[0m \u001b[1;33m=\u001b[0m \u001b[1;36m10\u001b[0m\u001b[1;33m\u001b[0m\u001b[1;33m\u001b[0m\u001b[0m\n\u001b[0;32m      6\u001b[0m \u001b[0mprint\u001b[0m\u001b[1;33m(\u001b[0m\u001b[1;34m\"should be 31\"\u001b[0m\u001b[1;33m)\u001b[0m\u001b[1;33m\u001b[0m\u001b[1;33m\u001b[0m\u001b[0m\n\u001b[1;32m----> 7\u001b[1;33m \u001b[0marrayManipulation\u001b[0m\u001b[1;33m(\u001b[0m\u001b[0mn\u001b[0m\u001b[1;33m,\u001b[0m \u001b[0mqueries\u001b[0m\u001b[1;33m)\u001b[0m\u001b[1;33m\u001b[0m\u001b[1;33m\u001b[0m\u001b[0m\n\u001b[0m",
      "\u001b[1;32m<ipython-input-283-61e98e6dfa7a>\u001b[0m in \u001b[0;36marrayManipulation\u001b[1;34m(n, queries)\u001b[0m\n\u001b[0;32m     44\u001b[0m         \u001b[1;32melse\u001b[0m\u001b[1;33m:\u001b[0m\u001b[1;33m\u001b[0m\u001b[1;33m\u001b[0m\u001b[0m\n\u001b[0;32m     45\u001b[0m             \u001b[1;31m# need to make starter pivot then add summand\u001b[0m\u001b[1;33m\u001b[0m\u001b[1;33m\u001b[0m\u001b[1;33m\u001b[0m\u001b[0m\n\u001b[1;32m---> 46\u001b[1;33m             \u001b[0mnew_lower_pivot\u001b[0m \u001b[1;33m=\u001b[0m \u001b[1;33m[\u001b[0m\u001b[0mmaximal_element_smaller\u001b[0m\u001b[1;33m(\u001b[0m\u001b[0mlower_bound\u001b[0m\u001b[1;33m,\u001b[0m \u001b[0msubdivisions\u001b[0m\u001b[1;33m)\u001b[0m\u001b[1;33m,\u001b[0m \u001b[0mlower_bound\u001b[0m\u001b[1;33m,\u001b[0m \u001b[0mminimal_element_larger\u001b[0m\u001b[1;33m(\u001b[0m\u001b[0mlower_bound\u001b[0m\u001b[1;33m,\u001b[0m \u001b[0msubdivisions\u001b[0m\u001b[1;33m)\u001b[0m\u001b[1;33m]\u001b[0m\u001b[1;33m\u001b[0m\u001b[1;33m\u001b[0m\u001b[0m\n\u001b[0m\u001b[0;32m     47\u001b[0m \u001b[1;33m\u001b[0m\u001b[0m\n\u001b[0;32m     48\u001b[0m         \u001b[1;32mif\u001b[0m \u001b[0mupper_bound_is_in_list\u001b[0m\u001b[1;33m:\u001b[0m\u001b[1;33m\u001b[0m\u001b[1;33m\u001b[0m\u001b[0m\n",
      "\u001b[1;32m<ipython-input-277-949ad4a28197>\u001b[0m in \u001b[0;36mmaximal_element_smaller\u001b[1;34m(number, L)\u001b[0m\n\u001b[0;32m      3\u001b[0m     \u001b[0mresult\u001b[0m \u001b[1;33m=\u001b[0m \u001b[0mL\u001b[0m\u001b[1;33m[\u001b[0m\u001b[1;36m0\u001b[0m\u001b[1;33m]\u001b[0m\u001b[1;33m\u001b[0m\u001b[1;33m\u001b[0m\u001b[0m\n\u001b[0;32m      4\u001b[0m     \u001b[1;32mfor\u001b[0m \u001b[0mi\u001b[0m\u001b[1;33m,\u001b[0m \u001b[0mitem\u001b[0m \u001b[1;32min\u001b[0m \u001b[0menumerate\u001b[0m\u001b[1;33m(\u001b[0m\u001b[0mL\u001b[0m\u001b[1;33m)\u001b[0m\u001b[1;33m:\u001b[0m\u001b[1;33m\u001b[0m\u001b[1;33m\u001b[0m\u001b[0m\n\u001b[1;32m----> 5\u001b[1;33m         \u001b[1;32mif\u001b[0m \u001b[0mL\u001b[0m\u001b[1;33m[\u001b[0m\u001b[0mi\u001b[0m\u001b[1;33m]\u001b[0m \u001b[1;33m>\u001b[0m \u001b[0mnumber\u001b[0m\u001b[1;33m:\u001b[0m\u001b[1;33m\u001b[0m\u001b[1;33m\u001b[0m\u001b[0m\n\u001b[0m\u001b[0;32m      6\u001b[0m             \u001b[1;32mreturn\u001b[0m \u001b[0mL\u001b[0m\u001b[1;33m[\u001b[0m\u001b[0mi\u001b[0m \u001b[1;33m-\u001b[0m \u001b[1;36m1\u001b[0m\u001b[1;33m]\u001b[0m\u001b[1;33m\u001b[0m\u001b[1;33m\u001b[0m\u001b[0m\n\u001b[0;32m      7\u001b[0m     \u001b[1;32mreturn\u001b[0m \u001b[1;36m0\u001b[0m\u001b[1;33m\u001b[0m\u001b[1;33m\u001b[0m\u001b[0m\n",
      "\u001b[1;31mTypeError\u001b[0m: '>' not supported between instances of 'list' and 'int'"
     ]
    }
   ],
   "source": [
    "queries = [[2,6,8],\n",
    "           [1,8,1],\n",
    "          [3,5,7],\n",
    "          [5,9,15]]\n",
    "n = 10\n",
    "print(\"should be 31\")\n",
    "arrayManipulation(n, queries)"
   ]
  },
  {
   "cell_type": "code",
   "execution_count": 253,
   "metadata": {},
   "outputs": [
    {
     "name": "stdout",
     "output_type": "stream",
     "text": [
      "should be ?\n"
     ]
    },
    {
     "data": {
      "text/plain": [
       "0"
      ]
     },
     "execution_count": 253,
     "metadata": {},
     "output_type": "execute_result"
    }
   ],
   "source": [
    "queries = [[2,6,8],\n",
    "          [3,5,7]]\n",
    "n = 10\n",
    "print(\"should be ?\")\n",
    "arrayManipulation(n, queries)"
   ]
  },
  {
   "cell_type": "markdown",
   "metadata": {},
   "source": [
    "### One final try - I will get it"
   ]
  },
  {
   "cell_type": "code",
   "execution_count": 293,
   "metadata": {},
   "outputs": [],
   "source": [
    "\n",
    "\n",
    "def maximal_element_smaller(number, L):\n",
    "    L = bubble_sort(L)\n",
    "    result = L[0][1]\n",
    "    for i, item in enumerate(L):\n",
    "        if L[i][1] > number:\n",
    "            return L[i - 1][1]\n",
    "    return 0"
   ]
  },
  {
   "cell_type": "code",
   "execution_count": 298,
   "metadata": {},
   "outputs": [
    {
     "data": {
      "text/plain": [
       "4"
      ]
     },
     "execution_count": 298,
     "metadata": {},
     "output_type": "execute_result"
    }
   ],
   "source": [
    "L = [1,2,3,4,10,14,90]\n",
    "L = [[0,item,0] for item in L]\n",
    "number = 7\n",
    "\n",
    "maximal_element_smaller(number, L)"
   ]
  },
  {
   "cell_type": "code",
   "execution_count": 300,
   "metadata": {},
   "outputs": [],
   "source": [
    "\n",
    "\n",
    "def minimal_element_larger(number, L):\n",
    "    L = bubble_sort(L)\n",
    "    result = L[0][1]\n",
    "    for i, item in enumerate(L):\n",
    "        if L[i][1] > number:\n",
    "            return L[i][1]\n",
    "    return 0"
   ]
  },
  {
   "cell_type": "code",
   "execution_count": 302,
   "metadata": {},
   "outputs": [
    {
     "data": {
      "text/plain": [
       "10"
      ]
     },
     "execution_count": 302,
     "metadata": {},
     "output_type": "execute_result"
    }
   ],
   "source": [
    "L = [1,2,3,4,10,14,90]\n",
    "L = [[0,item,0] for item in L]\n",
    "number = 7\n",
    "\n",
    "minimal_element_larger(number, L)\n"
   ]
  },
  {
   "cell_type": "code",
   "execution_count": null,
   "metadata": {},
   "outputs": [],
   "source": []
  },
  {
   "cell_type": "code",
   "execution_count": 376,
   "metadata": {},
   "outputs": [],
   "source": [
    "def maximal_element_smaller(number, L):\n",
    "    L = bubble_sort(L)\n",
    "    result = L[0][1]\n",
    "    for i, item in enumerate(L):\n",
    "        if L[i][1] > number:\n",
    "            return L[i - 1][1]\n",
    "    return 0\n",
    "\n",
    "def minimal_element_larger(number, L):\n",
    "    L = bubble_sort(L)\n",
    "    result = L[0][1]\n",
    "    for i, item in enumerate(L):\n",
    "        if L[i][1] > number:\n",
    "            return L[i][1]\n",
    "    return 0\n",
    "\n",
    "\n",
    "\n",
    "# bubble sort them:\n",
    "def bubble_sort(L):\n",
    "    n = len(L)\n",
    "    for i in range(n-1):\n",
    "        # Check if i'th element is bigger than the next\n",
    "        for j in range(0, n-i-1):\n",
    "            if L[j][1] > L[j+1][1]:\n",
    "                # Swap\n",
    "                L[j], L[j+1] = L[j+1], L[j]\n",
    "    return L\n",
    "\n",
    "\n",
    "def arrayManipulation(n, queries):\n",
    "\n",
    "    # Create initial list of subdivisions\n",
    "\n",
    "    subdivisions = [[0, 1, 0], [0, n, 0]]\n",
    "\n",
    "    # loop through queries\n",
    "    for query in queries:\n",
    "\n",
    "        # sort the list of subdivisions\n",
    "\n",
    "        subdivisions = bubble_sort(subdivisions)\n",
    "        print(query,\"=>\",subdivisions)\n",
    "\n",
    "        lower_bound = query[0]\n",
    "        upper_bound = query[1]\n",
    "        summand = query[2]\n",
    "        \n",
    "        lower_bound_is_in_list = False\n",
    "        for item in subdivisions:\n",
    "            if item[1] == lower_bound:\n",
    "                lower_bound_is_in_list = True\n",
    "        \n",
    "        upper_bound_is_in_list = False\n",
    "        for item in subdivisions:\n",
    "            if item[1] == upper_bound:\n",
    "                upper_bound_is_in_list = True\n",
    "                \n",
    "\n",
    "        if lower_bound_is_in_list:\n",
    "            # update the lower bound \n",
    "            for index, item in enumerate(subdivisions):\n",
    "                if item[1] == lower_bound:\n",
    "                    subdivisions[index] = [item[0], lower_bound, item[2]]\n",
    "        else:\n",
    "            # need to make starter pivot then add summand\n",
    "            maximal = maximal_element_smaller(lower_bound, subdivisions)\n",
    "            minimal =  minimal_element_larger(lower_bound, subdivisions)\n",
    "            for index, item in enumerate(subdivisions):\n",
    "\n",
    "                if item[1] == maximal:\n",
    "                    index_0 = item[2]\n",
    "                if item[1] == minimal:\n",
    "                    index_2 = item[0]\n",
    "\n",
    "            new_lower_pivot = [index_0, lower_bound, index_2]\n",
    "            subdivisions.append(new_lower_pivot)\n",
    "            \n",
    "        if upper_bound_is_in_list:\n",
    "            # update the upper bound \n",
    "            for index, item in enumerate(subdivisions):\n",
    "                if item[1] == upper_bound:\n",
    "                    subdivisions[index] = [item[0], upper_bound, item[2]]\n",
    "                    \n",
    "                    \n",
    "        else:\n",
    "            # need to make starter pivot then add summand\n",
    "            new_upper_pivot = [maximal_element_smaller(upper_bound, subdivisions), upper_bound, minimal_element_larger(upper_bound, subdivisions)]\n",
    "            maximal = maximal_element_smaller(upper_bound, subdivisions)\n",
    "            minimal =  minimal_element_larger(upper_bound, subdivisions)\n",
    "\n",
    "            for index, item in enumerate(subdivisions):\n",
    "                if item[1] == maximal:\n",
    "                    index_0 = item[2]\n",
    "                    \n",
    "                if item[1] == minimal:\n",
    "                    index_2 = item[0]\n",
    "                    \n",
    "            \n",
    "\n",
    "            new_upper_pivot = [index_0, upper_bound, index_2]\n",
    "            subdivisions.append(new_upper_pivot)\n",
    "        \n",
    "        \n",
    "        # now add summand everywhere to the right of index bigger than lower_bound and to the left of upper bound\n",
    "        \n",
    "        \n",
    "        \n",
    "        print(query,\"now=>\",bubble_sort(subdivisions))\n",
    "        # update all of the inner indices:\n",
    "        for index, item in enumerate(subdivisions):\n",
    "            if lower_bound < item[1] < upper_bound:\n",
    "                subdivisions[index] = [item[0]+summand, item[1], item[2]+summand]\n",
    "            if lower_bound == item[1] and lower_bound_is_in_list:\n",
    "                subdivisions[index] = [item[0] + summand, item[1], item[2]+summand]\n",
    "            if lower_bound == item[1] and not(lower_bound_is_in_list):\n",
    "                subdivisions[index] = [item[0], item[1], item[2]+summand]\n",
    "            if upper_bound == item[1] and not(upper_bound_is_in_list):\n",
    "                subdivisions[index] = [item[0] + summand, item[1], item[2]]\n",
    "            if upper_bound == item[1] and upper_bound_is_in_list:\n",
    "                subdivisions[index] = [item[0] + summand, item[1], item[2] + summand]\n",
    "                \n",
    "                \n",
    "        print(query,\"after=>\",bubble_sort(subdivisions))\n",
    "        print()\n",
    "\n",
    "    # finally we find the  largest sum\n",
    "    print(subdivisions)\n",
    "    result = 0\n",
    "    for item in subdivisions:\n",
    "        first = item[0]\n",
    "        second = item[2]\n",
    "        result = max(first, second, result)\n",
    "\n",
    "    return result"
   ]
  },
  {
   "cell_type": "code",
   "execution_count": 377,
   "metadata": {},
   "outputs": [
    {
     "name": "stdout",
     "output_type": "stream",
     "text": [
      "should be 31\n",
      "[2, 6, 8] => [[0, 1, 0], [0, 10, 0]]\n",
      "[2, 6, 8] now=> [[0, 1, 0], [0, 2, 0], [0, 6, 0], [0, 10, 0]]\n",
      "[2, 6, 8] after=> [[0, 1, 0], [0, 2, 8], [8, 6, 0], [0, 10, 0]]\n",
      "\n",
      "[1, 10, 1] => [[0, 1, 0], [0, 2, 8], [8, 6, 0], [0, 10, 0]]\n",
      "[1, 10, 1] now=> [[0, 1, 0], [0, 2, 8], [8, 6, 0], [0, 10, 0]]\n",
      "[1, 10, 1] after=> [[1, 1, 1], [1, 2, 9], [9, 6, 1], [1, 10, 1]]\n",
      "\n",
      "[3, 5, 7] => [[1, 1, 1], [1, 2, 9], [9, 6, 1], [1, 10, 1]]\n",
      "[3, 5, 7] now=> [[1, 1, 1], [1, 2, 9], [9, 3, 9], [9, 5, 9], [9, 6, 1], [1, 10, 1]]\n",
      "[3, 5, 7] after=> [[1, 1, 1], [1, 2, 9], [9, 3, 16], [16, 5, 9], [9, 6, 1], [1, 10, 1]]\n",
      "\n",
      "[5, 9, 15] => [[1, 1, 1], [1, 2, 9], [9, 3, 16], [16, 5, 9], [9, 6, 1], [1, 10, 1]]\n",
      "[5, 9, 15] now=> [[1, 1, 1], [1, 2, 9], [9, 3, 16], [16, 5, 9], [9, 6, 1], [1, 9, 1], [1, 10, 1]]\n",
      "[5, 9, 15] after=> [[1, 1, 1], [1, 2, 9], [9, 3, 16], [31, 5, 24], [24, 6, 16], [16, 9, 1], [1, 10, 1]]\n",
      "\n",
      "[[1, 1, 1], [1, 2, 9], [9, 3, 16], [31, 5, 24], [24, 6, 16], [16, 9, 1], [1, 10, 1]]\n"
     ]
    },
    {
     "data": {
      "text/plain": [
       "31"
      ]
     },
     "execution_count": 377,
     "metadata": {},
     "output_type": "execute_result"
    }
   ],
   "source": [
    "queries = [[2,6,8],\n",
    "           [1,10,1],\n",
    "          [3,5,7],\n",
    "          [5,9,15]]\n",
    "n = 10\n",
    "print(\"should be 31\")\n",
    "arrayManipulation(n, queries)"
   ]
  },
  {
   "cell_type": "markdown",
   "metadata": {},
   "source": [
    "## Actual Correct Answer"
   ]
  },
  {
   "cell_type": "code",
   "execution_count": 390,
   "metadata": {},
   "outputs": [],
   "source": [
    "def arrayManipulation(n, queries):\n",
    "        # Big O (N)\n",
    "        res = [0]*(n+1) # we only really need one terminal row, since we're applying each pass to all rows below\n",
    "\n",
    "        # loop through all the queries and apply the increments/decrements for each\n",
    "        # Big O (M) (size of queires)\n",
    "        for row in range(len(queries)):\n",
    "                a = queries[row][0]\n",
    "                b = queries[row][1]\n",
    "                k = queries[row][2]\n",
    "\n",
    "                res[a-1] += k # increment the starting position\n",
    "                # this is where a loop would increment everything else between a & b by k\n",
    "                # but instead of taking b-a steps, we take a constant 2 steps, saving huge on time\n",
    "                res[b-1] -= k # decrement the position AFTER the ending position\n",
    "                print(list(range(1,n+2)))\n",
    "                print(res)\n",
    "                print()\n",
    "\n",
    "        # now loop through res one time - Big O (N) (size of res)\n",
    "        sm = 0 # running sum\n",
    "        mx = 0 # maximum value found so far\n",
    "        for i in range(len(res)):\n",
    "                sm += res[i]\n",
    "                if sm > mx:\n",
    "                        mx = sm\n",
    "\n",
    "        # total run time is Big O (2*N + M) >> Big O(N)\n",
    "        return mx"
   ]
  },
  {
   "cell_type": "code",
   "execution_count": 391,
   "metadata": {},
   "outputs": [
    {
     "name": "stdout",
     "output_type": "stream",
     "text": [
      "should be 10\n",
      "[1, 2, 3, 4, 5, 6, 7, 8, 9, 10, 11]\n",
      "[3, 0, 0, 0, -3, 0, 0, 0, 0, 0, 0]\n",
      "\n",
      "[1, 2, 3, 4, 5, 6, 7, 8, 9, 10, 11]\n",
      "[3, 0, 0, 7, -3, 0, 0, -7, 0, 0, 0]\n",
      "\n",
      "[1, 2, 3, 4, 5, 6, 7, 8, 9, 10, 11]\n",
      "[3, 0, 0, 7, -3, 1, 0, -7, -1, 0, 0]\n",
      "\n"
     ]
    },
    {
     "data": {
      "text/plain": [
       "10"
      ]
     },
     "execution_count": 391,
     "metadata": {},
     "output_type": "execute_result"
    }
   ],
   "source": [
    "queries = [[1,5,3],\n",
    "          [4,8,7],\n",
    "          [6,9,1]]\n",
    "n = 10\n",
    "print(\"should be 10\")\n",
    "arrayManipulation(n, queries)"
   ]
  },
  {
   "cell_type": "code",
   "execution_count": null,
   "metadata": {},
   "outputs": [],
   "source": []
  }
 ],
 "metadata": {
  "kernelspec": {
   "display_name": "Python 3",
   "language": "python",
   "name": "python3"
  },
  "language_info": {
   "codemirror_mode": {
    "name": "ipython",
    "version": 3
   },
   "file_extension": ".py",
   "mimetype": "text/x-python",
   "name": "python",
   "nbconvert_exporter": "python",
   "pygments_lexer": "ipython3",
   "version": "3.8.2"
  },
  "varInspector": {
   "cols": {
    "lenName": 16,
    "lenType": 16,
    "lenVar": 40
   },
   "kernels_config": {
    "python": {
     "delete_cmd_postfix": "",
     "delete_cmd_prefix": "del ",
     "library": "var_list.py",
     "varRefreshCmd": "print(var_dic_list())"
    },
    "r": {
     "delete_cmd_postfix": ") ",
     "delete_cmd_prefix": "rm(",
     "library": "var_list.r",
     "varRefreshCmd": "cat(var_dic_list()) "
    }
   },
   "types_to_exclude": [
    "module",
    "function",
    "builtin_function_or_method",
    "instance",
    "_Feature"
   ],
   "window_display": false
  }
 },
 "nbformat": 4,
 "nbformat_minor": 4
}
