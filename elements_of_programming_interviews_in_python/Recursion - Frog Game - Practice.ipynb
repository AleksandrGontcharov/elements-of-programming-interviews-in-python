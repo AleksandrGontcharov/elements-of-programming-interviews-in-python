{
 "cells": [
  {
   "cell_type": "markdown",
   "metadata": {},
   "source": [
    "### Steps:\n",
    " 1. Understand the problem\n",
    " 2. Sketch a solution with pen and paper - think of test cases\n",
    " 3. Write test cases in order of complexity\n",
    " 4. Iterate to think of the solution"
   ]
  },
  {
   "cell_type": "markdown",
   "metadata": {},
   "source": [
    "### Function - print out all the ways\n",
    "___"
   ]
  },
  {
   "cell_type": "code",
   "execution_count": null,
   "metadata": {},
   "outputs": [],
   "source": [
    "# A frog can either jump 1 foot, or two feet.\n",
    "\n",
    "# there are 10 stones in a river spaced exactly 1 foot apart :\n",
    "# frog -> 1 -> 2 -> ...-> 10 -> other side of river\n",
    "\n",
    "# how many ways are there for the frog to jump across the river"
   ]
  },
  {
   "cell_type": "code",
   "execution_count": 4,
   "metadata": {},
   "outputs": [],
   "source": [
    "def frog():\n",
    "    goal = 3\n",
    "    steps = []\n",
    "    return helper(goal, steps)\n"
   ]
  },
  {
   "cell_type": "code",
   "execution_count": 5,
   "metadata": {},
   "outputs": [],
   "source": [
    "def helper(goal, steps):\n",
    "    total_so_far = sum(steps)\n",
    "    if total_so_far > goal:\n",
    "        print(steps)\n",
    "    else:\n",
    "        helper(goal, steps + [1])\n",
    "        helper(goal, steps + [2])"
   ]
  },
  {
   "cell_type": "code",
   "execution_count": 6,
   "metadata": {},
   "outputs": [
    {
     "name": "stdout",
     "output_type": "stream",
     "text": [
      "[1, 1, 1, 1]\n",
      "[1, 1, 1, 2]\n",
      "[1, 1, 2]\n",
      "[1, 2, 1]\n",
      "[1, 2, 2]\n",
      "[2, 1, 1]\n",
      "[2, 1, 2]\n",
      "[2, 2]\n"
     ]
    }
   ],
   "source": [
    "frog()"
   ]
  },
  {
   "cell_type": "markdown",
   "metadata": {},
   "source": [
    "### Print out the number of ways\n",
    "___"
   ]
  },
  {
   "cell_type": "code",
   "execution_count": 1,
   "metadata": {},
   "outputs": [],
   "source": [
    "def frog():\n",
    "    goal = 3\n",
    "    steps = []\n",
    "    return helper(goal, steps)\n"
   ]
  },
  {
   "cell_type": "code",
   "execution_count": 9,
   "metadata": {},
   "outputs": [],
   "source": [
    "def helper(goal, steps):\n",
    "    total_so_far = sum(steps)\n",
    "    if total_so_far > goal:\n",
    "        return 1\n",
    "    else:\n",
    "        return helper(goal, steps + [1]) + helper(goal, steps + [2])\n",
    "        "
   ]
  },
  {
   "cell_type": "code",
   "execution_count": 10,
   "metadata": {},
   "outputs": [
    {
     "data": {
      "text/plain": [
       "8"
      ]
     },
     "execution_count": 10,
     "metadata": {},
     "output_type": "execute_result"
    }
   ],
   "source": [
    "frog()"
   ]
  },
  {
   "cell_type": "markdown",
   "metadata": {},
   "source": [
    "## similar problem"
   ]
  },
  {
   "cell_type": "markdown",
   "metadata": {},
   "source": [
    "### Triple Step\n",
    "\n",
    "A child is running up a staircase with n steps and can hop either 1 step, 2 steps, or 3\n",
    "steps at a time. Implement a method to count how many possible ways the child can run up the\n",
    "stairs."
   ]
  },
  {
   "cell_type": "code",
   "execution_count": null,
   "metadata": {},
   "outputs": [],
   "source": [
    "def number_of_ways(num_steps):\n",
    "    running_total = 0\n",
    "    return helper(num_steps, running_total)\n",
    "    #return num_steps\n",
    "    \n",
    "def helper(num_steps, running_total):\n",
    "    # base case\n",
    "    if running_total == num_steps:\n",
    "        return 1\n",
    "    elif running_total > num_steps:\n",
    "        return 0\n",
    "    else:\n",
    "        return helper(num_steps, running_total + 1) + helper(num_steps, running_total + 2) + helper(num_steps, running_total + 3)\n",
    "    \n",
    "    # recursion case"
   ]
  },
  {
   "cell_type": "code",
   "execution_count": null,
   "metadata": {},
   "outputs": [],
   "source": [
    "num_steps = 3\n",
    "# 1,1,1\n",
    "# 1,2\n",
    "# 2,1\n",
    "# 3\n",
    "print(\"should be 4\")\n",
    "number_of_ways(num_steps)"
   ]
  },
  {
   "cell_type": "code",
   "execution_count": null,
   "metadata": {},
   "outputs": [],
   "source": []
  }
 ],
 "metadata": {
  "kernelspec": {
   "display_name": "Python 3",
   "language": "python",
   "name": "python3"
  },
  "language_info": {
   "codemirror_mode": {
    "name": "ipython",
    "version": 3
   },
   "file_extension": ".py",
   "mimetype": "text/x-python",
   "name": "python",
   "nbconvert_exporter": "python",
   "pygments_lexer": "ipython3",
   "version": "3.8.2"
  },
  "varInspector": {
   "cols": {
    "lenName": 16,
    "lenType": 16,
    "lenVar": 40
   },
   "kernels_config": {
    "python": {
     "delete_cmd_postfix": "",
     "delete_cmd_prefix": "del ",
     "library": "var_list.py",
     "varRefreshCmd": "print(var_dic_list())"
    },
    "r": {
     "delete_cmd_postfix": ") ",
     "delete_cmd_prefix": "rm(",
     "library": "var_list.r",
     "varRefreshCmd": "cat(var_dic_list()) "
    }
   },
   "types_to_exclude": [
    "module",
    "function",
    "builtin_function_or_method",
    "instance",
    "_Feature"
   ],
   "window_display": false
  }
 },
 "nbformat": 4,
 "nbformat_minor": 4
}
