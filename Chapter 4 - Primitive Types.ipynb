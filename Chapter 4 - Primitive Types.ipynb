{
 "cells": [
  {
   "cell_type": "markdown",
   "metadata": {
    "heading_collapsed": true
   },
   "source": [
    "## Bitewise Operations\n",
    "---"
   ]
  },
  {
   "cell_type": "markdown",
   "metadata": {
    "hidden": true
   },
   "source": [
    "#### & the AND operator"
   ]
  },
  {
   "cell_type": "markdown",
   "metadata": {
    "hidden": true
   },
   "source": [
    "<img src=\"images/AND.gif\">"
   ]
  },
  {
   "cell_type": "code",
   "execution_count": 1,
   "metadata": {
    "hidden": true
   },
   "outputs": [
    {
     "name": "stdout",
     "output_type": "stream",
     "text": [
      "5 6 4\n",
      "0b101 0b110 0b100\n"
     ]
    }
   ],
   "source": [
    "x, y = 5, 6\n",
    "print(x, y, x & y)\n",
    "print(bin(x), bin(y), bin(x & y))"
   ]
  },
  {
   "cell_type": "markdown",
   "metadata": {
    "hidden": true
   },
   "source": [
    "#### | the OR operator"
   ]
  },
  {
   "cell_type": "markdown",
   "metadata": {
    "hidden": true
   },
   "source": [
    "<img src=\"images/OR.gif\">"
   ]
  },
  {
   "cell_type": "code",
   "execution_count": 23,
   "metadata": {
    "hidden": true
   },
   "outputs": [
    {
     "name": "stdout",
     "output_type": "stream",
     "text": [
      "5 6 7\n",
      "0b101 0b110 0b111\n"
     ]
    }
   ],
   "source": [
    "x, y = 5, 6\n",
    "print(x, y, x | y)\n",
    "print(bin(x), bin(y), bin(x | y))"
   ]
  },
  {
   "cell_type": "markdown",
   "metadata": {
    "hidden": true
   },
   "source": [
    "#### ^ the XOR operator"
   ]
  },
  {
   "cell_type": "markdown",
   "metadata": {
    "hidden": true
   },
   "source": [
    "<img src=\"images/XOR.gif\">"
   ]
  },
  {
   "cell_type": "code",
   "execution_count": 24,
   "metadata": {
    "hidden": true
   },
   "outputs": [
    {
     "name": "stdout",
     "output_type": "stream",
     "text": [
      "5 6 3\n",
      "0b101 0b110 0b11\n"
     ]
    }
   ],
   "source": [
    "x, y = 5, 6\n",
    "print(x, y, x ^ y)\n",
    "print(bin(x), bin(y), bin(x ^ y))"
   ]
  },
  {
   "cell_type": "markdown",
   "metadata": {
    "hidden": true
   },
   "source": [
    "#### ~  Two's Complement Operator "
   ]
  },
  {
   "cell_type": "markdown",
   "metadata": {
    "hidden": true
   },
   "source": [
    "<img src=\"images/TWOS_COMPLEMENT.gif\">"
   ]
  },
  {
   "cell_type": "code",
   "execution_count": 40,
   "metadata": {
    "hidden": true
   },
   "outputs": [
    {
     "name": "stdout",
     "output_type": "stream",
     "text": [
      "565 -566\n",
      "0b1000110101 -0b1000110110\n"
     ]
    }
   ],
   "source": [
    "x = 565\n",
    "print(x, ~x)\n",
    "print(bin(x), bin(~x))"
   ]
  },
  {
   "cell_type": "code",
   "execution_count": 41,
   "metadata": {
    "hidden": true
   },
   "outputs": [
    {
     "name": "stdout",
     "output_type": "stream",
     "text": [
      "566 -567\n",
      "0b1000110110 -0b1000110111\n"
     ]
    }
   ],
   "source": [
    "x = 566\n",
    "print(x, ~x)\n",
    "print(bin(x), bin(~x))"
   ]
  },
  {
   "cell_type": "markdown",
   "metadata": {
    "hidden": true
   },
   "source": [
    "#### >>  << Shift Operators"
   ]
  },
  {
   "cell_type": "markdown",
   "metadata": {
    "hidden": true
   },
   "source": [
    "<img src=\"images/SHIFT_OPERATOR.gif\">"
   ]
  },
  {
   "cell_type": "markdown",
   "metadata": {
    "heading_collapsed": true
   },
   "source": [
    "## Write a program that counts the number of bits that are set to 1 in a positive integer"
   ]
  },
  {
   "cell_type": "code",
   "execution_count": 2,
   "metadata": {
    "hidden": true
   },
   "outputs": [],
   "source": [
    "def count_bits(x):\n",
    "    number_of_bits = 0\n",
    "    while x:\n",
    "        # check if the power of zero (i.e. the right most digit of the binary representation) equals 1 and add 1 if it does, otherwise add 0\n",
    "        number_of_bits += x & 1\n",
    "        # shift the binary representation by 1 to the left and repeat\n",
    "        x >>= 1\n",
    "    return number_of_bits\n",
    "        "
   ]
  },
  {
   "cell_type": "code",
   "execution_count": 3,
   "metadata": {
    "hidden": true
   },
   "outputs": [
    {
     "name": "stdout",
     "output_type": "stream",
     "text": [
      "0b10100111101100000 8\n"
     ]
    }
   ],
   "source": [
    "print(bin(85856), count_bits(85856))"
   ]
  },
  {
   "cell_type": "markdown",
   "metadata": {},
   "source": [
    "## Write a program that computes the parity of a binary number \n",
    "#### The parity is defined as one if the number of 1's in odd, otherwise it is zero, (odd = 1, even = 0)\n",
    "#### e.g. 1101 is odd (the parity is 1) and 100010000 is even (the parity is 0)"
   ]
  },
  {
   "cell_type": "markdown",
   "metadata": {},
   "source": [
    "---\n",
    "#### Brute-force approach - test every bit and keep a counter\n",
    "---"
   ]
  },
  {
   "cell_type": "markdown",
   "metadata": {},
   "source": [
    "<img src=\"images/parity-bruteforce.gif\">"
   ]
  },
  {
   "cell_type": "code",
   "execution_count": 4,
   "metadata": {},
   "outputs": [],
   "source": [
    "def parity(x):\n",
    "    # think of this as a binary number 0\n",
    "    result = 0\n",
    "    while x:\n",
    "        # the variable result will become 1 whenever it encounters a 1 and will switch back to 0 whenever it encounters another 1\n",
    "        result ^= x & 1\n",
    "        x >>= 1\n",
    "    return result"
   ]
  },
  {
   "cell_type": "code",
   "execution_count": 5,
   "metadata": {},
   "outputs": [
    {
     "name": "stdout",
     "output_type": "stream",
     "text": [
      "0b10100111101100000 8\n"
     ]
    }
   ],
   "source": [
    "print(bin(85856), count_bits(85856))"
   ]
  },
  {
   "cell_type": "markdown",
   "metadata": {},
   "source": [
    "---\n",
    "#### Superior approach\n",
    "---"
   ]
  },
  {
   "cell_type": "markdown",
   "metadata": {},
   "source": [
    "##### Trick: x & (x - 1) is x with its \"lowest set bit\" erased. The \"lowest set bit\" is the first 1, when counting from the right"
   ]
  },
  {
   "cell_type": "code",
   "execution_count": 36,
   "metadata": {},
   "outputs": [
    {
     "name": "stdout",
     "output_type": "stream",
     "text": [
      "   110110\n",
      " ---------\n",
      "-> 110100\n"
     ]
    }
   ],
   "source": [
    "print(\"  \",str(bin(54)[2:]))\n",
    "print(\" ---------\")\n",
    "print(\"->\",str(bin(54 & 53))[2:])"
   ]
  },
  {
   "cell_type": "code",
   "execution_count": 33,
   "metadata": {},
   "outputs": [
    {
     "name": "stdout",
     "output_type": "stream",
     "text": [
      "   110101000\n",
      " ---------\n",
      "-> 110100000\n"
     ]
    }
   ],
   "source": [
    "print(\"  \",str(bin(424)[2:]))\n",
    "print(\" ---------\")\n",
    "print(\"->\",str(bin(424 & 423))[2:])"
   ]
  },
  {
   "cell_type": "markdown",
   "metadata": {},
   "source": [
    "##### Trick:x & ~(x - 1) extracts the lowest set bit of x"
   ]
  },
  {
   "cell_type": "code",
   "execution_count": 39,
   "metadata": {},
   "outputs": [
    {
     "name": "stdout",
     "output_type": "stream",
     "text": [
      " 110101000\n",
      " ---------\n",
      "   -> 1000\n"
     ]
    }
   ],
   "source": [
    "print(\"\",str(bin(424)[2:]))\n",
    "print(\" ---------\")\n",
    "print(\"   ->\",str(bin(424 & ~423))[2:])"
   ]
  },
  {
   "cell_type": "code",
   "execution_count": 40,
   "metadata": {},
   "outputs": [
    {
     "name": "stdout",
     "output_type": "stream",
     "text": [
      " 1000100000\n",
      " ---------\n",
      "  -> 100000\n"
     ]
    }
   ],
   "source": [
    "print(\"\",str(bin(544)[2:]))\n",
    "print(\" ---------\")\n",
    "print(\"  ->\",str(bin(544 & ~543))[2:])"
   ]
  },
  {
   "cell_type": "markdown",
   "metadata": {},
   "source": [
    "#### Superior implementation"
   ]
  },
  {
   "cell_type": "code",
   "execution_count": 49,
   "metadata": {},
   "outputs": [],
   "source": [
    "def parity(x):\n",
    "\n",
    "    result = 0\n",
    "\n",
    "    while x:\n",
    "\n",
    "        # the number of 1's in the binary representation of x is the number of iterations of this loop\n",
    "        # i.e we are simply counting the number of iterations of this loop\n",
    "        result ^= 1\n",
    "\n",
    "        # each time we simply get rid of a 1 in the binary representation until x is equal to zero, thus terminating the loop\n",
    "        x &= x - 1\n",
    "\n",
    "    return result"
   ]
  },
  {
   "cell_type": "code",
   "execution_count": 52,
   "metadata": {},
   "outputs": [
    {
     "name": "stdout",
     "output_type": "stream",
     "text": [
      "1101011000 \n",
      " 1\n"
     ]
    }
   ],
   "source": [
    "print(str(bin(856))[2:],\"\\n\", parity(856))"
   ]
  },
  {
   "cell_type": "markdown",
   "metadata": {},
   "source": [
    "#### Implement code that takes as input a 64-bit integer and swaps the bits at indices i and j"
   ]
  },
  {
   "cell_type": "code",
   "execution_count": 15,
   "metadata": {},
   "outputs": [
    {
     "data": {
      "text/plain": [
       "72057594023384402"
      ]
     },
     "execution_count": 15,
     "metadata": {},
     "output_type": "execute_result"
    }
   ],
   "source": [
    "large_number = 2**56 - 14543534\n",
    "large_number"
   ]
  },
  {
   "cell_type": "code",
   "execution_count": 16,
   "metadata": {},
   "outputs": [
    {
     "data": {
      "text/plain": [
       "'0b11111111111111111111111111111111001000100001010101010010'"
      ]
     },
     "execution_count": 16,
     "metadata": {},
     "output_type": "execute_result"
    }
   ],
   "source": [
    "bin(large_number)"
   ]
  },
  {
   "cell_type": "markdown",
   "metadata": {},
   "source": [
    "## 4.2 Swap Bits\n",
    "---"
   ]
  },
  {
   "cell_type": "markdown",
   "metadata": {},
   "source": [
    "* Implement code that takes as input a 64-bit integer and swaps the bits at indices i and j.\n",
    "\n",
    "* Index is counted from the left"
   ]
  },
  {
   "cell_type": "code",
   "execution_count": 67,
   "metadata": {},
   "outputs": [
    {
     "name": "stdout",
     "output_type": "stream",
     "text": [
      " 10011\n",
      " ---------\n",
      " 1001\n",
      " 100110\n"
     ]
    }
   ],
   "source": [
    "x = 19\n",
    "print(\"\",str(bin(x)[2:]))\n",
    "print(\" ---------\")\n",
    "print(\"\",str(bin(x>>1))[2:])\n",
    "print(\"\",str(bin(x<<1))[2:])"
   ]
  },
  {
   "cell_type": "code",
   "execution_count": 78,
   "metadata": {},
   "outputs": [
    {
     "name": "stdout",
     "output_type": "stream",
     "text": [
      "Creating the mask 100100\n",
      "----------\n",
      "    100\n",
      " 100000\n",
      " 100100\n",
      "----------\n"
     ]
    }
   ],
   "source": [
    "print(\"Creating the mask 100100\")\n",
    "print(\"----------\")\n",
    "print(\"   \",str(bin(1 << 2))[2:])\n",
    "print(\"\",str(bin(1 << 5))[2:])\n",
    "print(\"\",str(bin(1 << 5 | 1 << 2))[2:])\n",
    "print(\"----------\")"
   ]
  },
  {
   "cell_type": "code",
   "execution_count": 99,
   "metadata": {},
   "outputs": [],
   "source": [
    "def swap_bits(x, i, j):\n",
    "\n",
    "    # Extract the i-tfi and j-th bjts, and see jf they differ.\n",
    "    # Calculate bit at index i\n",
    "    bit_at_i = (x >> i) & 1\n",
    "    bit_at_j = (x >> j) & 1\n",
    "\n",
    "    # swap them if the bits differ\n",
    "    if bit_at_i != bit_at_j:\n",
    "\n",
    "        # create a mask\n",
    "        bit_mask = 1 << i | 1 << j\n",
    "\n",
    "        # flip the bits with XOR\n",
    "\n",
    "        x = x ^ bit_mask\n",
    "\n",
    "    return x"
   ]
  },
  {
   "cell_type": "code",
   "execution_count": 224,
   "metadata": {},
   "outputs": [
    {
     "name": "stdout",
     "output_type": "stream",
     "text": [
      "flip the bits at 2 and 3\n",
      "index    : 543210\n",
      "           111010\n",
      "flipped  : 110110\n"
     ]
    }
   ],
   "source": [
    "x = 58\n",
    "i = 2\n",
    "j = 3\n",
    "print(f\"flip the bits at {i} and {j}\")\n",
    "print(\"index    : 543210\")\n",
    "print(\"          \",str(bin(x))[2:])\n",
    "print(\"flipped  :\",str(bin(swap_bits(x, i, j)))[2:])"
   ]
  },
  {
   "cell_type": "markdown",
   "metadata": {},
   "source": [
    "## 4.3 Reverse Bits"
   ]
  },
  {
   "cell_type": "markdown",
   "metadata": {},
   "source": [
    "Write a program that takes a 64-bit unsigned integer and retums the 64-bit unsigned integer con-\n",
    "sisting of the bits of the input in reverse order. For example, if the input is (1110000000000001), the\n",
    "output should be (1000000000000111)."
   ]
  },
  {
   "cell_type": "code",
   "execution_count": 222,
   "metadata": {},
   "outputs": [],
   "source": [
    "def reverse_bits(x):\n",
    "    result = 0\n",
    "    while x != 0:\n",
    "        new_digit = x & 1\n",
    "        result <<= 1\n",
    "        result += new_digit\n",
    "        \n",
    "        \n",
    "        \n",
    "        # make a right shift\n",
    "        x >>= 1\n",
    "        \n",
    "    return result"
   ]
  },
  {
   "cell_type": "code",
   "execution_count": 227,
   "metadata": {},
   "outputs": [
    {
     "name": "stdout",
     "output_type": "stream",
     "text": [
      "Reverse the bits\n",
      "           111011\n",
      "flipped  : 110111\n"
     ]
    }
   ],
   "source": [
    "x = 59\n",
    "\n",
    "print(f\"Reverse the bits\")\n",
    "\n",
    "print(\"          \",str(bin(x))[2:])\n",
    "print(\"flipped  :\",str(bin(reverse_bits(x)))[2:])"
   ]
  },
  {
   "cell_type": "code",
   "execution_count": null,
   "metadata": {},
   "outputs": [],
   "source": []
  }
 ],
 "metadata": {
  "kernelspec": {
   "display_name": "Python 3",
   "language": "python",
   "name": "python3"
  },
  "language_info": {
   "codemirror_mode": {
    "name": "ipython",
    "version": 3
   },
   "file_extension": ".py",
   "mimetype": "text/x-python",
   "name": "python",
   "nbconvert_exporter": "python",
   "pygments_lexer": "ipython3",
   "version": "3.8.2"
  },
  "varInspector": {
   "cols": {
    "lenName": 16,
    "lenType": 16,
    "lenVar": 40
   },
   "kernels_config": {
    "python": {
     "delete_cmd_postfix": "",
     "delete_cmd_prefix": "del ",
     "library": "var_list.py",
     "varRefreshCmd": "print(var_dic_list())"
    },
    "r": {
     "delete_cmd_postfix": ") ",
     "delete_cmd_prefix": "rm(",
     "library": "var_list.r",
     "varRefreshCmd": "cat(var_dic_list()) "
    }
   },
   "types_to_exclude": [
    "module",
    "function",
    "builtin_function_or_method",
    "instance",
    "_Feature"
   ],
   "window_display": false
  }
 },
 "nbformat": 4,
 "nbformat_minor": 4
}
