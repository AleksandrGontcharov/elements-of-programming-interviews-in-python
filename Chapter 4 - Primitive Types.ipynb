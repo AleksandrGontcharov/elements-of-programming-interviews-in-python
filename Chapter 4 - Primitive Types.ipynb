{
 "cells": [
  {
   "cell_type": "markdown",
   "metadata": {},
   "source": [
    "## Bitewise Operations\n",
    "---"
   ]
  },
  {
   "cell_type": "markdown",
   "metadata": {},
   "source": [
    "#### & the AND operator"
   ]
  },
  {
   "cell_type": "code",
   "execution_count": 22,
   "metadata": {},
   "outputs": [
    {
     "name": "stdout",
     "output_type": "stream",
     "text": [
      "5 6 4\n",
      "0b101 0b110 0b100\n"
     ]
    }
   ],
   "source": [
    "x, y = 5, 6\n",
    "print(x, y, x & y)\n",
    "print(bin(x), bin(y), bin(x & y))"
   ]
  },
  {
   "cell_type": "markdown",
   "metadata": {},
   "source": [
    "#### | the OR operator"
   ]
  },
  {
   "cell_type": "code",
   "execution_count": 23,
   "metadata": {},
   "outputs": [
    {
     "name": "stdout",
     "output_type": "stream",
     "text": [
      "5 6 7\n",
      "0b101 0b110 0b111\n"
     ]
    }
   ],
   "source": [
    "x, y = 5, 6\n",
    "print(x, y, x | y)\n",
    "print(bin(x), bin(y), bin(x | y))"
   ]
  },
  {
   "cell_type": "markdown",
   "metadata": {},
   "source": [
    "#### ^ the XOR operator"
   ]
  },
  {
   "cell_type": "code",
   "execution_count": 24,
   "metadata": {},
   "outputs": [
    {
     "name": "stdout",
     "output_type": "stream",
     "text": [
      "5 6 3\n",
      "0b101 0b110 0b11\n"
     ]
    }
   ],
   "source": [
    "x, y = 5, 6\n",
    "print(x, y, x ^ y)\n",
    "print(bin(x), bin(y), bin(x ^ y))"
   ]
  },
  {
   "cell_type": "markdown",
   "metadata": {},
   "source": [
    "#### ~  Two's Complement Operator "
   ]
  },
  {
   "cell_type": "code",
   "execution_count": 40,
   "metadata": {},
   "outputs": [
    {
     "name": "stdout",
     "output_type": "stream",
     "text": [
      "565 -566\n",
      "0b1000110101 -0b1000110110\n"
     ]
    }
   ],
   "source": [
    "x = 565\n",
    "print(x, ~x)\n",
    "print(bin(x), bin(~x))"
   ]
  },
  {
   "cell_type": "code",
   "execution_count": 41,
   "metadata": {},
   "outputs": [
    {
     "name": "stdout",
     "output_type": "stream",
     "text": [
      "566 -567\n",
      "0b1000110110 -0b1000110111\n"
     ]
    }
   ],
   "source": [
    "x = 566\n",
    "print(x, ~x)\n",
    "print(bin(x), bin(~x))"
   ]
  },
  {
   "cell_type": "markdown",
   "metadata": {},
   "source": [
    "## Write a program that counts the number of bits that are set to 1 in a positive integer"
   ]
  },
  {
   "cell_type": "code",
   "execution_count": 1,
   "metadata": {},
   "outputs": [],
   "source": [
    "def count_bits(x):\n",
    "    number_of_bits = 0\n",
    "    while x:\n",
    "        # check if the power of zero (i.e. the right most digit of the binary representation) equals 1 and add 1 if it does, otherwise add 0\n",
    "        number_of_bits += x & 1\n",
    "        # shift the binary representation by 1 to the left and repeat\n",
    "        x >>= 1\n",
    "    return number_of_bits\n",
    "        "
   ]
  },
  {
   "cell_type": "code",
   "execution_count": 5,
   "metadata": {},
   "outputs": [
    {
     "name": "stdout",
     "output_type": "stream",
     "text": [
      "0b10100111101100000 8\n"
     ]
    }
   ],
   "source": [
    "print(bin(85856), count_bits(85856))"
   ]
  },
  {
   "cell_type": "markdown",
   "metadata": {},
   "source": [
    "## Write a program that computes the parity of a binary number \n",
    "#### The parity is defined as one if the number of 1's in odd, otherwise it is zero, (odd = 1, even = 0)\n",
    "#### e.g. 1101 is odd (the parity is 1) and 100010000 is even (the parity is 0)"
   ]
  },
  {
   "cell_type": "markdown",
   "metadata": {},
   "source": [
    "---\n",
    "#### Brute-force approach - test every bit and keep a counter\n",
    "---"
   ]
  },
  {
   "cell_type": "code",
   "execution_count": 8,
   "metadata": {},
   "outputs": [],
   "source": [
    "def parity(x):\n",
    "    # think of this as a binary number 0\n",
    "    result = 0\n",
    "    while x:\n",
    "        # the variable result will become 1 whenever it encounters a 1 and will switch back to 0 whenever it encounters another 1\n",
    "        result ^= x & 1\n",
    "        x >>= 1\n",
    "    return result"
   ]
  },
  {
   "cell_type": "code",
   "execution_count": 9,
   "metadata": {},
   "outputs": [
    {
     "name": "stdout",
     "output_type": "stream",
     "text": [
      "0b10100111101100000 8\n"
     ]
    }
   ],
   "source": [
    "print(bin(85856), count_bits(85856))"
   ]
  },
  {
   "cell_type": "markdown",
   "metadata": {},
   "source": [
    "---\n",
    "#### Superior approach\n",
    "---"
   ]
  },
  {
   "cell_type": "markdown",
   "metadata": {},
   "source": [
    "##### Trick: x & (x - 1) is x with its \"lowest set bit\" erased. The \"lowest set bit\" is the first 1, when counting from the right"
   ]
  },
  {
   "cell_type": "code",
   "execution_count": 10,
   "metadata": {},
   "outputs": [
    {
     "name": "stdout",
     "output_type": "stream",
     "text": [
      "0b110110\n",
      "0b110101\n",
      "0b110100\n"
     ]
    }
   ],
   "source": [
    "print(bin(54))\n",
    "print(bin(53))\n",
    "print(bin(54 & 53))"
   ]
  },
  {
   "cell_type": "markdown",
   "metadata": {},
   "source": [
    "##### Trick:x & ~(x - 1) extracts the lowest set bit of x"
   ]
  },
  {
   "cell_type": "code",
   "execution_count": 54,
   "metadata": {},
   "outputs": [
    {
     "name": "stdout",
     "output_type": "stream",
     "text": [
      "0b110101000\n",
      "-0b110101000\n",
      "0b1000\n"
     ]
    }
   ],
   "source": [
    "print(bin(424))\n",
    "print(bin(~423))\n",
    "print(bin(424 & ~423))"
   ]
  },
  {
   "cell_type": "code",
   "execution_count": 49,
   "metadata": {},
   "outputs": [
    {
     "name": "stdout",
     "output_type": "stream",
     "text": [
      "544\n",
      "543\n",
      "32\n"
     ]
    }
   ],
   "source": [
    "print(544)\n",
    "print(543)\n",
    "print(544 & ~543)"
   ]
  },
  {
   "cell_type": "code",
   "execution_count": 13,
   "metadata": {},
   "outputs": [],
   "source": [
    "def parity(x):\n",
    "    # think of this as a binary number 0\n",
    "    result = 0\n",
    "    while x:\n",
    "        # the number of 1's in the binary representation of x is th enumber of iterations of this loop\n",
    "        result ^= 1\n",
    "        # each time we simply get rid of a 1 in the binary representation until x is equal to zero, thus terminating the loop\n",
    "        x &= x  - 1\n",
    "    return result"
   ]
  },
  {
   "cell_type": "code",
   "execution_count": 14,
   "metadata": {},
   "outputs": [
    {
     "name": "stdout",
     "output_type": "stream",
     "text": [
      "0b10100111101100000 8\n"
     ]
    }
   ],
   "source": [
    "print(bin(85856), count_bits(85856))"
   ]
  },
  {
   "cell_type": "markdown",
   "metadata": {},
   "source": [
    "#### Implement code that takes as input a 64-bit integer and swaps the bits at indices i and j"
   ]
  },
  {
   "cell_type": "code",
   "execution_count": 15,
   "metadata": {},
   "outputs": [
    {
     "data": {
      "text/plain": [
       "72057594023384402"
      ]
     },
     "execution_count": 15,
     "metadata": {},
     "output_type": "execute_result"
    }
   ],
   "source": [
    "large_number = 2**56 - 14543534\n",
    "large_number"
   ]
  },
  {
   "cell_type": "code",
   "execution_count": 16,
   "metadata": {},
   "outputs": [
    {
     "data": {
      "text/plain": [
       "'0b11111111111111111111111111111111001000100001010101010010'"
      ]
     },
     "execution_count": 16,
     "metadata": {},
     "output_type": "execute_result"
    }
   ],
   "source": [
    "bin(large_number)"
   ]
  },
  {
   "cell_type": "markdown",
   "metadata": {},
   "source": [
    "## 4.2 Swap Bits\n",
    "---"
   ]
  },
  {
   "cell_type": "code",
   "execution_count": null,
   "metadata": {},
   "outputs": [],
   "source": []
  }
 ],
 "metadata": {
  "kernelspec": {
   "display_name": "Python 3",
   "language": "python",
   "name": "python3"
  },
  "language_info": {
   "codemirror_mode": {
    "name": "ipython",
    "version": 3
   },
   "file_extension": ".py",
   "mimetype": "text/x-python",
   "name": "python",
   "nbconvert_exporter": "python",
   "pygments_lexer": "ipython3",
   "version": "3.8.2"
  }
 },
 "nbformat": 4,
 "nbformat_minor": 4
}
