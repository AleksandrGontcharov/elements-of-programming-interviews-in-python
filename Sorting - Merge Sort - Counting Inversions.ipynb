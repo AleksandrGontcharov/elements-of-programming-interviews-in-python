{
 "cells": [
  {
   "cell_type": "markdown",
   "metadata": {},
   "source": [
    "### Steps:\n",
    " 1. Understand the problem\n",
    " 2. Sketch a solution with pen and paper - think of test cases\n",
    " 3. Write test cases in order of complexity\n",
    " 4. Iterate to think of the solution"
   ]
  },
  {
   "cell_type": "markdown",
   "metadata": {},
   "source": [
    "### Function\n",
    "___"
   ]
  },
  {
   "cell_type": "code",
   "execution_count": 318,
   "metadata": {
    "code_folding": []
   },
   "outputs": [],
   "source": [
    "def merge(L, R, A):\n",
    "    swaps = 0\n",
    "    nL = len(L)\n",
    "    nR = len(R)\n",
    "\n",
    "    index_L = 0\n",
    "    index_R = 0\n",
    "    i = 0\n",
    "    while index_L < nL and index_R < nR:\n",
    "        if L[index_L] <= R[index_R]:\n",
    "\n",
    "            A[i] = L[index_L]\n",
    "\n",
    "            index_L += 1\n",
    "        else:\n",
    "            # this is crazy!!\n",
    "            swaps += len(L) - index_L\n",
    "            A[i] = R[index_R]\n",
    "\n",
    "            index_R += 1\n",
    "        i += 1\n",
    "    result = []\n",
    "    \n",
    "\n",
    "            \n",
    "\n",
    "    while index_L < nL:\n",
    "        A[i] = L[index_L]\n",
    "        i += 1\n",
    "        index_L += 1\n",
    "    while index_R < nR:\n",
    "        A[i] = R[index_R]\n",
    "        i += 1\n",
    "        index_R += 1\n",
    "\n",
    "    print(\"merged version is:\", A, f\"with {swaps} swaps\")\n",
    "    return A, swaps\n",
    "\n",
    "\n",
    "def merge_sort(A):\n",
    "\n",
    "    n = len(A)\n",
    "    \n",
    "    if n < 2:\n",
    "        return A, 0\n",
    "    \n",
    "    \n",
    "    mid = n // 2\n",
    "\n",
    "    L = A[:mid]\n",
    "    R = A[mid:]\n",
    "    \n",
    "    L, counter_1 = merge_sort(L)\n",
    "\n",
    "    R, counter_2 = merge_sort(R)\n",
    "    \n",
    "    print(\"merging left\",L,\"and right\",R)\n",
    "    A, swaps = merge(L, R, A)\n",
    "    \n",
    "    \n",
    "    \n",
    "    print()\n",
    "   \n",
    "\n",
    "    return A, swaps + counter_1 +counter_2\n",
    "\n",
    "\n",
    "def countInversions(A):\n",
    "    A, inversions = merge_sort(A)\n",
    "    return inversions"
   ]
  },
  {
   "cell_type": "code",
   "execution_count": 319,
   "metadata": {},
   "outputs": [
    {
     "name": "stdout",
     "output_type": "stream",
     "text": [
      "should be 4\n",
      "merging left [2] and right [1]\n",
      "merged version is: [1, 2] with 1 swaps\n",
      "\n",
      "merging left [1] and right [2]\n",
      "merged version is: [1, 2] with 0 swaps\n",
      "\n",
      "merging left [3] and right [1, 2]\n",
      "merged version is: [1, 2, 3] with 2 swaps\n",
      "\n",
      "merging left [1, 2] and right [1, 2, 3]\n",
      "merged version is: [1, 1, 2, 2, 3] with 1 swaps\n",
      "\n"
     ]
    },
    {
     "data": {
      "text/plain": [
       "([1, 1, 2, 2, 3], 4)"
      ]
     },
     "execution_count": 319,
     "metadata": {},
     "output_type": "execute_result"
    }
   ],
   "source": [
    "L = [2,1,3,1,2]\n",
    "print(\"should be 4\")\n",
    "merge_sort(L)"
   ]
  },
  {
   "cell_type": "markdown",
   "metadata": {},
   "source": [
    "### Test\n",
    "___"
   ]
  },
  {
   "cell_type": "code",
   "execution_count": 311,
   "metadata": {},
   "outputs": [
    {
     "name": "stdout",
     "output_type": "stream",
     "text": [
      "should be 4\n",
      "merged version is: [1, 2] with 1 swaps\n",
      "merging left [2] and right [1]\n",
      "returned swaps: 1\n",
      "merged version is: [1, 2] with 0 swaps\n",
      "merging left [1] and right [2]\n",
      "returned swaps: 0\n",
      "merged version is: [1, 2, 3] with 2 swaps\n",
      "merging left [3] and right [1, 2]\n",
      "returned swaps: 2\n",
      "merged version is: [1, 1, 2, 2, 3] with 1 swaps\n",
      "merging left [1, 2] and right [1, 2, 3]\n",
      "returned swaps: 1\n"
     ]
    },
    {
     "data": {
      "text/plain": [
       "4"
      ]
     },
     "execution_count": 311,
     "metadata": {},
     "output_type": "execute_result"
    }
   ],
   "source": [
    "L = [2,1,3,1,2]\n",
    "print(\"should be 4\")\n",
    "countInversions(L)\n"
   ]
  },
  {
   "cell_type": "code",
   "execution_count": 312,
   "metadata": {},
   "outputs": [
    {
     "name": "stdout",
     "output_type": "stream",
     "text": [
      "should be 0\n",
      "merged version is: [1, 1] with 0 swaps\n",
      "merging left [1] and right [1]\n",
      "returned swaps: 0\n",
      "merged version is: [2, 2] with 0 swaps\n",
      "merging left [2] and right [2]\n",
      "returned swaps: 0\n",
      "merged version is: [1, 2, 2] with 0 swaps\n",
      "merging left [1] and right [2, 2]\n",
      "returned swaps: 0\n",
      "merged version is: [1, 1, 1, 2, 2] with 0 swaps\n",
      "merging left [1, 1] and right [1, 2, 2]\n",
      "returned swaps: 0\n"
     ]
    },
    {
     "data": {
      "text/plain": [
       "0"
      ]
     },
     "execution_count": 312,
     "metadata": {},
     "output_type": "execute_result"
    }
   ],
   "source": [
    "L = [1,1,1,2,2]\n",
    "print(\"should be 0\")\n",
    "countInversions(L)\n"
   ]
  },
  {
   "cell_type": "code",
   "execution_count": 313,
   "metadata": {},
   "outputs": [
    {
     "name": "stdout",
     "output_type": "stream",
     "text": [
      "should be 2\n",
      "merged version is: [1, 4] with 1 swaps\n",
      "merging left [4] and right [1]\n",
      "returned swaps: 1\n",
      "merged version is: [1, 2, 4] with 1 swaps\n",
      "merging left [2] and right [1, 4]\n",
      "returned swaps: 1\n"
     ]
    },
    {
     "data": {
      "text/plain": [
       "2"
      ]
     },
     "execution_count": 313,
     "metadata": {},
     "output_type": "execute_result"
    }
   ],
   "source": [
    "L = [2,4,1]\n",
    "print(\"should be 2\")\n",
    "countInversions(L)"
   ]
  },
  {
   "cell_type": "code",
   "execution_count": 308,
   "metadata": {},
   "outputs": [
    {
     "name": "stdout",
     "output_type": "stream",
     "text": [
      "should be 6\n"
     ]
    },
    {
     "data": {
      "text/plain": [
       "6"
      ]
     },
     "execution_count": 308,
     "metadata": {},
     "output_type": "execute_result"
    }
   ],
   "source": [
    "L = [7,5,3,1]\n",
    "print(\"should be 6\")\n",
    "countInversions(L)"
   ]
  },
  {
   "cell_type": "code",
   "execution_count": null,
   "metadata": {},
   "outputs": [],
   "source": []
  },
  {
   "cell_type": "code",
   "execution_count": null,
   "metadata": {},
   "outputs": [],
   "source": []
  }
 ],
 "metadata": {
  "kernelspec": {
   "display_name": "Python 3",
   "language": "python",
   "name": "python3"
  },
  "language_info": {
   "codemirror_mode": {
    "name": "ipython",
    "version": 3
   },
   "file_extension": ".py",
   "mimetype": "text/x-python",
   "name": "python",
   "nbconvert_exporter": "python",
   "pygments_lexer": "ipython3",
   "version": "3.8.2"
  },
  "varInspector": {
   "cols": {
    "lenName": 16,
    "lenType": 16,
    "lenVar": 40
   },
   "kernels_config": {
    "python": {
     "delete_cmd_postfix": "",
     "delete_cmd_prefix": "del ",
     "library": "var_list.py",
     "varRefreshCmd": "print(var_dic_list())"
    },
    "r": {
     "delete_cmd_postfix": ") ",
     "delete_cmd_prefix": "rm(",
     "library": "var_list.r",
     "varRefreshCmd": "cat(var_dic_list()) "
    }
   },
   "types_to_exclude": [
    "module",
    "function",
    "builtin_function_or_method",
    "instance",
    "_Feature"
   ],
   "window_display": false
  }
 },
 "nbformat": 4,
 "nbformat_minor": 4
}
